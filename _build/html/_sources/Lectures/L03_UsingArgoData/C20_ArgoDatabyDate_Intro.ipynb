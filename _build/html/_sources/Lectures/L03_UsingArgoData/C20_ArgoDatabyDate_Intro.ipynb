{
 "cells": [
  {
   "cell_type": "markdown",
   "metadata": {},
   "source": [
    "# Accesing Argo data by date"
   ]
  },
  {
   "cell_type": "markdown",
   "metadata": {},
   "source": [
    "**Data files organized by date**\n",
    "\n",
    "<img src=\"https://github.com/euroargodev/argoonlineschool/raw/master/images/geo.png\" alt=\"geo organization\" width=\"650\"/>\n"
   ]
  },
  {
   "cell_type": "markdown",
   "metadata": {},
   "source": [
    "The geographical limits of Atlantic, Pacific and Indian oceans are:\n",
    "\n",
    "- The Pacific/Atlantic frontier is 70°W.\n",
    "- The Pacific/Indian frontier is 145°E.\n",
    "- The Atlantic/Indian frontier is 20°E. \n",
    "\n",
    "In each directory the data is organized by **year**, **month** and **day**, according to the date of the beginning of the profile."
   ]
  }
 ],
 "metadata": {
  "kernelspec": {
   "display_name": "Python 3 (ipykernel)",
   "language": "python",
   "name": "python3"
  },
  "language_info": {
   "codemirror_mode": {
    "name": "ipython",
    "version": 3
   },
   "file_extension": ".py",
   "mimetype": "text/x-python",
   "name": "python",
   "nbconvert_exporter": "python",
   "pygments_lexer": "ipython3",
   "version": "3.9.6"
  }
 },
 "nbformat": 4,
 "nbformat_minor": 4
}
