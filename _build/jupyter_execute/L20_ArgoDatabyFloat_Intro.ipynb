{
 "cells": [
  {
   "cell_type": "markdown",
   "metadata": {},
   "source": [
    "# Accesing Argo data by float"
   ]
  },
  {
   "cell_type": "markdown",
   "metadata": {},
   "source": [
    "**Real Time and Calibrated data**\n",
    "\n",
    "Since the target is to have the Argo data available within 24 hours of their transmission from the float, this data is called *Real Time* (RT) data.  One year after the data were observed it is, if necessary, adjusted and made public, this data is called *Delayed Mode* (DM). We will begin by focusing in the real time data, and in section [Adjusted data](https://euroargodev.github.io/argoonlineschool/L50_AdjustedData.html) we will describe how the data is adjusted."
   ]
  },
  {
   "cell_type": "markdown",
   "metadata": {},
   "source": [
    "**Data files organized by float**\n",
    "\n",
    "<img src=\"https://github.com/euroargodev/argoonlineschool/raw/master/images/dac.png\" alt=\"xarray logo\" width=\"650\"/>"
   ]
  },
  {
   "cell_type": "markdown",
   "metadata": {},
   "source": [
    "When accessing the **dac** folder in any of the *FTP* or *HTTP* sites of any of the two GDACs you will find several (11) folders, one for each of the DACs.  Within each one of these folder there is one folder for each one of the floats processed by this particular *DAC*. \n",
    "\n",
    "In the example here, we will use data from float with **WMO** number 6901254, that is proceesed by coriolis (later we will see how to find the DAC for each float), therefore within the folder `./6901254`, we find the following files and folder:\n",
    "\n",
    "- 6901254_Rtraj.nc \n",
    "- 6901254_meta.nc  \n",
    "- 6901254_prof.nc  \n",
    "- 6901254_tech.nc  \n",
    "- ./profiles\n",
    "\n",
    "we will describe the content of each of these files later, but let's focus on the folder `./profiles/` since it contains one file for each one of the hydrographic cycles carried out by the float. **R6901254_001.nc** is the file that contains the data from the first cycle. It begins with a *R* since it is the real time data, if it began with an *D* it would be adjusted data, or Delayed Mode data; we will see and example in section [**ACTUALIZAR**]. \n",
    "\n",
    "Additionally some argo floats, as 6901254, also made obserations in the first descent from the surface to the parking depth, in this case the name of the files with this data would be **R6901254_001D.nc**.  \n",
    "\n",
    "In general, the format of the file names for individual profiles are `<R/D><FloatWmoID>_<XXX><D>.nc` where :\n",
    "\n",
    "- The initial *R* indicates Real-Time data, the initial *D* indicates Delayed-Mode data\n",
    "- *XXX* is the cycle number\n",
    "- The second *D* indicates a descending profile, if exist, while profiles without this D are collected during ascent.\n",
    "\n",
    "\n",
    "Note that it may happens that, in the future, you try to downdload the fles from float 6901254 and there is not `R6901254_001.nc` and `R6901254_001D.nc` files, but you find `D6901254_001.nc` and `D6901254_001D.nc` since the R-files are substituded by the D-files once the data is adjusted, we will describe that in detail in section [**ACTUALIZAR**]"
   ]
  },
  {
   "cell_type": "markdown",
   "metadata": {},
   "source": [
    ">The data from the float is pre-downloaded in the *./Data* folder, but you can dowload it from the Coriolis GDAC. See the [Data](https://euroargodev.github.io/argoonlineschool/README.html#data) section for instructions on how to download the data.\n",
    "\n"
   ]
  }
 ],
 "metadata": {
  "kernelspec": {
   "display_name": "Python 3 (ipykernel)",
   "language": "python",
   "name": "python3"
  },
  "language_info": {
   "codemirror_mode": {
    "name": "ipython",
    "version": 3
   },
   "file_extension": ".py",
   "mimetype": "text/x-python",
   "name": "python",
   "nbconvert_exporter": "python",
   "pygments_lexer": "ipython3",
   "version": "3.9.6"
  }
 },
 "nbformat": 4,
 "nbformat_minor": 4
}