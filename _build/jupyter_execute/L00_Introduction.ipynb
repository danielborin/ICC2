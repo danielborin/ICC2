{
 "cells": [
  {
   "cell_type": "markdown",
   "metadata": {},
   "source": [
    "<img src=\"https://raw.githubusercontent.com/euroargodev/argoonlineschool/master/images/logoAoS.png\" alt=\"argopy logo\" width=\"100\"/>\n",
    "\n",
    "# Argo Online School\n",
    "\n",
    "The Argo Online school is a set of videos and hands-on jupyter notebooks to describe the minimum requiremets to use and understand, the Argo data. \n",
    "\n",
    "You can access the hands-on content here in a [JubyterBook](https://euroargodev.github.io/argoonlineschool) or download it and use in your local machine. In that case, you should create a python enviroment to use these notebooks. To create and activate the AOS enviroment\n",
    "\n",
    "```\n",
    "conda env create -f environment.yml\n",
    "conda activate AOS\n",
    "```\n",
    "\n",
    "if any library is missed you should install them using, for instance:\n",
    "\n",
    "```\n",
    "pip install netcdf4\n",
    "pip install xarray\n",
    "pip install seawater\n",
    "```\n",
    "\n",
    "This enviroment already includes the last stable version of [argopy](https://argopy.readthedocs.io/en/latest/), the python library for Argo data.\n",
    "\n",
    "## Data\n",
    "If you download the notebooks you should create a ./Data* folder to include the files used for the examples. The files in the Data folder can be dowloaded from [here](https://www.oceanografia.es/argoonlineschool/Data/) or directly from its source using _wget_, for instance:\n",
    "\n",
    "for the *Daily NOAA OI SST V2 High Resolution Dataset for 2009*:\n",
    "\n",
    "`! wget ftp://ftp2.psl.noaa.gov/Datasets/noaa.oisst.v2.highres/sst.day.mean.2019.nc`\n",
    "\n",
    "for the data from float 6900772:\n",
    "\n",
    "`wget ftp://ftp.ifremer.fr/ifremer/argo/dac/coriolis/6900772/*`\n",
    "\n",
    "or for the data in the north Atlantic for the 11th November 2019\n",
    "\n",
    "`! wget ftp://ftp.ifremer.fr/ifremer/argo//geo/indian_ocean/2019/11/20191111_prof.nc`\n",
    "\n",
    "## Further reading\n",
    "\n",
    "As a very useful first aproach to python, you can use [An Introduction to Earth and Environmental Data Science](https://earth-env-data-science.github.io/intro) and [Research computing in earth Sciences](https://rabernat.github.io/research_computing/) developed by [Ryan Abernathey](https://ocean-transport.github.io/) and Kerry Key.\n",
    "\n",
    "For the full description of the formats and files produced by the Argo Data Assembly Centres (DACs), see the [Argo user’s manual](https://archimer.ifremer.fr/doc/00187/29825/), the [Argo Quality Control Manual for CTD and Trajectory Data](https://archimer.ifremer.fr/doc/00228/33951/) or the [The Argo data management handbook](http://www.argodatamgt.org/content/download/340/2645/file/argo_data_management_handbook.pdf)\n",
    "\n",
    "More information can be found in the [Argo Steering Team web page](http://www.argo.ucsd.edu/) or the [Argo Data Management team documentation](http://www.argodatamgt.org/Documentation)\n"
   ]
  },
  {
   "cell_type": "markdown",
   "metadata": {},
   "source": [
    "**Before proceding, let's check if you really need this course** \n",
    "Try to answer the following questions**\n",
    "\n",
    "- what is a WMO number ?\n",
    "- what is the difference between Delayed and Real Time data mode ?\n",
    "- what is an adjusted parameter ?\n",
    "- what a QC flag of 3 means ?\n",
    "\n",
    "If you don’t answer to more than 1 questions, please keep reading (or watching). Even though if you answered all the questions but you are not very familiar with python, netCDF, or argopy, you may find interesting the content of this course."
   ]
  },
  {
   "cell_type": "code",
   "execution_count": null,
   "metadata": {},
   "outputs": [],
   "source": []
  }
 ],
 "metadata": {
  "kernelspec": {
   "display_name": "Python 3 (ipykernel)",
   "language": "python",
   "name": "python3"
  },
  "language_info": {
   "codemirror_mode": {
    "name": "ipython",
    "version": 3
   },
   "file_extension": ".py",
   "mimetype": "text/x-python",
   "name": "python",
   "nbconvert_exporter": "python",
   "pygments_lexer": "ipython3",
   "version": "3.9.6"
  }
 },
 "nbformat": 4,
 "nbformat_minor": 4
}