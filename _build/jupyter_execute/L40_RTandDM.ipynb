{
 "cells": [
  {
   "cell_type": "markdown",
   "metadata": {},
   "source": [
    "# Real-Time and Delayed mode data"
   ]
  },
  {
   "cell_type": "code",
   "execution_count": 4,
   "metadata": {
    "tags": [
     "hide_input"
    ]
   },
   "outputs": [
    {
     "data": {
      "text/html": [
       "<iframe src=\"https://drive.google.com/file/d/1vjOB1VEXqmfyDm5y30uRMSIeJGU_EShI/preview\" width=\"800\" height=\"480\" allow=\"autoplay\"></iframe>\n"
      ],
      "text/plain": [
       "<IPython.core.display.HTML object>"
      ]
     },
     "metadata": {},
     "output_type": "display_data"
    }
   ],
   "source": [
    "%%HTML\n",
    "<iframe src=\"https://drive.google.com/file/d/1vjOB1VEXqmfyDm5y30uRMSIeJGU_EShI/preview\" width=\"800\" height=\"480\" allow=\"autoplay\"></iframe>"
   ]
  },
  {
   "cell_type": "markdown",
   "metadata": {},
   "source": [
    "The Argo program guarantees free and quality data distribution to the entire scientific & operational community and the general public. Before that, data needs to be checked out through different controls to guarantee their homogeneity and quality within the established accuracy ranges (+/- 0.005ºC temperature and +/- 0.01 for salinity). The first control stage is the Real-Time (RT) quality control and the last stage is called the Delayed - Mode (DM) quality control. So far we have accesed the data, but without paying attention to its quality. \n",
    "\n",
    "\n",
    "\n",
    "\n",
    "\n",
    "\n",
    "\n",
    "The Argo network provides both quality control (QC) flags and errors to help users decide if they want to use the data or not. There are flags for both the raw and adjusted data. Let's focus on the Real Time data."
   ]
  },
  {
   "cell_type": "markdown",
   "metadata": {},
   "source": [
    "\n"
   ]
  }
 ],
 "metadata": {
  "kernelspec": {
   "display_name": "Python 3 (ipykernel)",
   "language": "python",
   "name": "python3"
  },
  "language_info": {
   "codemirror_mode": {
    "name": "ipython",
    "version": 3
   },
   "file_extension": ".py",
   "mimetype": "text/x-python",
   "name": "python",
   "nbconvert_exporter": "python",
   "pygments_lexer": "ipython3",
   "version": "3.9.6"
  }
 },
 "nbformat": 4,
 "nbformat_minor": 4
}