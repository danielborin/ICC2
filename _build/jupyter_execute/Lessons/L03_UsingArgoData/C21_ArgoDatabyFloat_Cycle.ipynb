{
 "cells": [
  {
   "cell_type": "markdown",
   "metadata": {},
   "source": [
    "# Reading an Argo CTD cycle data"
   ]
  },
  {
   "cell_type": "markdown",
   "metadata": {},
   "source": [
    "## The first cycle\n",
    "\n",
    "<img src=\"https://github.com/euroargodev/argoonlineschool/raw/master/images/ArgoCycle.png\" alt=\"ArgoCycle\" width=\"1200\"/>\n",
    "\n",
    "An **Argo cycle** starts with a descent toward deep water, usually from the surface, and ends after the next programmed ascent to the surface (see the figure). During the surface interval, data transmission typically occurs but it is not a requirement for a cycle to have occurred, but if ocurrs, the cycle ends after the full surface interval has been completed.\n",
    "\n",
    "Nowdays Argo floats can measure differnte parametres, however, we will focus in what is called the *[Argo core mission](https://argo.ucsd.edu/about/mission/)* ,this is observations of temperature, salinity and pressure down to 2000 metres of depth. The measurements are performed during ascent, occasionally during descent, and  subsurface measurements during parking are sometime performed.\n",
    "\n",
    "Each cycle of a float has a unique number, increased by one after each ascent to the surfce or shallow water. Float cycle numbers usually start at 1. The next cycles are increasing numbers (e.g. 2, 3,...N). Some floats report a cycle 0, called *launch cycle*, that is shorther than the regular cycles. The cycle time is therefore regular only for later profiles and may be variable if the float is reprogrammed after its deployment.\n",
    "\n",
    "For those floats with cycle 0, if there is an initial descend profile, it would be on cycle 0."
   ]
  },
  {
   "cell_type": "markdown",
   "metadata": {},
   "source": [
    "First, import libraries"
   ]
  },
  {
   "cell_type": "code",
   "execution_count": 1,
   "metadata": {},
   "outputs": [],
   "source": [
    "import numpy as np\n",
    "import xarray as xr\n",
    "import netCDF4\n",
    "from matplotlib import pyplot as plt\n",
    "%matplotlib inline"
   ]
  },
  {
   "cell_type": "code",
   "execution_count": 2,
   "metadata": {},
   "outputs": [],
   "source": [
    "cy1  = xr.open_dataset('./Data/6901254/profiles/R6901254_001.nc')"
   ]
  },
  {
   "cell_type": "markdown",
   "metadata": {},
   "source": [
    "Printing the object gives you summary information"
   ]
  },
  {
   "cell_type": "code",
   "execution_count": 3,
   "metadata": {},
   "outputs": [
    {
     "data": {
      "text/html": [
       "<div><svg style=\"position: absolute; width: 0; height: 0; overflow: hidden\">\n",
       "<defs>\n",
       "<symbol id=\"icon-database\" viewBox=\"0 0 32 32\">\n",
       "<path d=\"M16 0c-8.837 0-16 2.239-16 5v4c0 2.761 7.163 5 16 5s16-2.239 16-5v-4c0-2.761-7.163-5-16-5z\"></path>\n",
       "<path d=\"M16 17c-8.837 0-16-2.239-16-5v6c0 2.761 7.163 5 16 5s16-2.239 16-5v-6c0 2.761-7.163 5-16 5z\"></path>\n",
       "<path d=\"M16 26c-8.837 0-16-2.239-16-5v6c0 2.761 7.163 5 16 5s16-2.239 16-5v-6c0 2.761-7.163 5-16 5z\"></path>\n",
       "</symbol>\n",
       "<symbol id=\"icon-file-text2\" viewBox=\"0 0 32 32\">\n",
       "<path d=\"M28.681 7.159c-0.694-0.947-1.662-2.053-2.724-3.116s-2.169-2.030-3.116-2.724c-1.612-1.182-2.393-1.319-2.841-1.319h-15.5c-1.378 0-2.5 1.121-2.5 2.5v27c0 1.378 1.122 2.5 2.5 2.5h23c1.378 0 2.5-1.122 2.5-2.5v-19.5c0-0.448-0.137-1.23-1.319-2.841zM24.543 5.457c0.959 0.959 1.712 1.825 2.268 2.543h-4.811v-4.811c0.718 0.556 1.584 1.309 2.543 2.268zM28 29.5c0 0.271-0.229 0.5-0.5 0.5h-23c-0.271 0-0.5-0.229-0.5-0.5v-27c0-0.271 0.229-0.5 0.5-0.5 0 0 15.499-0 15.5 0v7c0 0.552 0.448 1 1 1h7v19.5z\"></path>\n",
       "<path d=\"M23 26h-14c-0.552 0-1-0.448-1-1s0.448-1 1-1h14c0.552 0 1 0.448 1 1s-0.448 1-1 1z\"></path>\n",
       "<path d=\"M23 22h-14c-0.552 0-1-0.448-1-1s0.448-1 1-1h14c0.552 0 1 0.448 1 1s-0.448 1-1 1z\"></path>\n",
       "<path d=\"M23 18h-14c-0.552 0-1-0.448-1-1s0.448-1 1-1h14c0.552 0 1 0.448 1 1s-0.448 1-1 1z\"></path>\n",
       "</symbol>\n",
       "</defs>\n",
       "</svg>\n",
       "<style>/* CSS stylesheet for displaying xarray objects in jupyterlab.\n",
       " *\n",
       " */\n",
       "\n",
       ":root {\n",
       "  --xr-font-color0: var(--jp-content-font-color0, rgba(0, 0, 0, 1));\n",
       "  --xr-font-color2: var(--jp-content-font-color2, rgba(0, 0, 0, 0.54));\n",
       "  --xr-font-color3: var(--jp-content-font-color3, rgba(0, 0, 0, 0.38));\n",
       "  --xr-border-color: var(--jp-border-color2, #e0e0e0);\n",
       "  --xr-disabled-color: var(--jp-layout-color3, #bdbdbd);\n",
       "  --xr-background-color: var(--jp-layout-color0, white);\n",
       "  --xr-background-color-row-even: var(--jp-layout-color1, white);\n",
       "  --xr-background-color-row-odd: var(--jp-layout-color2, #eeeeee);\n",
       "}\n",
       "\n",
       "html[theme=dark],\n",
       "body.vscode-dark {\n",
       "  --xr-font-color0: rgba(255, 255, 255, 1);\n",
       "  --xr-font-color2: rgba(255, 255, 255, 0.54);\n",
       "  --xr-font-color3: rgba(255, 255, 255, 0.38);\n",
       "  --xr-border-color: #1F1F1F;\n",
       "  --xr-disabled-color: #515151;\n",
       "  --xr-background-color: #111111;\n",
       "  --xr-background-color-row-even: #111111;\n",
       "  --xr-background-color-row-odd: #313131;\n",
       "}\n",
       "\n",
       ".xr-wrap {\n",
       "  display: block;\n",
       "  min-width: 300px;\n",
       "  max-width: 700px;\n",
       "}\n",
       "\n",
       ".xr-text-repr-fallback {\n",
       "  /* fallback to plain text repr when CSS is not injected (untrusted notebook) */\n",
       "  display: none;\n",
       "}\n",
       "\n",
       ".xr-header {\n",
       "  padding-top: 6px;\n",
       "  padding-bottom: 6px;\n",
       "  margin-bottom: 4px;\n",
       "  border-bottom: solid 1px var(--xr-border-color);\n",
       "}\n",
       "\n",
       ".xr-header > div,\n",
       ".xr-header > ul {\n",
       "  display: inline;\n",
       "  margin-top: 0;\n",
       "  margin-bottom: 0;\n",
       "}\n",
       "\n",
       ".xr-obj-type,\n",
       ".xr-array-name {\n",
       "  margin-left: 2px;\n",
       "  margin-right: 10px;\n",
       "}\n",
       "\n",
       ".xr-obj-type {\n",
       "  color: var(--xr-font-color2);\n",
       "}\n",
       "\n",
       ".xr-sections {\n",
       "  padding-left: 0 !important;\n",
       "  display: grid;\n",
       "  grid-template-columns: 150px auto auto 1fr 20px 20px;\n",
       "}\n",
       "\n",
       ".xr-section-item {\n",
       "  display: contents;\n",
       "}\n",
       "\n",
       ".xr-section-item input {\n",
       "  display: none;\n",
       "}\n",
       "\n",
       ".xr-section-item input + label {\n",
       "  color: var(--xr-disabled-color);\n",
       "}\n",
       "\n",
       ".xr-section-item input:enabled + label {\n",
       "  cursor: pointer;\n",
       "  color: var(--xr-font-color2);\n",
       "}\n",
       "\n",
       ".xr-section-item input:enabled + label:hover {\n",
       "  color: var(--xr-font-color0);\n",
       "}\n",
       "\n",
       ".xr-section-summary {\n",
       "  grid-column: 1;\n",
       "  color: var(--xr-font-color2);\n",
       "  font-weight: 500;\n",
       "}\n",
       "\n",
       ".xr-section-summary > span {\n",
       "  display: inline-block;\n",
       "  padding-left: 0.5em;\n",
       "}\n",
       "\n",
       ".xr-section-summary-in:disabled + label {\n",
       "  color: var(--xr-font-color2);\n",
       "}\n",
       "\n",
       ".xr-section-summary-in + label:before {\n",
       "  display: inline-block;\n",
       "  content: '►';\n",
       "  font-size: 11px;\n",
       "  width: 15px;\n",
       "  text-align: center;\n",
       "}\n",
       "\n",
       ".xr-section-summary-in:disabled + label:before {\n",
       "  color: var(--xr-disabled-color);\n",
       "}\n",
       "\n",
       ".xr-section-summary-in:checked + label:before {\n",
       "  content: '▼';\n",
       "}\n",
       "\n",
       ".xr-section-summary-in:checked + label > span {\n",
       "  display: none;\n",
       "}\n",
       "\n",
       ".xr-section-summary,\n",
       ".xr-section-inline-details {\n",
       "  padding-top: 4px;\n",
       "  padding-bottom: 4px;\n",
       "}\n",
       "\n",
       ".xr-section-inline-details {\n",
       "  grid-column: 2 / -1;\n",
       "}\n",
       "\n",
       ".xr-section-details {\n",
       "  display: none;\n",
       "  grid-column: 1 / -1;\n",
       "  margin-bottom: 5px;\n",
       "}\n",
       "\n",
       ".xr-section-summary-in:checked ~ .xr-section-details {\n",
       "  display: contents;\n",
       "}\n",
       "\n",
       ".xr-array-wrap {\n",
       "  grid-column: 1 / -1;\n",
       "  display: grid;\n",
       "  grid-template-columns: 20px auto;\n",
       "}\n",
       "\n",
       ".xr-array-wrap > label {\n",
       "  grid-column: 1;\n",
       "  vertical-align: top;\n",
       "}\n",
       "\n",
       ".xr-preview {\n",
       "  color: var(--xr-font-color3);\n",
       "}\n",
       "\n",
       ".xr-array-preview,\n",
       ".xr-array-data {\n",
       "  padding: 0 5px !important;\n",
       "  grid-column: 2;\n",
       "}\n",
       "\n",
       ".xr-array-data,\n",
       ".xr-array-in:checked ~ .xr-array-preview {\n",
       "  display: none;\n",
       "}\n",
       "\n",
       ".xr-array-in:checked ~ .xr-array-data,\n",
       ".xr-array-preview {\n",
       "  display: inline-block;\n",
       "}\n",
       "\n",
       ".xr-dim-list {\n",
       "  display: inline-block !important;\n",
       "  list-style: none;\n",
       "  padding: 0 !important;\n",
       "  margin: 0;\n",
       "}\n",
       "\n",
       ".xr-dim-list li {\n",
       "  display: inline-block;\n",
       "  padding: 0;\n",
       "  margin: 0;\n",
       "}\n",
       "\n",
       ".xr-dim-list:before {\n",
       "  content: '(';\n",
       "}\n",
       "\n",
       ".xr-dim-list:after {\n",
       "  content: ')';\n",
       "}\n",
       "\n",
       ".xr-dim-list li:not(:last-child):after {\n",
       "  content: ',';\n",
       "  padding-right: 5px;\n",
       "}\n",
       "\n",
       ".xr-has-index {\n",
       "  font-weight: bold;\n",
       "}\n",
       "\n",
       ".xr-var-list,\n",
       ".xr-var-item {\n",
       "  display: contents;\n",
       "}\n",
       "\n",
       ".xr-var-item > div,\n",
       ".xr-var-item label,\n",
       ".xr-var-item > .xr-var-name span {\n",
       "  background-color: var(--xr-background-color-row-even);\n",
       "  margin-bottom: 0;\n",
       "}\n",
       "\n",
       ".xr-var-item > .xr-var-name:hover span {\n",
       "  padding-right: 5px;\n",
       "}\n",
       "\n",
       ".xr-var-list > li:nth-child(odd) > div,\n",
       ".xr-var-list > li:nth-child(odd) > label,\n",
       ".xr-var-list > li:nth-child(odd) > .xr-var-name span {\n",
       "  background-color: var(--xr-background-color-row-odd);\n",
       "}\n",
       "\n",
       ".xr-var-name {\n",
       "  grid-column: 1;\n",
       "}\n",
       "\n",
       ".xr-var-dims {\n",
       "  grid-column: 2;\n",
       "}\n",
       "\n",
       ".xr-var-dtype {\n",
       "  grid-column: 3;\n",
       "  text-align: right;\n",
       "  color: var(--xr-font-color2);\n",
       "}\n",
       "\n",
       ".xr-var-preview {\n",
       "  grid-column: 4;\n",
       "}\n",
       "\n",
       ".xr-var-name,\n",
       ".xr-var-dims,\n",
       ".xr-var-dtype,\n",
       ".xr-preview,\n",
       ".xr-attrs dt {\n",
       "  white-space: nowrap;\n",
       "  overflow: hidden;\n",
       "  text-overflow: ellipsis;\n",
       "  padding-right: 10px;\n",
       "}\n",
       "\n",
       ".xr-var-name:hover,\n",
       ".xr-var-dims:hover,\n",
       ".xr-var-dtype:hover,\n",
       ".xr-attrs dt:hover {\n",
       "  overflow: visible;\n",
       "  width: auto;\n",
       "  z-index: 1;\n",
       "}\n",
       "\n",
       ".xr-var-attrs,\n",
       ".xr-var-data {\n",
       "  display: none;\n",
       "  background-color: var(--xr-background-color) !important;\n",
       "  padding-bottom: 5px !important;\n",
       "}\n",
       "\n",
       ".xr-var-attrs-in:checked ~ .xr-var-attrs,\n",
       ".xr-var-data-in:checked ~ .xr-var-data {\n",
       "  display: block;\n",
       "}\n",
       "\n",
       ".xr-var-data > table {\n",
       "  float: right;\n",
       "}\n",
       "\n",
       ".xr-var-name span,\n",
       ".xr-var-data,\n",
       ".xr-attrs {\n",
       "  padding-left: 25px !important;\n",
       "}\n",
       "\n",
       ".xr-attrs,\n",
       ".xr-var-attrs,\n",
       ".xr-var-data {\n",
       "  grid-column: 1 / -1;\n",
       "}\n",
       "\n",
       "dl.xr-attrs {\n",
       "  padding: 0;\n",
       "  margin: 0;\n",
       "  display: grid;\n",
       "  grid-template-columns: 125px auto;\n",
       "}\n",
       "\n",
       ".xr-attrs dt,\n",
       ".xr-attrs dd {\n",
       "  padding: 0;\n",
       "  margin: 0;\n",
       "  float: left;\n",
       "  padding-right: 10px;\n",
       "  width: auto;\n",
       "}\n",
       "\n",
       ".xr-attrs dt {\n",
       "  font-weight: normal;\n",
       "  grid-column: 1;\n",
       "}\n",
       "\n",
       ".xr-attrs dt:hover span {\n",
       "  display: inline-block;\n",
       "  background: var(--xr-background-color);\n",
       "  padding-right: 10px;\n",
       "}\n",
       "\n",
       ".xr-attrs dd {\n",
       "  grid-column: 2;\n",
       "  white-space: pre-wrap;\n",
       "  word-break: break-all;\n",
       "}\n",
       "\n",
       ".xr-icon-database,\n",
       ".xr-icon-file-text2 {\n",
       "  display: inline-block;\n",
       "  vertical-align: middle;\n",
       "  width: 1em;\n",
       "  height: 1.5em !important;\n",
       "  stroke-width: 0;\n",
       "  stroke: currentColor;\n",
       "  fill: currentColor;\n",
       "}\n",
       "</style><pre class='xr-text-repr-fallback'>&lt;xarray.Dataset&gt;\n",
       "Dimensions:                       (N_PROF: 2, N_PARAM: 3, N_LEVELS: 97, N_HISTORY: 3, N_CALIB: 1)\n",
       "Dimensions without coordinates: N_PROF, N_PARAM, N_LEVELS, N_HISTORY, N_CALIB\n",
       "Data variables: (12/64)\n",
       "    DATA_TYPE                     object b&#x27;Argo profile    &#x27;\n",
       "    FORMAT_VERSION                object b&#x27;3.1 &#x27;\n",
       "    HANDBOOK_VERSION              object b&#x27;1.2 &#x27;\n",
       "    REFERENCE_DATE_TIME           object b&#x27;19500101000000&#x27;\n",
       "    DATE_CREATION                 object b&#x27;20190115112518&#x27;\n",
       "    DATE_UPDATE                   object b&#x27;20190115112524&#x27;\n",
       "    ...                            ...\n",
       "    HISTORY_QCTEST                (N_HISTORY, N_PROF) object b&#x27;              ...\n",
       "    PARAMETER                     (N_PROF, N_CALIB, N_PARAM) object b&#x27;PRES   ...\n",
       "    SCIENTIFIC_CALIB_EQUATION     (N_PROF, N_CALIB, N_PARAM) object b&#x27;       ...\n",
       "    SCIENTIFIC_CALIB_COEFFICIENT  (N_PROF, N_CALIB, N_PARAM) object b&#x27;       ...\n",
       "    SCIENTIFIC_CALIB_COMMENT      (N_PROF, N_CALIB, N_PARAM) object b&#x27;       ...\n",
       "    SCIENTIFIC_CALIB_DATE         (N_PROF, N_CALIB, N_PARAM) object b&#x27;       ...\n",
       "Attributes:\n",
       "    title:                Argo float vertical profile\n",
       "    institution:          CORIOLIS\n",
       "    source:               Argo float\n",
       "    history:              2019-01-15T11:25:18Z creation; 2019-01-15T11:25:24Z...\n",
       "    references:           http://www.argodatamgt.org/Documentation\n",
       "    user_manual_version:  3.1\n",
       "    Conventions:          Argo-3.1 CF-1.6\n",
       "    featureType:          trajectoryProfile\n",
       "    decoder_version:      CODA_027d</pre><div class='xr-wrap' hidden><div class='xr-header'><div class='xr-obj-type'>xarray.Dataset</div></div><ul class='xr-sections'><li class='xr-section-item'><input id='section-6d986999-0b70-4bc5-bf9c-6266fd02c023' class='xr-section-summary-in' type='checkbox' disabled ><label for='section-6d986999-0b70-4bc5-bf9c-6266fd02c023' class='xr-section-summary'  title='Expand/collapse section'>Dimensions:</label><div class='xr-section-inline-details'><ul class='xr-dim-list'><li><span>N_PROF</span>: 2</li><li><span>N_PARAM</span>: 3</li><li><span>N_LEVELS</span>: 97</li><li><span>N_HISTORY</span>: 3</li><li><span>N_CALIB</span>: 1</li></ul></div><div class='xr-section-details'></div></li><li class='xr-section-item'><input id='section-b8eeb532-0bcd-481d-9827-e93d1025c94d' class='xr-section-summary-in' type='checkbox' disabled ><label for='section-b8eeb532-0bcd-481d-9827-e93d1025c94d' class='xr-section-summary'  title='Expand/collapse section'>Coordinates: <span>(0)</span></label><div class='xr-section-inline-details'></div><div class='xr-section-details'><ul class='xr-var-list'></ul></div></li><li class='xr-section-item'><input id='section-67efa662-77f9-4f93-af79-8392f13f24bd' class='xr-section-summary-in' type='checkbox'  ><label for='section-67efa662-77f9-4f93-af79-8392f13f24bd' class='xr-section-summary' >Data variables: <span>(64)</span></label><div class='xr-section-inline-details'></div><div class='xr-section-details'><ul class='xr-var-list'><li class='xr-var-item'><div class='xr-var-name'><span>DATA_TYPE</span></div><div class='xr-var-dims'>()</div><div class='xr-var-dtype'>object</div><div class='xr-var-preview xr-preview'>...</div><input id='attrs-0c752601-26b5-442d-bf61-ceeabd417d63' class='xr-var-attrs-in' type='checkbox' ><label for='attrs-0c752601-26b5-442d-bf61-ceeabd417d63' title='Show/Hide attributes'><svg class='icon xr-icon-file-text2'><use xlink:href='#icon-file-text2'></use></svg></label><input id='data-34a23af3-4b86-43eb-ba20-8ca916681239' class='xr-var-data-in' type='checkbox'><label for='data-34a23af3-4b86-43eb-ba20-8ca916681239' title='Show/Hide data repr'><svg class='icon xr-icon-database'><use xlink:href='#icon-database'></use></svg></label><div class='xr-var-attrs'><dl class='xr-attrs'><dt><span>long_name :</span></dt><dd>Data type</dd><dt><span>conventions :</span></dt><dd>Argo reference table 1</dd></dl></div><div class='xr-var-data'><pre>array(b&#x27;Argo profile    &#x27;, dtype=object)</pre></div></li><li class='xr-var-item'><div class='xr-var-name'><span>FORMAT_VERSION</span></div><div class='xr-var-dims'>()</div><div class='xr-var-dtype'>object</div><div class='xr-var-preview xr-preview'>...</div><input id='attrs-c8928ba2-ee27-4077-8ee6-fc0d5cbac38d' class='xr-var-attrs-in' type='checkbox' ><label for='attrs-c8928ba2-ee27-4077-8ee6-fc0d5cbac38d' title='Show/Hide attributes'><svg class='icon xr-icon-file-text2'><use xlink:href='#icon-file-text2'></use></svg></label><input id='data-6d81968c-af46-4cdf-b1ae-88678ee40861' class='xr-var-data-in' type='checkbox'><label for='data-6d81968c-af46-4cdf-b1ae-88678ee40861' title='Show/Hide data repr'><svg class='icon xr-icon-database'><use xlink:href='#icon-database'></use></svg></label><div class='xr-var-attrs'><dl class='xr-attrs'><dt><span>long_name :</span></dt><dd>File format version</dd></dl></div><div class='xr-var-data'><pre>array(b&#x27;3.1 &#x27;, dtype=object)</pre></div></li><li class='xr-var-item'><div class='xr-var-name'><span>HANDBOOK_VERSION</span></div><div class='xr-var-dims'>()</div><div class='xr-var-dtype'>object</div><div class='xr-var-preview xr-preview'>...</div><input id='attrs-babd30d5-0b1f-4c68-9065-db66d27451f8' class='xr-var-attrs-in' type='checkbox' ><label for='attrs-babd30d5-0b1f-4c68-9065-db66d27451f8' title='Show/Hide attributes'><svg class='icon xr-icon-file-text2'><use xlink:href='#icon-file-text2'></use></svg></label><input id='data-c388bc36-60d9-40f1-963b-47019738e54a' class='xr-var-data-in' type='checkbox'><label for='data-c388bc36-60d9-40f1-963b-47019738e54a' title='Show/Hide data repr'><svg class='icon xr-icon-database'><use xlink:href='#icon-database'></use></svg></label><div class='xr-var-attrs'><dl class='xr-attrs'><dt><span>long_name :</span></dt><dd>Data handbook version</dd></dl></div><div class='xr-var-data'><pre>array(b&#x27;1.2 &#x27;, dtype=object)</pre></div></li><li class='xr-var-item'><div class='xr-var-name'><span>REFERENCE_DATE_TIME</span></div><div class='xr-var-dims'>()</div><div class='xr-var-dtype'>object</div><div class='xr-var-preview xr-preview'>...</div><input id='attrs-9bc1ee03-477a-45b8-8ec2-4411ad9f915c' class='xr-var-attrs-in' type='checkbox' ><label for='attrs-9bc1ee03-477a-45b8-8ec2-4411ad9f915c' title='Show/Hide attributes'><svg class='icon xr-icon-file-text2'><use xlink:href='#icon-file-text2'></use></svg></label><input id='data-aee7df45-2045-49a5-b761-250675495915' class='xr-var-data-in' type='checkbox'><label for='data-aee7df45-2045-49a5-b761-250675495915' title='Show/Hide data repr'><svg class='icon xr-icon-database'><use xlink:href='#icon-database'></use></svg></label><div class='xr-var-attrs'><dl class='xr-attrs'><dt><span>long_name :</span></dt><dd>Date of reference for Julian days</dd><dt><span>conventions :</span></dt><dd>YYYYMMDDHHMISS</dd></dl></div><div class='xr-var-data'><pre>array(b&#x27;19500101000000&#x27;, dtype=object)</pre></div></li><li class='xr-var-item'><div class='xr-var-name'><span>DATE_CREATION</span></div><div class='xr-var-dims'>()</div><div class='xr-var-dtype'>object</div><div class='xr-var-preview xr-preview'>...</div><input id='attrs-1700ee81-7207-4e64-bae4-8b4ed1981db8' class='xr-var-attrs-in' type='checkbox' ><label for='attrs-1700ee81-7207-4e64-bae4-8b4ed1981db8' title='Show/Hide attributes'><svg class='icon xr-icon-file-text2'><use xlink:href='#icon-file-text2'></use></svg></label><input id='data-cc46e8b2-ffd0-489d-9df1-bc3cfec6a9ba' class='xr-var-data-in' type='checkbox'><label for='data-cc46e8b2-ffd0-489d-9df1-bc3cfec6a9ba' title='Show/Hide data repr'><svg class='icon xr-icon-database'><use xlink:href='#icon-database'></use></svg></label><div class='xr-var-attrs'><dl class='xr-attrs'><dt><span>long_name :</span></dt><dd>Date of file creation</dd><dt><span>conventions :</span></dt><dd>YYYYMMDDHHMISS</dd></dl></div><div class='xr-var-data'><pre>array(b&#x27;20190115112518&#x27;, dtype=object)</pre></div></li><li class='xr-var-item'><div class='xr-var-name'><span>DATE_UPDATE</span></div><div class='xr-var-dims'>()</div><div class='xr-var-dtype'>object</div><div class='xr-var-preview xr-preview'>...</div><input id='attrs-1769f9d3-dabd-4987-8b5e-703269036b9b' class='xr-var-attrs-in' type='checkbox' ><label for='attrs-1769f9d3-dabd-4987-8b5e-703269036b9b' title='Show/Hide attributes'><svg class='icon xr-icon-file-text2'><use xlink:href='#icon-file-text2'></use></svg></label><input id='data-8ec222b1-0626-410f-814f-a6340f787a52' class='xr-var-data-in' type='checkbox'><label for='data-8ec222b1-0626-410f-814f-a6340f787a52' title='Show/Hide data repr'><svg class='icon xr-icon-database'><use xlink:href='#icon-database'></use></svg></label><div class='xr-var-attrs'><dl class='xr-attrs'><dt><span>long_name :</span></dt><dd>Date of update of this file</dd><dt><span>conventions :</span></dt><dd>YYYYMMDDHHMISS</dd></dl></div><div class='xr-var-data'><pre>array(b&#x27;20190115112524&#x27;, dtype=object)</pre></div></li><li class='xr-var-item'><div class='xr-var-name'><span>PLATFORM_NUMBER</span></div><div class='xr-var-dims'>(N_PROF)</div><div class='xr-var-dtype'>object</div><div class='xr-var-preview xr-preview'>...</div><input id='attrs-87b6012c-d697-4ab5-af27-d9e0cc63f023' class='xr-var-attrs-in' type='checkbox' ><label for='attrs-87b6012c-d697-4ab5-af27-d9e0cc63f023' title='Show/Hide attributes'><svg class='icon xr-icon-file-text2'><use xlink:href='#icon-file-text2'></use></svg></label><input id='data-5a78acca-adf0-4d96-8d5c-412142211c60' class='xr-var-data-in' type='checkbox'><label for='data-5a78acca-adf0-4d96-8d5c-412142211c60' title='Show/Hide data repr'><svg class='icon xr-icon-database'><use xlink:href='#icon-database'></use></svg></label><div class='xr-var-attrs'><dl class='xr-attrs'><dt><span>long_name :</span></dt><dd>Float unique identifier</dd><dt><span>conventions :</span></dt><dd>WMO float identifier : A9IIIII</dd></dl></div><div class='xr-var-data'><pre>array([b&#x27;6901254 &#x27;, b&#x27;6901254 &#x27;], dtype=object)</pre></div></li><li class='xr-var-item'><div class='xr-var-name'><span>PROJECT_NAME</span></div><div class='xr-var-dims'>(N_PROF)</div><div class='xr-var-dtype'>object</div><div class='xr-var-preview xr-preview'>...</div><input id='attrs-077c74f7-35a5-4b84-ac06-4e78667b25ec' class='xr-var-attrs-in' type='checkbox' ><label for='attrs-077c74f7-35a5-4b84-ac06-4e78667b25ec' title='Show/Hide attributes'><svg class='icon xr-icon-file-text2'><use xlink:href='#icon-file-text2'></use></svg></label><input id='data-e7245359-90ef-4e6b-ba01-1bf0b8787549' class='xr-var-data-in' type='checkbox'><label for='data-e7245359-90ef-4e6b-ba01-1bf0b8787549' title='Show/Hide data repr'><svg class='icon xr-icon-database'><use xlink:href='#icon-database'></use></svg></label><div class='xr-var-attrs'><dl class='xr-attrs'><dt><span>long_name :</span></dt><dd>Name of the project</dd></dl></div><div class='xr-var-data'><pre>array([b&#x27;ARGO SPAIN                                                      &#x27;,\n",
       "       b&#x27;ARGO SPAIN                                                      &#x27;],\n",
       "      dtype=object)</pre></div></li><li class='xr-var-item'><div class='xr-var-name'><span>PI_NAME</span></div><div class='xr-var-dims'>(N_PROF)</div><div class='xr-var-dtype'>object</div><div class='xr-var-preview xr-preview'>...</div><input id='attrs-ff062d68-cd43-4b93-b234-8f4dda8fbd6b' class='xr-var-attrs-in' type='checkbox' ><label for='attrs-ff062d68-cd43-4b93-b234-8f4dda8fbd6b' title='Show/Hide attributes'><svg class='icon xr-icon-file-text2'><use xlink:href='#icon-file-text2'></use></svg></label><input id='data-a925675d-a4e1-41d5-93c1-6070ebfe7dc6' class='xr-var-data-in' type='checkbox'><label for='data-a925675d-a4e1-41d5-93c1-6070ebfe7dc6' title='Show/Hide data repr'><svg class='icon xr-icon-database'><use xlink:href='#icon-database'></use></svg></label><div class='xr-var-attrs'><dl class='xr-attrs'><dt><span>long_name :</span></dt><dd>Name of the principal investigator</dd></dl></div><div class='xr-var-data'><pre>array([b&#x27;Pedro Velez                                                     &#x27;,\n",
       "       b&#x27;Pedro Velez                                                     &#x27;],\n",
       "      dtype=object)</pre></div></li><li class='xr-var-item'><div class='xr-var-name'><span>STATION_PARAMETERS</span></div><div class='xr-var-dims'>(N_PROF, N_PARAM)</div><div class='xr-var-dtype'>object</div><div class='xr-var-preview xr-preview'>...</div><input id='attrs-18afcafc-0c47-4f64-bb43-869ff0f24bc6' class='xr-var-attrs-in' type='checkbox' ><label for='attrs-18afcafc-0c47-4f64-bb43-869ff0f24bc6' title='Show/Hide attributes'><svg class='icon xr-icon-file-text2'><use xlink:href='#icon-file-text2'></use></svg></label><input id='data-17ebb4e3-c47d-4999-9e83-48701af102e7' class='xr-var-data-in' type='checkbox'><label for='data-17ebb4e3-c47d-4999-9e83-48701af102e7' title='Show/Hide data repr'><svg class='icon xr-icon-database'><use xlink:href='#icon-database'></use></svg></label><div class='xr-var-attrs'><dl class='xr-attrs'><dt><span>long_name :</span></dt><dd>List of available parameters for the station</dd><dt><span>conventions :</span></dt><dd>Argo reference table 3</dd></dl></div><div class='xr-var-data'><pre>array([[b&#x27;PRES            &#x27;, b&#x27;TEMP            &#x27;, b&#x27;PSAL            &#x27;],\n",
       "       [b&#x27;PRES            &#x27;, b&#x27;TEMP            &#x27;, b&#x27;PSAL            &#x27;]],\n",
       "      dtype=object)</pre></div></li><li class='xr-var-item'><div class='xr-var-name'><span>CYCLE_NUMBER</span></div><div class='xr-var-dims'>(N_PROF)</div><div class='xr-var-dtype'>float64</div><div class='xr-var-preview xr-preview'>...</div><input id='attrs-eee95a1a-81ce-45c6-a9a1-198b5d3d0a95' class='xr-var-attrs-in' type='checkbox' ><label for='attrs-eee95a1a-81ce-45c6-a9a1-198b5d3d0a95' title='Show/Hide attributes'><svg class='icon xr-icon-file-text2'><use xlink:href='#icon-file-text2'></use></svg></label><input id='data-126b6f34-c612-4adf-883f-fa5dd6d3ce1d' class='xr-var-data-in' type='checkbox'><label for='data-126b6f34-c612-4adf-883f-fa5dd6d3ce1d' title='Show/Hide data repr'><svg class='icon xr-icon-database'><use xlink:href='#icon-database'></use></svg></label><div class='xr-var-attrs'><dl class='xr-attrs'><dt><span>long_name :</span></dt><dd>Float cycle number</dd><dt><span>conventions :</span></dt><dd>0...N, 0 : launch cycle (if exists), 1 : first complete cycle</dd></dl></div><div class='xr-var-data'><pre>array([1., 1.])</pre></div></li><li class='xr-var-item'><div class='xr-var-name'><span>DIRECTION</span></div><div class='xr-var-dims'>(N_PROF)</div><div class='xr-var-dtype'>object</div><div class='xr-var-preview xr-preview'>...</div><input id='attrs-1ed279de-dfc8-4b88-b4f8-d58f467d9833' class='xr-var-attrs-in' type='checkbox' ><label for='attrs-1ed279de-dfc8-4b88-b4f8-d58f467d9833' title='Show/Hide attributes'><svg class='icon xr-icon-file-text2'><use xlink:href='#icon-file-text2'></use></svg></label><input id='data-6576a6a5-d380-4683-9cb3-30b7024b8fab' class='xr-var-data-in' type='checkbox'><label for='data-6576a6a5-d380-4683-9cb3-30b7024b8fab' title='Show/Hide data repr'><svg class='icon xr-icon-database'><use xlink:href='#icon-database'></use></svg></label><div class='xr-var-attrs'><dl class='xr-attrs'><dt><span>long_name :</span></dt><dd>Direction of the station profiles</dd><dt><span>conventions :</span></dt><dd>A: ascending profiles, D: descending profiles</dd></dl></div><div class='xr-var-data'><pre>array([b&#x27;A&#x27;, b&#x27;A&#x27;], dtype=object)</pre></div></li><li class='xr-var-item'><div class='xr-var-name'><span>DATA_CENTRE</span></div><div class='xr-var-dims'>(N_PROF)</div><div class='xr-var-dtype'>object</div><div class='xr-var-preview xr-preview'>...</div><input id='attrs-112c5f33-0738-4bb4-9813-1a8b3a684f4f' class='xr-var-attrs-in' type='checkbox' ><label for='attrs-112c5f33-0738-4bb4-9813-1a8b3a684f4f' title='Show/Hide attributes'><svg class='icon xr-icon-file-text2'><use xlink:href='#icon-file-text2'></use></svg></label><input id='data-aa56e2e2-6026-4c77-b74a-6ce4267a3866' class='xr-var-data-in' type='checkbox'><label for='data-aa56e2e2-6026-4c77-b74a-6ce4267a3866' title='Show/Hide data repr'><svg class='icon xr-icon-database'><use xlink:href='#icon-database'></use></svg></label><div class='xr-var-attrs'><dl class='xr-attrs'><dt><span>long_name :</span></dt><dd>Data centre in charge of float data processing</dd><dt><span>conventions :</span></dt><dd>Argo reference table 4</dd></dl></div><div class='xr-var-data'><pre>array([b&#x27;IF&#x27;, b&#x27;IF&#x27;], dtype=object)</pre></div></li><li class='xr-var-item'><div class='xr-var-name'><span>DC_REFERENCE</span></div><div class='xr-var-dims'>(N_PROF)</div><div class='xr-var-dtype'>object</div><div class='xr-var-preview xr-preview'>...</div><input id='attrs-9bdee960-cfbb-45d4-926e-9ad2453dc8df' class='xr-var-attrs-in' type='checkbox' ><label for='attrs-9bdee960-cfbb-45d4-926e-9ad2453dc8df' title='Show/Hide attributes'><svg class='icon xr-icon-file-text2'><use xlink:href='#icon-file-text2'></use></svg></label><input id='data-678fda94-324a-4cb0-8dd9-35f78662ea73' class='xr-var-data-in' type='checkbox'><label for='data-678fda94-324a-4cb0-8dd9-35f78662ea73' title='Show/Hide data repr'><svg class='icon xr-icon-database'><use xlink:href='#icon-database'></use></svg></label><div class='xr-var-attrs'><dl class='xr-attrs'><dt><span>long_name :</span></dt><dd>Station unique identifier in data centre</dd><dt><span>conventions :</span></dt><dd>Data centre convention</dd></dl></div><div class='xr-var-data'><pre>array([b&#x27;                                &#x27;,\n",
       "       b&#x27;                                &#x27;], dtype=object)</pre></div></li><li class='xr-var-item'><div class='xr-var-name'><span>DATA_STATE_INDICATOR</span></div><div class='xr-var-dims'>(N_PROF)</div><div class='xr-var-dtype'>object</div><div class='xr-var-preview xr-preview'>...</div><input id='attrs-c90a2250-3cba-4df5-8536-839ed2bb8432' class='xr-var-attrs-in' type='checkbox' ><label for='attrs-c90a2250-3cba-4df5-8536-839ed2bb8432' title='Show/Hide attributes'><svg class='icon xr-icon-file-text2'><use xlink:href='#icon-file-text2'></use></svg></label><input id='data-333d1782-27c5-42f7-bcea-b5ffa06f146d' class='xr-var-data-in' type='checkbox'><label for='data-333d1782-27c5-42f7-bcea-b5ffa06f146d' title='Show/Hide data repr'><svg class='icon xr-icon-database'><use xlink:href='#icon-database'></use></svg></label><div class='xr-var-attrs'><dl class='xr-attrs'><dt><span>long_name :</span></dt><dd>Degree of processing the data have passed through</dd><dt><span>conventions :</span></dt><dd>Argo reference table 6</dd></dl></div><div class='xr-var-data'><pre>array([b&#x27;2B  &#x27;, b&#x27;2B  &#x27;], dtype=object)</pre></div></li><li class='xr-var-item'><div class='xr-var-name'><span>DATA_MODE</span></div><div class='xr-var-dims'>(N_PROF)</div><div class='xr-var-dtype'>object</div><div class='xr-var-preview xr-preview'>...</div><input id='attrs-01d1ab41-41ac-4613-b78e-8ad10a449849' class='xr-var-attrs-in' type='checkbox' ><label for='attrs-01d1ab41-41ac-4613-b78e-8ad10a449849' title='Show/Hide attributes'><svg class='icon xr-icon-file-text2'><use xlink:href='#icon-file-text2'></use></svg></label><input id='data-c9f6a074-b723-4c6f-8d15-bae3e9211713' class='xr-var-data-in' type='checkbox'><label for='data-c9f6a074-b723-4c6f-8d15-bae3e9211713' title='Show/Hide data repr'><svg class='icon xr-icon-database'><use xlink:href='#icon-database'></use></svg></label><div class='xr-var-attrs'><dl class='xr-attrs'><dt><span>long_name :</span></dt><dd>Delayed mode or real time data</dd><dt><span>conventions :</span></dt><dd>R : real time; D : delayed mode; A : real time with adjustment</dd></dl></div><div class='xr-var-data'><pre>array([b&#x27;R&#x27;, b&#x27;R&#x27;], dtype=object)</pre></div></li><li class='xr-var-item'><div class='xr-var-name'><span>PLATFORM_TYPE</span></div><div class='xr-var-dims'>(N_PROF)</div><div class='xr-var-dtype'>object</div><div class='xr-var-preview xr-preview'>...</div><input id='attrs-2eb4bb32-4a71-4204-95ff-b1a2cc937cb2' class='xr-var-attrs-in' type='checkbox' ><label for='attrs-2eb4bb32-4a71-4204-95ff-b1a2cc937cb2' title='Show/Hide attributes'><svg class='icon xr-icon-file-text2'><use xlink:href='#icon-file-text2'></use></svg></label><input id='data-655e9771-6bf5-4efe-9809-ff3fade88ff7' class='xr-var-data-in' type='checkbox'><label for='data-655e9771-6bf5-4efe-9809-ff3fade88ff7' title='Show/Hide data repr'><svg class='icon xr-icon-database'><use xlink:href='#icon-database'></use></svg></label><div class='xr-var-attrs'><dl class='xr-attrs'><dt><span>long_name :</span></dt><dd>Type of float</dd><dt><span>conventions :</span></dt><dd>Argo reference table 23</dd></dl></div><div class='xr-var-data'><pre>array([b&#x27;ARVOR                           &#x27;,\n",
       "       b&#x27;ARVOR                           &#x27;], dtype=object)</pre></div></li><li class='xr-var-item'><div class='xr-var-name'><span>FLOAT_SERIAL_NO</span></div><div class='xr-var-dims'>(N_PROF)</div><div class='xr-var-dtype'>object</div><div class='xr-var-preview xr-preview'>...</div><input id='attrs-2f904b5d-81ba-4bfa-b4b9-e89d906535c2' class='xr-var-attrs-in' type='checkbox' ><label for='attrs-2f904b5d-81ba-4bfa-b4b9-e89d906535c2' title='Show/Hide attributes'><svg class='icon xr-icon-file-text2'><use xlink:href='#icon-file-text2'></use></svg></label><input id='data-177d15e9-1578-457b-a5b8-7a98f45f8953' class='xr-var-data-in' type='checkbox'><label for='data-177d15e9-1578-457b-a5b8-7a98f45f8953' title='Show/Hide data repr'><svg class='icon xr-icon-database'><use xlink:href='#icon-database'></use></svg></label><div class='xr-var-attrs'><dl class='xr-attrs'><dt><span>long_name :</span></dt><dd>Serial number of the float</dd></dl></div><div class='xr-var-data'><pre>array([b&#x27;AL2500-17SP003                  &#x27;,\n",
       "       b&#x27;AL2500-17SP003                  &#x27;], dtype=object)</pre></div></li><li class='xr-var-item'><div class='xr-var-name'><span>FIRMWARE_VERSION</span></div><div class='xr-var-dims'>(N_PROF)</div><div class='xr-var-dtype'>object</div><div class='xr-var-preview xr-preview'>...</div><input id='attrs-caf51d53-9d1d-468b-8ade-b1ef3986c276' class='xr-var-attrs-in' type='checkbox' ><label for='attrs-caf51d53-9d1d-468b-8ade-b1ef3986c276' title='Show/Hide attributes'><svg class='icon xr-icon-file-text2'><use xlink:href='#icon-file-text2'></use></svg></label><input id='data-18ecd83f-cd11-4809-8783-e812bc8c7060' class='xr-var-data-in' type='checkbox'><label for='data-18ecd83f-cd11-4809-8783-e812bc8c7060' title='Show/Hide data repr'><svg class='icon xr-icon-database'><use xlink:href='#icon-database'></use></svg></label><div class='xr-var-attrs'><dl class='xr-attrs'><dt><span>long_name :</span></dt><dd>Instrument firmware version</dd></dl></div><div class='xr-var-data'><pre>array([b&#x27;n/a                             &#x27;,\n",
       "       b&#x27;n/a                             &#x27;], dtype=object)</pre></div></li><li class='xr-var-item'><div class='xr-var-name'><span>WMO_INST_TYPE</span></div><div class='xr-var-dims'>(N_PROF)</div><div class='xr-var-dtype'>object</div><div class='xr-var-preview xr-preview'>...</div><input id='attrs-d740f022-b05b-4422-9379-e5adce74028d' class='xr-var-attrs-in' type='checkbox' ><label for='attrs-d740f022-b05b-4422-9379-e5adce74028d' title='Show/Hide attributes'><svg class='icon xr-icon-file-text2'><use xlink:href='#icon-file-text2'></use></svg></label><input id='data-2bfcb28e-e9b4-42b7-a2d5-7d766e044960' class='xr-var-data-in' type='checkbox'><label for='data-2bfcb28e-e9b4-42b7-a2d5-7d766e044960' title='Show/Hide data repr'><svg class='icon xr-icon-database'><use xlink:href='#icon-database'></use></svg></label><div class='xr-var-attrs'><dl class='xr-attrs'><dt><span>long_name :</span></dt><dd>Coded instrument type</dd><dt><span>conventions :</span></dt><dd>Argo reference table 8</dd></dl></div><div class='xr-var-data'><pre>array([b&#x27;844 &#x27;, b&#x27;844 &#x27;], dtype=object)</pre></div></li><li class='xr-var-item'><div class='xr-var-name'><span>JULD</span></div><div class='xr-var-dims'>(N_PROF)</div><div class='xr-var-dtype'>datetime64[ns]</div><div class='xr-var-preview xr-preview'>...</div><input id='attrs-e33636ac-dd40-433f-b5a0-7863171cdaba' class='xr-var-attrs-in' type='checkbox' ><label for='attrs-e33636ac-dd40-433f-b5a0-7863171cdaba' title='Show/Hide attributes'><svg class='icon xr-icon-file-text2'><use xlink:href='#icon-file-text2'></use></svg></label><input id='data-3f89ffbf-0886-4158-bb99-d3dcc37c1191' class='xr-var-data-in' type='checkbox'><label for='data-3f89ffbf-0886-4158-bb99-d3dcc37c1191' title='Show/Hide data repr'><svg class='icon xr-icon-database'><use xlink:href='#icon-database'></use></svg></label><div class='xr-var-attrs'><dl class='xr-attrs'><dt><span>long_name :</span></dt><dd>Julian day (UTC) of the station relative to REFERENCE_DATE_TIME</dd><dt><span>standard_name :</span></dt><dd>time</dd><dt><span>conventions :</span></dt><dd>Relative julian days with decimal part (as parts of day)</dd><dt><span>resolution :</span></dt><dd>0.0006944444444444445</dd><dt><span>axis :</span></dt><dd>T</dd><dt><span>comment_on_resolution :</span></dt><dd>JULD resolution is 1 minute, except when JULD = JULD_LOCATION or when JULD = JULD_FIRST_MESSAGE (TRAJ file variable); in that case, JULD resolution is 1 second</dd></dl></div><div class='xr-var-data'><pre>array([&#x27;2018-10-25T05:30:00.000000000&#x27;, &#x27;2018-10-25T05:30:00.000000000&#x27;],\n",
       "      dtype=&#x27;datetime64[ns]&#x27;)</pre></div></li><li class='xr-var-item'><div class='xr-var-name'><span>JULD_QC</span></div><div class='xr-var-dims'>(N_PROF)</div><div class='xr-var-dtype'>object</div><div class='xr-var-preview xr-preview'>...</div><input id='attrs-abfa95e2-9b4f-4244-ba92-cb3fca61aacc' class='xr-var-attrs-in' type='checkbox' ><label for='attrs-abfa95e2-9b4f-4244-ba92-cb3fca61aacc' title='Show/Hide attributes'><svg class='icon xr-icon-file-text2'><use xlink:href='#icon-file-text2'></use></svg></label><input id='data-bb0bba78-d6fc-4d18-89e4-471b3c623556' class='xr-var-data-in' type='checkbox'><label for='data-bb0bba78-d6fc-4d18-89e4-471b3c623556' title='Show/Hide data repr'><svg class='icon xr-icon-database'><use xlink:href='#icon-database'></use></svg></label><div class='xr-var-attrs'><dl class='xr-attrs'><dt><span>long_name :</span></dt><dd>Quality on date and time</dd><dt><span>conventions :</span></dt><dd>Argo reference table 2</dd></dl></div><div class='xr-var-data'><pre>array([b&#x27;1&#x27;, b&#x27;1&#x27;], dtype=object)</pre></div></li><li class='xr-var-item'><div class='xr-var-name'><span>JULD_LOCATION</span></div><div class='xr-var-dims'>(N_PROF)</div><div class='xr-var-dtype'>datetime64[ns]</div><div class='xr-var-preview xr-preview'>...</div><input id='attrs-31d79e3a-17b2-437e-8387-564b06f8379c' class='xr-var-attrs-in' type='checkbox' ><label for='attrs-31d79e3a-17b2-437e-8387-564b06f8379c' title='Show/Hide attributes'><svg class='icon xr-icon-file-text2'><use xlink:href='#icon-file-text2'></use></svg></label><input id='data-828ac622-d197-4c0e-88b5-00afc2336913' class='xr-var-data-in' type='checkbox'><label for='data-828ac622-d197-4c0e-88b5-00afc2336913' title='Show/Hide data repr'><svg class='icon xr-icon-database'><use xlink:href='#icon-database'></use></svg></label><div class='xr-var-attrs'><dl class='xr-attrs'><dt><span>long_name :</span></dt><dd>Julian day (UTC) of the location relative to REFERENCE_DATE_TIME</dd><dt><span>conventions :</span></dt><dd>Relative julian days with decimal part (as parts of day)</dd><dt><span>resolution :</span></dt><dd>1.1574074074074073e-05</dd></dl></div><div class='xr-var-data'><pre>array([&#x27;2018-10-25T05:45:54.000002048&#x27;, &#x27;2018-10-25T05:45:54.000002048&#x27;],\n",
       "      dtype=&#x27;datetime64[ns]&#x27;)</pre></div></li><li class='xr-var-item'><div class='xr-var-name'><span>LATITUDE</span></div><div class='xr-var-dims'>(N_PROF)</div><div class='xr-var-dtype'>float64</div><div class='xr-var-preview xr-preview'>...</div><input id='attrs-e8745804-582b-45f0-bdea-9a8e7cfe5272' class='xr-var-attrs-in' type='checkbox' ><label for='attrs-e8745804-582b-45f0-bdea-9a8e7cfe5272' title='Show/Hide attributes'><svg class='icon xr-icon-file-text2'><use xlink:href='#icon-file-text2'></use></svg></label><input id='data-2c06cf1d-2489-4f93-9da4-c9d577886a0c' class='xr-var-data-in' type='checkbox'><label for='data-2c06cf1d-2489-4f93-9da4-c9d577886a0c' title='Show/Hide data repr'><svg class='icon xr-icon-database'><use xlink:href='#icon-database'></use></svg></label><div class='xr-var-attrs'><dl class='xr-attrs'><dt><span>long_name :</span></dt><dd>Latitude of the station, best estimate</dd><dt><span>standard_name :</span></dt><dd>latitude</dd><dt><span>units :</span></dt><dd>degree_north</dd><dt><span>valid_min :</span></dt><dd>-90.0</dd><dt><span>valid_max :</span></dt><dd>90.0</dd><dt><span>axis :</span></dt><dd>Y</dd></dl></div><div class='xr-var-data'><pre>array([29.182, 29.182])</pre></div></li><li class='xr-var-item'><div class='xr-var-name'><span>LONGITUDE</span></div><div class='xr-var-dims'>(N_PROF)</div><div class='xr-var-dtype'>float64</div><div class='xr-var-preview xr-preview'>...</div><input id='attrs-4a6074c8-10d3-46aa-bf67-5be4946363bb' class='xr-var-attrs-in' type='checkbox' ><label for='attrs-4a6074c8-10d3-46aa-bf67-5be4946363bb' title='Show/Hide attributes'><svg class='icon xr-icon-file-text2'><use xlink:href='#icon-file-text2'></use></svg></label><input id='data-87cebee6-05fc-45fc-8faa-16447a17337a' class='xr-var-data-in' type='checkbox'><label for='data-87cebee6-05fc-45fc-8faa-16447a17337a' title='Show/Hide data repr'><svg class='icon xr-icon-database'><use xlink:href='#icon-database'></use></svg></label><div class='xr-var-attrs'><dl class='xr-attrs'><dt><span>long_name :</span></dt><dd>Longitude of the station, best estimate</dd><dt><span>standard_name :</span></dt><dd>longitude</dd><dt><span>units :</span></dt><dd>degree_east</dd><dt><span>valid_min :</span></dt><dd>-180.0</dd><dt><span>valid_max :</span></dt><dd>180.0</dd><dt><span>axis :</span></dt><dd>X</dd></dl></div><div class='xr-var-data'><pre>array([-15.429, -15.429])</pre></div></li><li class='xr-var-item'><div class='xr-var-name'><span>POSITION_QC</span></div><div class='xr-var-dims'>(N_PROF)</div><div class='xr-var-dtype'>object</div><div class='xr-var-preview xr-preview'>...</div><input id='attrs-253939e9-6cfa-40f9-a7fd-17264f5636e2' class='xr-var-attrs-in' type='checkbox' ><label for='attrs-253939e9-6cfa-40f9-a7fd-17264f5636e2' title='Show/Hide attributes'><svg class='icon xr-icon-file-text2'><use xlink:href='#icon-file-text2'></use></svg></label><input id='data-ac2354fe-a278-4443-ab3c-55681e7a8c2f' class='xr-var-data-in' type='checkbox'><label for='data-ac2354fe-a278-4443-ab3c-55681e7a8c2f' title='Show/Hide data repr'><svg class='icon xr-icon-database'><use xlink:href='#icon-database'></use></svg></label><div class='xr-var-attrs'><dl class='xr-attrs'><dt><span>long_name :</span></dt><dd>Quality on position (latitude and longitude)</dd><dt><span>conventions :</span></dt><dd>Argo reference table 2</dd></dl></div><div class='xr-var-data'><pre>array([b&#x27;1&#x27;, b&#x27;1&#x27;], dtype=object)</pre></div></li><li class='xr-var-item'><div class='xr-var-name'><span>POSITIONING_SYSTEM</span></div><div class='xr-var-dims'>(N_PROF)</div><div class='xr-var-dtype'>object</div><div class='xr-var-preview xr-preview'>...</div><input id='attrs-955522a0-24ff-4fa4-baba-8aba410bc6aa' class='xr-var-attrs-in' type='checkbox' ><label for='attrs-955522a0-24ff-4fa4-baba-8aba410bc6aa' title='Show/Hide attributes'><svg class='icon xr-icon-file-text2'><use xlink:href='#icon-file-text2'></use></svg></label><input id='data-8dfe8a47-424b-47ed-b78a-0d577726a88a' class='xr-var-data-in' type='checkbox'><label for='data-8dfe8a47-424b-47ed-b78a-0d577726a88a' title='Show/Hide data repr'><svg class='icon xr-icon-database'><use xlink:href='#icon-database'></use></svg></label><div class='xr-var-attrs'><dl class='xr-attrs'><dt><span>long_name :</span></dt><dd>Positioning system</dd></dl></div><div class='xr-var-data'><pre>array([b&#x27;ARGOS   &#x27;, b&#x27;ARGOS   &#x27;], dtype=object)</pre></div></li><li class='xr-var-item'><div class='xr-var-name'><span>PROFILE_PRES_QC</span></div><div class='xr-var-dims'>(N_PROF)</div><div class='xr-var-dtype'>object</div><div class='xr-var-preview xr-preview'>...</div><input id='attrs-c81beb34-6993-44da-b958-6d358a039c3d' class='xr-var-attrs-in' type='checkbox' ><label for='attrs-c81beb34-6993-44da-b958-6d358a039c3d' title='Show/Hide attributes'><svg class='icon xr-icon-file-text2'><use xlink:href='#icon-file-text2'></use></svg></label><input id='data-920875d0-9226-453c-a5b6-993cbca810b0' class='xr-var-data-in' type='checkbox'><label for='data-920875d0-9226-453c-a5b6-993cbca810b0' title='Show/Hide data repr'><svg class='icon xr-icon-database'><use xlink:href='#icon-database'></use></svg></label><div class='xr-var-attrs'><dl class='xr-attrs'><dt><span>long_name :</span></dt><dd>Global quality flag of PRES profile</dd><dt><span>conventions :</span></dt><dd>Argo reference table 2a</dd></dl></div><div class='xr-var-data'><pre>array([b&#x27;A&#x27;, b&#x27;A&#x27;], dtype=object)</pre></div></li><li class='xr-var-item'><div class='xr-var-name'><span>PROFILE_TEMP_QC</span></div><div class='xr-var-dims'>(N_PROF)</div><div class='xr-var-dtype'>object</div><div class='xr-var-preview xr-preview'>...</div><input id='attrs-b7b9ad98-dd03-4c5a-a0dc-98e579776e31' class='xr-var-attrs-in' type='checkbox' ><label for='attrs-b7b9ad98-dd03-4c5a-a0dc-98e579776e31' title='Show/Hide attributes'><svg class='icon xr-icon-file-text2'><use xlink:href='#icon-file-text2'></use></svg></label><input id='data-e43a310e-323b-426c-b133-7e74e5bf5cd3' class='xr-var-data-in' type='checkbox'><label for='data-e43a310e-323b-426c-b133-7e74e5bf5cd3' title='Show/Hide data repr'><svg class='icon xr-icon-database'><use xlink:href='#icon-database'></use></svg></label><div class='xr-var-attrs'><dl class='xr-attrs'><dt><span>long_name :</span></dt><dd>Global quality flag of TEMP profile</dd><dt><span>conventions :</span></dt><dd>Argo reference table 2a</dd></dl></div><div class='xr-var-data'><pre>array([b&#x27;A&#x27;, b&#x27;C&#x27;], dtype=object)</pre></div></li><li class='xr-var-item'><div class='xr-var-name'><span>PROFILE_PSAL_QC</span></div><div class='xr-var-dims'>(N_PROF)</div><div class='xr-var-dtype'>object</div><div class='xr-var-preview xr-preview'>...</div><input id='attrs-79a28fbc-51b1-4687-8fbd-f4f138230659' class='xr-var-attrs-in' type='checkbox' ><label for='attrs-79a28fbc-51b1-4687-8fbd-f4f138230659' title='Show/Hide attributes'><svg class='icon xr-icon-file-text2'><use xlink:href='#icon-file-text2'></use></svg></label><input id='data-f0bb28f4-18bd-4360-9cd7-4a1d848025be' class='xr-var-data-in' type='checkbox'><label for='data-f0bb28f4-18bd-4360-9cd7-4a1d848025be' title='Show/Hide data repr'><svg class='icon xr-icon-database'><use xlink:href='#icon-database'></use></svg></label><div class='xr-var-attrs'><dl class='xr-attrs'><dt><span>long_name :</span></dt><dd>Global quality flag of PSAL profile</dd><dt><span>conventions :</span></dt><dd>Argo reference table 2a</dd></dl></div><div class='xr-var-data'><pre>array([b&#x27;A&#x27;, b&#x27;F&#x27;], dtype=object)</pre></div></li><li class='xr-var-item'><div class='xr-var-name'><span>VERTICAL_SAMPLING_SCHEME</span></div><div class='xr-var-dims'>(N_PROF)</div><div class='xr-var-dtype'>object</div><div class='xr-var-preview xr-preview'>...</div><input id='attrs-05b362f3-9843-44cf-8685-ea427d22a473' class='xr-var-attrs-in' type='checkbox' ><label for='attrs-05b362f3-9843-44cf-8685-ea427d22a473' title='Show/Hide attributes'><svg class='icon xr-icon-file-text2'><use xlink:href='#icon-file-text2'></use></svg></label><input id='data-e9dabdf0-17e6-4fdf-b875-8fa608ec5fd0' class='xr-var-data-in' type='checkbox'><label for='data-e9dabdf0-17e6-4fdf-b875-8fa608ec5fd0' title='Show/Hide data repr'><svg class='icon xr-icon-database'><use xlink:href='#icon-database'></use></svg></label><div class='xr-var-attrs'><dl class='xr-attrs'><dt><span>long_name :</span></dt><dd>Vertical sampling scheme</dd><dt><span>conventions :</span></dt><dd>Argo reference table 16</dd></dl></div><div class='xr-var-data'><pre>array([b&#x27;Primary sampling: averaged [10 sec sampling, 25 dbar average from 2000 dbar to 200 dbar; 10 sec sampling, 10 dbar average from 200 dbar to 10 dbar; 10 sec sampling, 1 dbar average from 10 dbar to 5.5 dbar]                                                   &#x27;,\n",
       "       b&#x27;Near-surface sampling: averaged, unpumped [10 sec sampling, 1 dbar average from 5.5 dbar to surface]                                                                                                                                                            &#x27;],\n",
       "      dtype=object)</pre></div></li><li class='xr-var-item'><div class='xr-var-name'><span>CONFIG_MISSION_NUMBER</span></div><div class='xr-var-dims'>(N_PROF)</div><div class='xr-var-dtype'>float64</div><div class='xr-var-preview xr-preview'>...</div><input id='attrs-68ddb3c6-7d8b-4976-b1ab-f6951f3f0c29' class='xr-var-attrs-in' type='checkbox' ><label for='attrs-68ddb3c6-7d8b-4976-b1ab-f6951f3f0c29' title='Show/Hide attributes'><svg class='icon xr-icon-file-text2'><use xlink:href='#icon-file-text2'></use></svg></label><input id='data-d3987c0c-4f07-4f2d-8d98-e327366bd6c5' class='xr-var-data-in' type='checkbox'><label for='data-d3987c0c-4f07-4f2d-8d98-e327366bd6c5' title='Show/Hide data repr'><svg class='icon xr-icon-database'><use xlink:href='#icon-database'></use></svg></label><div class='xr-var-attrs'><dl class='xr-attrs'><dt><span>long_name :</span></dt><dd>Unique number denoting the missions performed by the float</dd><dt><span>conventions :</span></dt><dd>1...N, 1 : first complete mission</dd></dl></div><div class='xr-var-data'><pre>array([1., 1.])</pre></div></li><li class='xr-var-item'><div class='xr-var-name'><span>PRES</span></div><div class='xr-var-dims'>(N_PROF, N_LEVELS)</div><div class='xr-var-dtype'>float32</div><div class='xr-var-preview xr-preview'>...</div><input id='attrs-c33fb076-1a8f-4bd6-bc4f-4a6e54680209' class='xr-var-attrs-in' type='checkbox' ><label for='attrs-c33fb076-1a8f-4bd6-bc4f-4a6e54680209' title='Show/Hide attributes'><svg class='icon xr-icon-file-text2'><use xlink:href='#icon-file-text2'></use></svg></label><input id='data-3c8db50b-6870-4fe5-af0a-dd09720574e9' class='xr-var-data-in' type='checkbox'><label for='data-3c8db50b-6870-4fe5-af0a-dd09720574e9' title='Show/Hide data repr'><svg class='icon xr-icon-database'><use xlink:href='#icon-database'></use></svg></label><div class='xr-var-attrs'><dl class='xr-attrs'><dt><span>long_name :</span></dt><dd>Sea water pressure, equals 0 at sea-level</dd><dt><span>standard_name :</span></dt><dd>sea_water_pressure</dd><dt><span>units :</span></dt><dd>decibar</dd><dt><span>valid_min :</span></dt><dd>0.0</dd><dt><span>valid_max :</span></dt><dd>12000.0</dd><dt><span>C_format :</span></dt><dd>%7.1f</dd><dt><span>FORTRAN_format :</span></dt><dd>F7.1</dd><dt><span>resolution :</span></dt><dd>1.0</dd><dt><span>axis :</span></dt><dd>Z</dd></dl></div><div class='xr-var-data'><pre>array([[6.000e+00, 7.000e+00, 8.000e+00, 9.000e+00, 1.000e+01, 1.500e+01,\n",
       "        2.500e+01, 3.600e+01, 4.500e+01, 5.500e+01, 6.600e+01, 7.600e+01,\n",
       "        8.600e+01, 9.600e+01, 1.050e+02, 1.150e+02, 1.250e+02, 1.350e+02,\n",
       "        1.460e+02, 1.550e+02, 1.650e+02, 1.750e+02, 1.850e+02, 1.950e+02,\n",
       "        2.130e+02, 2.380e+02, 2.630e+02, 2.880e+02, 3.130e+02, 3.380e+02,\n",
       "        3.630e+02, 3.880e+02, 4.140e+02, 4.380e+02, 4.630e+02, 4.880e+02,\n",
       "        5.130e+02, 5.380e+02, 5.630e+02, 5.880e+02, 6.130e+02, 6.380e+02,\n",
       "        6.630e+02, 6.880e+02, 7.130e+02, 7.380e+02, 7.630e+02, 7.880e+02,\n",
       "        8.130e+02, 8.380e+02, 8.630e+02, 8.880e+02, 9.130e+02, 9.380e+02,\n",
       "        9.630e+02, 9.880e+02, 1.013e+03, 1.038e+03, 1.063e+03, 1.088e+03,\n",
       "        1.113e+03, 1.138e+03, 1.163e+03, 1.188e+03, 1.213e+03, 1.238e+03,\n",
       "        1.263e+03, 1.288e+03, 1.313e+03, 1.338e+03, 1.363e+03, 1.388e+03,\n",
       "        1.414e+03, 1.438e+03, 1.463e+03, 1.488e+03, 1.513e+03, 1.538e+03,\n",
       "        1.564e+03, 1.588e+03, 1.613e+03, 1.638e+03, 1.663e+03, 1.688e+03,\n",
       "        1.713e+03, 1.738e+03, 1.763e+03, 1.788e+03, 1.813e+03, 1.838e+03,\n",
       "        1.863e+03, 1.888e+03, 1.913e+03, 1.938e+03, 1.963e+03, 1.988e+03,\n",
       "        2.011e+03],\n",
       "       [0.000e+00, 1.000e+00, 2.000e+00, 3.000e+00, 4.000e+00, 5.000e+00,\n",
       "              nan,       nan,       nan,       nan,       nan,       nan,\n",
       "              nan,       nan,       nan,       nan,       nan,       nan,\n",
       "              nan,       nan,       nan,       nan,       nan,       nan,\n",
       "              nan,       nan,       nan,       nan,       nan,       nan,\n",
       "              nan,       nan,       nan,       nan,       nan,       nan,\n",
       "              nan,       nan,       nan,       nan,       nan,       nan,\n",
       "              nan,       nan,       nan,       nan,       nan,       nan,\n",
       "              nan,       nan,       nan,       nan,       nan,       nan,\n",
       "              nan,       nan,       nan,       nan,       nan,       nan,\n",
       "              nan,       nan,       nan,       nan,       nan,       nan,\n",
       "              nan,       nan,       nan,       nan,       nan,       nan,\n",
       "              nan,       nan,       nan,       nan,       nan,       nan,\n",
       "              nan,       nan,       nan,       nan,       nan,       nan,\n",
       "              nan,       nan,       nan,       nan,       nan,       nan,\n",
       "              nan,       nan,       nan,       nan,       nan,       nan,\n",
       "              nan]], dtype=float32)</pre></div></li><li class='xr-var-item'><div class='xr-var-name'><span>PRES_QC</span></div><div class='xr-var-dims'>(N_PROF, N_LEVELS)</div><div class='xr-var-dtype'>object</div><div class='xr-var-preview xr-preview'>...</div><input id='attrs-9e53509a-4306-46ef-8b7f-277ff6411056' class='xr-var-attrs-in' type='checkbox' ><label for='attrs-9e53509a-4306-46ef-8b7f-277ff6411056' title='Show/Hide attributes'><svg class='icon xr-icon-file-text2'><use xlink:href='#icon-file-text2'></use></svg></label><input id='data-7940d53a-a437-4aca-ab3f-9677338a257d' class='xr-var-data-in' type='checkbox'><label for='data-7940d53a-a437-4aca-ab3f-9677338a257d' title='Show/Hide data repr'><svg class='icon xr-icon-database'><use xlink:href='#icon-database'></use></svg></label><div class='xr-var-attrs'><dl class='xr-attrs'><dt><span>long_name :</span></dt><dd>quality flag</dd><dt><span>conventions :</span></dt><dd>Argo reference table 2</dd></dl></div><div class='xr-var-data'><pre>array([[b&#x27;1&#x27;, b&#x27;1&#x27;, b&#x27;1&#x27;, b&#x27;1&#x27;, b&#x27;1&#x27;, b&#x27;1&#x27;, b&#x27;1&#x27;, b&#x27;1&#x27;, b&#x27;1&#x27;, b&#x27;1&#x27;, b&#x27;1&#x27;,\n",
       "        b&#x27;1&#x27;, b&#x27;1&#x27;, b&#x27;1&#x27;, b&#x27;1&#x27;, b&#x27;1&#x27;, b&#x27;1&#x27;, b&#x27;1&#x27;, b&#x27;1&#x27;, b&#x27;1&#x27;, b&#x27;1&#x27;, b&#x27;1&#x27;,\n",
       "        b&#x27;1&#x27;, b&#x27;1&#x27;, b&#x27;1&#x27;, b&#x27;1&#x27;, b&#x27;1&#x27;, b&#x27;1&#x27;, b&#x27;1&#x27;, b&#x27;1&#x27;, b&#x27;1&#x27;, b&#x27;1&#x27;, b&#x27;1&#x27;,\n",
       "        b&#x27;1&#x27;, b&#x27;1&#x27;, b&#x27;1&#x27;, b&#x27;1&#x27;, b&#x27;1&#x27;, b&#x27;1&#x27;, b&#x27;1&#x27;, b&#x27;1&#x27;, b&#x27;1&#x27;, b&#x27;1&#x27;, b&#x27;1&#x27;,\n",
       "        b&#x27;1&#x27;, b&#x27;1&#x27;, b&#x27;1&#x27;, b&#x27;1&#x27;, b&#x27;1&#x27;, b&#x27;1&#x27;, b&#x27;1&#x27;, b&#x27;1&#x27;, b&#x27;1&#x27;, b&#x27;1&#x27;, b&#x27;1&#x27;,\n",
       "        b&#x27;1&#x27;, b&#x27;1&#x27;, b&#x27;1&#x27;, b&#x27;1&#x27;, b&#x27;1&#x27;, b&#x27;1&#x27;, b&#x27;1&#x27;, b&#x27;1&#x27;, b&#x27;1&#x27;, b&#x27;1&#x27;, b&#x27;1&#x27;,\n",
       "        b&#x27;1&#x27;, b&#x27;1&#x27;, b&#x27;1&#x27;, b&#x27;1&#x27;, b&#x27;1&#x27;, b&#x27;1&#x27;, b&#x27;1&#x27;, b&#x27;1&#x27;, b&#x27;1&#x27;, b&#x27;1&#x27;, b&#x27;1&#x27;,\n",
       "        b&#x27;1&#x27;, b&#x27;1&#x27;, b&#x27;1&#x27;, b&#x27;1&#x27;, b&#x27;1&#x27;, b&#x27;1&#x27;, b&#x27;1&#x27;, b&#x27;1&#x27;, b&#x27;1&#x27;, b&#x27;1&#x27;, b&#x27;1&#x27;,\n",
       "        b&#x27;1&#x27;, b&#x27;1&#x27;, b&#x27;1&#x27;, b&#x27;1&#x27;, b&#x27;1&#x27;, b&#x27;1&#x27;, b&#x27;1&#x27;, b&#x27;1&#x27;, b&#x27;1&#x27;],\n",
       "       [b&#x27;1&#x27;, b&#x27;1&#x27;, b&#x27;1&#x27;, b&#x27;1&#x27;, b&#x27;1&#x27;, b&#x27;1&#x27;, nan, nan, nan, nan, nan, nan, nan,\n",
       "        nan, nan, nan, nan, nan, nan, nan, nan, nan, nan, nan, nan, nan, nan,\n",
       "        nan, nan, nan, nan, nan, nan, nan, nan, nan, nan, nan, nan, nan, nan,\n",
       "        nan, nan, nan, nan, nan, nan, nan, nan, nan, nan, nan, nan, nan, nan,\n",
       "        nan, nan, nan, nan, nan, nan, nan, nan, nan, nan, nan, nan, nan, nan,\n",
       "        nan, nan, nan, nan, nan, nan, nan, nan, nan, nan, nan, nan, nan, nan,\n",
       "        nan, nan, nan, nan, nan, nan, nan, nan, nan, nan, nan, nan, nan, nan]],\n",
       "      dtype=object)</pre></div></li><li class='xr-var-item'><div class='xr-var-name'><span>PRES_ADJUSTED</span></div><div class='xr-var-dims'>(N_PROF, N_LEVELS)</div><div class='xr-var-dtype'>float32</div><div class='xr-var-preview xr-preview'>...</div><input id='attrs-c9634190-2bf0-4671-a9ac-b04586147733' class='xr-var-attrs-in' type='checkbox' ><label for='attrs-c9634190-2bf0-4671-a9ac-b04586147733' title='Show/Hide attributes'><svg class='icon xr-icon-file-text2'><use xlink:href='#icon-file-text2'></use></svg></label><input id='data-d61c7f91-a883-445e-a77a-e10332f09b88' class='xr-var-data-in' type='checkbox'><label for='data-d61c7f91-a883-445e-a77a-e10332f09b88' title='Show/Hide data repr'><svg class='icon xr-icon-database'><use xlink:href='#icon-database'></use></svg></label><div class='xr-var-attrs'><dl class='xr-attrs'><dt><span>long_name :</span></dt><dd>Sea water pressure, equals 0 at sea-level</dd><dt><span>standard_name :</span></dt><dd>sea_water_pressure</dd><dt><span>units :</span></dt><dd>decibar</dd><dt><span>valid_min :</span></dt><dd>0.0</dd><dt><span>valid_max :</span></dt><dd>12000.0</dd><dt><span>C_format :</span></dt><dd>%7.1f</dd><dt><span>FORTRAN_format :</span></dt><dd>F7.1</dd><dt><span>resolution :</span></dt><dd>1.0</dd><dt><span>axis :</span></dt><dd>Z</dd></dl></div><div class='xr-var-data'><pre>array([[nan, nan, nan, nan, nan, nan, nan, nan, nan, nan, nan, nan, nan, nan,\n",
       "        nan, nan, nan, nan, nan, nan, nan, nan, nan, nan, nan, nan, nan, nan,\n",
       "        nan, nan, nan, nan, nan, nan, nan, nan, nan, nan, nan, nan, nan, nan,\n",
       "        nan, nan, nan, nan, nan, nan, nan, nan, nan, nan, nan, nan, nan, nan,\n",
       "        nan, nan, nan, nan, nan, nan, nan, nan, nan, nan, nan, nan, nan, nan,\n",
       "        nan, nan, nan, nan, nan, nan, nan, nan, nan, nan, nan, nan, nan, nan,\n",
       "        nan, nan, nan, nan, nan, nan, nan, nan, nan, nan, nan, nan, nan],\n",
       "       [nan, nan, nan, nan, nan, nan, nan, nan, nan, nan, nan, nan, nan, nan,\n",
       "        nan, nan, nan, nan, nan, nan, nan, nan, nan, nan, nan, nan, nan, nan,\n",
       "        nan, nan, nan, nan, nan, nan, nan, nan, nan, nan, nan, nan, nan, nan,\n",
       "        nan, nan, nan, nan, nan, nan, nan, nan, nan, nan, nan, nan, nan, nan,\n",
       "        nan, nan, nan, nan, nan, nan, nan, nan, nan, nan, nan, nan, nan, nan,\n",
       "        nan, nan, nan, nan, nan, nan, nan, nan, nan, nan, nan, nan, nan, nan,\n",
       "        nan, nan, nan, nan, nan, nan, nan, nan, nan, nan, nan, nan, nan]],\n",
       "      dtype=float32)</pre></div></li><li class='xr-var-item'><div class='xr-var-name'><span>PRES_ADJUSTED_QC</span></div><div class='xr-var-dims'>(N_PROF, N_LEVELS)</div><div class='xr-var-dtype'>object</div><div class='xr-var-preview xr-preview'>...</div><input id='attrs-413e9a45-a547-4439-9e60-5908e3ebc086' class='xr-var-attrs-in' type='checkbox' ><label for='attrs-413e9a45-a547-4439-9e60-5908e3ebc086' title='Show/Hide attributes'><svg class='icon xr-icon-file-text2'><use xlink:href='#icon-file-text2'></use></svg></label><input id='data-bbe51216-409e-4476-ba1b-acab179ebb9e' class='xr-var-data-in' type='checkbox'><label for='data-bbe51216-409e-4476-ba1b-acab179ebb9e' title='Show/Hide data repr'><svg class='icon xr-icon-database'><use xlink:href='#icon-database'></use></svg></label><div class='xr-var-attrs'><dl class='xr-attrs'><dt><span>long_name :</span></dt><dd>quality flag</dd><dt><span>conventions :</span></dt><dd>Argo reference table 2</dd></dl></div><div class='xr-var-data'><pre>array([[nan, nan, nan, nan, nan, nan, nan, nan, nan, nan, nan, nan, nan, nan,\n",
       "        nan, nan, nan, nan, nan, nan, nan, nan, nan, nan, nan, nan, nan, nan,\n",
       "        nan, nan, nan, nan, nan, nan, nan, nan, nan, nan, nan, nan, nan, nan,\n",
       "        nan, nan, nan, nan, nan, nan, nan, nan, nan, nan, nan, nan, nan, nan,\n",
       "        nan, nan, nan, nan, nan, nan, nan, nan, nan, nan, nan, nan, nan, nan,\n",
       "        nan, nan, nan, nan, nan, nan, nan, nan, nan, nan, nan, nan, nan, nan,\n",
       "        nan, nan, nan, nan, nan, nan, nan, nan, nan, nan, nan, nan, nan],\n",
       "       [nan, nan, nan, nan, nan, nan, nan, nan, nan, nan, nan, nan, nan, nan,\n",
       "        nan, nan, nan, nan, nan, nan, nan, nan, nan, nan, nan, nan, nan, nan,\n",
       "        nan, nan, nan, nan, nan, nan, nan, nan, nan, nan, nan, nan, nan, nan,\n",
       "        nan, nan, nan, nan, nan, nan, nan, nan, nan, nan, nan, nan, nan, nan,\n",
       "        nan, nan, nan, nan, nan, nan, nan, nan, nan, nan, nan, nan, nan, nan,\n",
       "        nan, nan, nan, nan, nan, nan, nan, nan, nan, nan, nan, nan, nan, nan,\n",
       "        nan, nan, nan, nan, nan, nan, nan, nan, nan, nan, nan, nan, nan]],\n",
       "      dtype=object)</pre></div></li><li class='xr-var-item'><div class='xr-var-name'><span>PRES_ADJUSTED_ERROR</span></div><div class='xr-var-dims'>(N_PROF, N_LEVELS)</div><div class='xr-var-dtype'>float32</div><div class='xr-var-preview xr-preview'>...</div><input id='attrs-14b0ecea-5997-4990-9311-3f31aa63b2f4' class='xr-var-attrs-in' type='checkbox' ><label for='attrs-14b0ecea-5997-4990-9311-3f31aa63b2f4' title='Show/Hide attributes'><svg class='icon xr-icon-file-text2'><use xlink:href='#icon-file-text2'></use></svg></label><input id='data-38a90cda-260b-4d7f-b98e-130c1ab4ce7c' class='xr-var-data-in' type='checkbox'><label for='data-38a90cda-260b-4d7f-b98e-130c1ab4ce7c' title='Show/Hide data repr'><svg class='icon xr-icon-database'><use xlink:href='#icon-database'></use></svg></label><div class='xr-var-attrs'><dl class='xr-attrs'><dt><span>long_name :</span></dt><dd>Contains the error on the adjusted values as determined by the delayed mode QC process</dd><dt><span>units :</span></dt><dd>decibar</dd><dt><span>C_format :</span></dt><dd>%7.1f</dd><dt><span>FORTRAN_format :</span></dt><dd>F7.1</dd><dt><span>resolution :</span></dt><dd>1.0</dd></dl></div><div class='xr-var-data'><pre>array([[nan, nan, nan, nan, nan, nan, nan, nan, nan, nan, nan, nan, nan, nan,\n",
       "        nan, nan, nan, nan, nan, nan, nan, nan, nan, nan, nan, nan, nan, nan,\n",
       "        nan, nan, nan, nan, nan, nan, nan, nan, nan, nan, nan, nan, nan, nan,\n",
       "        nan, nan, nan, nan, nan, nan, nan, nan, nan, nan, nan, nan, nan, nan,\n",
       "        nan, nan, nan, nan, nan, nan, nan, nan, nan, nan, nan, nan, nan, nan,\n",
       "        nan, nan, nan, nan, nan, nan, nan, nan, nan, nan, nan, nan, nan, nan,\n",
       "        nan, nan, nan, nan, nan, nan, nan, nan, nan, nan, nan, nan, nan],\n",
       "       [nan, nan, nan, nan, nan, nan, nan, nan, nan, nan, nan, nan, nan, nan,\n",
       "        nan, nan, nan, nan, nan, nan, nan, nan, nan, nan, nan, nan, nan, nan,\n",
       "        nan, nan, nan, nan, nan, nan, nan, nan, nan, nan, nan, nan, nan, nan,\n",
       "        nan, nan, nan, nan, nan, nan, nan, nan, nan, nan, nan, nan, nan, nan,\n",
       "        nan, nan, nan, nan, nan, nan, nan, nan, nan, nan, nan, nan, nan, nan,\n",
       "        nan, nan, nan, nan, nan, nan, nan, nan, nan, nan, nan, nan, nan, nan,\n",
       "        nan, nan, nan, nan, nan, nan, nan, nan, nan, nan, nan, nan, nan]],\n",
       "      dtype=float32)</pre></div></li><li class='xr-var-item'><div class='xr-var-name'><span>TEMP</span></div><div class='xr-var-dims'>(N_PROF, N_LEVELS)</div><div class='xr-var-dtype'>float32</div><div class='xr-var-preview xr-preview'>...</div><input id='attrs-72a08eca-1afb-43aa-994a-0c85c01efa06' class='xr-var-attrs-in' type='checkbox' ><label for='attrs-72a08eca-1afb-43aa-994a-0c85c01efa06' title='Show/Hide attributes'><svg class='icon xr-icon-file-text2'><use xlink:href='#icon-file-text2'></use></svg></label><input id='data-5ad63a78-1cc2-4791-83ea-624dd8bae965' class='xr-var-data-in' type='checkbox'><label for='data-5ad63a78-1cc2-4791-83ea-624dd8bae965' title='Show/Hide data repr'><svg class='icon xr-icon-database'><use xlink:href='#icon-database'></use></svg></label><div class='xr-var-attrs'><dl class='xr-attrs'><dt><span>long_name :</span></dt><dd>Sea temperature in-situ ITS-90 scale</dd><dt><span>standard_name :</span></dt><dd>sea_water_temperature</dd><dt><span>units :</span></dt><dd>degree_Celsius</dd><dt><span>valid_min :</span></dt><dd>-2.5</dd><dt><span>valid_max :</span></dt><dd>40.0</dd><dt><span>C_format :</span></dt><dd>%9.3f</dd><dt><span>FORTRAN_format :</span></dt><dd>F9.3</dd><dt><span>resolution :</span></dt><dd>0.001</dd></dl></div><div class='xr-var-data'><pre>array([[23.412, 23.412, 23.414, 23.412, 23.413, 23.41 , 23.398, 23.362,\n",
       "        21.52 , 19.551, 18.408, 17.947, 17.689, 17.378, 17.074, 17.   ,\n",
       "        16.869, 16.576, 16.334, 16.113, 15.882, 15.702, 15.486, 15.234,\n",
       "        14.892, 14.422, 14.024, 13.581, 13.244, 12.933, 12.75 , 12.526,\n",
       "        12.222, 11.994, 11.726, 11.396, 11.176, 10.982, 10.741, 10.528,\n",
       "        10.293, 10.098,  9.868,  9.731,  9.553,  9.394,  9.214,  9.099,\n",
       "         8.965,  8.795,  8.627,  8.502,  8.388,  8.374,  8.374,  8.366,\n",
       "         8.329,  8.241,  8.128,  8.089,  8.106,  8.091,  8.171,  8.175,\n",
       "         8.029,  7.794,  7.568,  7.41 ,  7.244,  7.081,  6.958,  6.882,\n",
       "         6.69 ,  6.64 ,  6.538,  6.452,  6.337,  6.256,  6.131,  6.011,\n",
       "         5.953,  5.79 ,  5.677,  5.609,  5.529,  5.441,  5.363,  5.33 ,\n",
       "         5.218,  5.133,  5.047,  4.972,  4.893,  4.804,  4.68 ,  4.559,\n",
       "         4.474],\n",
       "       [23.403, 23.412, 23.412, 23.412, 23.412, 23.414,    nan,    nan,\n",
       "           nan,    nan,    nan,    nan,    nan,    nan,    nan,    nan,\n",
       "           nan,    nan,    nan,    nan,    nan,    nan,    nan,    nan,\n",
       "           nan,    nan,    nan,    nan,    nan,    nan,    nan,    nan,\n",
       "           nan,    nan,    nan,    nan,    nan,    nan,    nan,    nan,\n",
       "           nan,    nan,    nan,    nan,    nan,    nan,    nan,    nan,\n",
       "           nan,    nan,    nan,    nan,    nan,    nan,    nan,    nan,\n",
       "           nan,    nan,    nan,    nan,    nan,    nan,    nan,    nan,\n",
       "           nan,    nan,    nan,    nan,    nan,    nan,    nan,    nan,\n",
       "           nan,    nan,    nan,    nan,    nan,    nan,    nan,    nan,\n",
       "           nan,    nan,    nan,    nan,    nan,    nan,    nan,    nan,\n",
       "           nan,    nan,    nan,    nan,    nan,    nan,    nan,    nan,\n",
       "           nan]], dtype=float32)</pre></div></li><li class='xr-var-item'><div class='xr-var-name'><span>TEMP_QC</span></div><div class='xr-var-dims'>(N_PROF, N_LEVELS)</div><div class='xr-var-dtype'>object</div><div class='xr-var-preview xr-preview'>...</div><input id='attrs-42a5b3d7-c57f-43f4-8562-b07d01d5e553' class='xr-var-attrs-in' type='checkbox' ><label for='attrs-42a5b3d7-c57f-43f4-8562-b07d01d5e553' title='Show/Hide attributes'><svg class='icon xr-icon-file-text2'><use xlink:href='#icon-file-text2'></use></svg></label><input id='data-d1cfeb74-18e0-4e27-a6fa-58da045d1005' class='xr-var-data-in' type='checkbox'><label for='data-d1cfeb74-18e0-4e27-a6fa-58da045d1005' title='Show/Hide data repr'><svg class='icon xr-icon-database'><use xlink:href='#icon-database'></use></svg></label><div class='xr-var-attrs'><dl class='xr-attrs'><dt><span>long_name :</span></dt><dd>quality flag</dd><dt><span>conventions :</span></dt><dd>Argo reference table 2</dd></dl></div><div class='xr-var-data'><pre>array([[b&#x27;1&#x27;, b&#x27;1&#x27;, b&#x27;1&#x27;, b&#x27;1&#x27;, b&#x27;1&#x27;, b&#x27;1&#x27;, b&#x27;1&#x27;, b&#x27;1&#x27;, b&#x27;1&#x27;, b&#x27;1&#x27;, b&#x27;1&#x27;,\n",
       "        b&#x27;1&#x27;, b&#x27;1&#x27;, b&#x27;1&#x27;, b&#x27;1&#x27;, b&#x27;1&#x27;, b&#x27;1&#x27;, b&#x27;1&#x27;, b&#x27;1&#x27;, b&#x27;1&#x27;, b&#x27;1&#x27;, b&#x27;1&#x27;,\n",
       "        b&#x27;1&#x27;, b&#x27;1&#x27;, b&#x27;1&#x27;, b&#x27;1&#x27;, b&#x27;1&#x27;, b&#x27;1&#x27;, b&#x27;1&#x27;, b&#x27;1&#x27;, b&#x27;1&#x27;, b&#x27;1&#x27;, b&#x27;1&#x27;,\n",
       "        b&#x27;1&#x27;, b&#x27;1&#x27;, b&#x27;1&#x27;, b&#x27;1&#x27;, b&#x27;1&#x27;, b&#x27;1&#x27;, b&#x27;1&#x27;, b&#x27;1&#x27;, b&#x27;1&#x27;, b&#x27;1&#x27;, b&#x27;1&#x27;,\n",
       "        b&#x27;1&#x27;, b&#x27;1&#x27;, b&#x27;1&#x27;, b&#x27;1&#x27;, b&#x27;1&#x27;, b&#x27;1&#x27;, b&#x27;1&#x27;, b&#x27;1&#x27;, b&#x27;1&#x27;, b&#x27;1&#x27;, b&#x27;1&#x27;,\n",
       "        b&#x27;1&#x27;, b&#x27;1&#x27;, b&#x27;1&#x27;, b&#x27;1&#x27;, b&#x27;1&#x27;, b&#x27;1&#x27;, b&#x27;1&#x27;, b&#x27;1&#x27;, b&#x27;1&#x27;, b&#x27;1&#x27;, b&#x27;1&#x27;,\n",
       "        b&#x27;1&#x27;, b&#x27;1&#x27;, b&#x27;1&#x27;, b&#x27;1&#x27;, b&#x27;1&#x27;, b&#x27;1&#x27;, b&#x27;1&#x27;, b&#x27;1&#x27;, b&#x27;1&#x27;, b&#x27;1&#x27;, b&#x27;1&#x27;,\n",
       "        b&#x27;1&#x27;, b&#x27;1&#x27;, b&#x27;1&#x27;, b&#x27;1&#x27;, b&#x27;1&#x27;, b&#x27;1&#x27;, b&#x27;1&#x27;, b&#x27;1&#x27;, b&#x27;1&#x27;, b&#x27;1&#x27;, b&#x27;1&#x27;,\n",
       "        b&#x27;1&#x27;, b&#x27;1&#x27;, b&#x27;1&#x27;, b&#x27;1&#x27;, b&#x27;1&#x27;, b&#x27;1&#x27;, b&#x27;1&#x27;, b&#x27;1&#x27;, b&#x27;1&#x27;],\n",
       "       [b&#x27;3&#x27;, b&#x27;3&#x27;, b&#x27;1&#x27;, b&#x27;1&#x27;, b&#x27;1&#x27;, b&#x27;1&#x27;, nan, nan, nan, nan, nan, nan, nan,\n",
       "        nan, nan, nan, nan, nan, nan, nan, nan, nan, nan, nan, nan, nan, nan,\n",
       "        nan, nan, nan, nan, nan, nan, nan, nan, nan, nan, nan, nan, nan, nan,\n",
       "        nan, nan, nan, nan, nan, nan, nan, nan, nan, nan, nan, nan, nan, nan,\n",
       "        nan, nan, nan, nan, nan, nan, nan, nan, nan, nan, nan, nan, nan, nan,\n",
       "        nan, nan, nan, nan, nan, nan, nan, nan, nan, nan, nan, nan, nan, nan,\n",
       "        nan, nan, nan, nan, nan, nan, nan, nan, nan, nan, nan, nan, nan, nan]],\n",
       "      dtype=object)</pre></div></li><li class='xr-var-item'><div class='xr-var-name'><span>TEMP_ADJUSTED</span></div><div class='xr-var-dims'>(N_PROF, N_LEVELS)</div><div class='xr-var-dtype'>float32</div><div class='xr-var-preview xr-preview'>...</div><input id='attrs-6cd7404f-12de-491c-8bbb-549103b0b39e' class='xr-var-attrs-in' type='checkbox' ><label for='attrs-6cd7404f-12de-491c-8bbb-549103b0b39e' title='Show/Hide attributes'><svg class='icon xr-icon-file-text2'><use xlink:href='#icon-file-text2'></use></svg></label><input id='data-f8035cac-f2c8-4603-9db0-958d592cdb49' class='xr-var-data-in' type='checkbox'><label for='data-f8035cac-f2c8-4603-9db0-958d592cdb49' title='Show/Hide data repr'><svg class='icon xr-icon-database'><use xlink:href='#icon-database'></use></svg></label><div class='xr-var-attrs'><dl class='xr-attrs'><dt><span>long_name :</span></dt><dd>Sea temperature in-situ ITS-90 scale</dd><dt><span>standard_name :</span></dt><dd>sea_water_temperature</dd><dt><span>units :</span></dt><dd>degree_Celsius</dd><dt><span>valid_min :</span></dt><dd>-2.5</dd><dt><span>valid_max :</span></dt><dd>40.0</dd><dt><span>C_format :</span></dt><dd>%9.3f</dd><dt><span>FORTRAN_format :</span></dt><dd>F9.3</dd><dt><span>resolution :</span></dt><dd>0.001</dd></dl></div><div class='xr-var-data'><pre>array([[nan, nan, nan, nan, nan, nan, nan, nan, nan, nan, nan, nan, nan, nan,\n",
       "        nan, nan, nan, nan, nan, nan, nan, nan, nan, nan, nan, nan, nan, nan,\n",
       "        nan, nan, nan, nan, nan, nan, nan, nan, nan, nan, nan, nan, nan, nan,\n",
       "        nan, nan, nan, nan, nan, nan, nan, nan, nan, nan, nan, nan, nan, nan,\n",
       "        nan, nan, nan, nan, nan, nan, nan, nan, nan, nan, nan, nan, nan, nan,\n",
       "        nan, nan, nan, nan, nan, nan, nan, nan, nan, nan, nan, nan, nan, nan,\n",
       "        nan, nan, nan, nan, nan, nan, nan, nan, nan, nan, nan, nan, nan],\n",
       "       [nan, nan, nan, nan, nan, nan, nan, nan, nan, nan, nan, nan, nan, nan,\n",
       "        nan, nan, nan, nan, nan, nan, nan, nan, nan, nan, nan, nan, nan, nan,\n",
       "        nan, nan, nan, nan, nan, nan, nan, nan, nan, nan, nan, nan, nan, nan,\n",
       "        nan, nan, nan, nan, nan, nan, nan, nan, nan, nan, nan, nan, nan, nan,\n",
       "        nan, nan, nan, nan, nan, nan, nan, nan, nan, nan, nan, nan, nan, nan,\n",
       "        nan, nan, nan, nan, nan, nan, nan, nan, nan, nan, nan, nan, nan, nan,\n",
       "        nan, nan, nan, nan, nan, nan, nan, nan, nan, nan, nan, nan, nan]],\n",
       "      dtype=float32)</pre></div></li><li class='xr-var-item'><div class='xr-var-name'><span>TEMP_ADJUSTED_QC</span></div><div class='xr-var-dims'>(N_PROF, N_LEVELS)</div><div class='xr-var-dtype'>object</div><div class='xr-var-preview xr-preview'>...</div><input id='attrs-8c2c237a-018f-47e2-9f56-c9f210745c53' class='xr-var-attrs-in' type='checkbox' ><label for='attrs-8c2c237a-018f-47e2-9f56-c9f210745c53' title='Show/Hide attributes'><svg class='icon xr-icon-file-text2'><use xlink:href='#icon-file-text2'></use></svg></label><input id='data-d563f8a1-744b-4019-ae4e-1c92e5a2b8eb' class='xr-var-data-in' type='checkbox'><label for='data-d563f8a1-744b-4019-ae4e-1c92e5a2b8eb' title='Show/Hide data repr'><svg class='icon xr-icon-database'><use xlink:href='#icon-database'></use></svg></label><div class='xr-var-attrs'><dl class='xr-attrs'><dt><span>long_name :</span></dt><dd>quality flag</dd><dt><span>conventions :</span></dt><dd>Argo reference table 2</dd></dl></div><div class='xr-var-data'><pre>array([[nan, nan, nan, nan, nan, nan, nan, nan, nan, nan, nan, nan, nan, nan,\n",
       "        nan, nan, nan, nan, nan, nan, nan, nan, nan, nan, nan, nan, nan, nan,\n",
       "        nan, nan, nan, nan, nan, nan, nan, nan, nan, nan, nan, nan, nan, nan,\n",
       "        nan, nan, nan, nan, nan, nan, nan, nan, nan, nan, nan, nan, nan, nan,\n",
       "        nan, nan, nan, nan, nan, nan, nan, nan, nan, nan, nan, nan, nan, nan,\n",
       "        nan, nan, nan, nan, nan, nan, nan, nan, nan, nan, nan, nan, nan, nan,\n",
       "        nan, nan, nan, nan, nan, nan, nan, nan, nan, nan, nan, nan, nan],\n",
       "       [nan, nan, nan, nan, nan, nan, nan, nan, nan, nan, nan, nan, nan, nan,\n",
       "        nan, nan, nan, nan, nan, nan, nan, nan, nan, nan, nan, nan, nan, nan,\n",
       "        nan, nan, nan, nan, nan, nan, nan, nan, nan, nan, nan, nan, nan, nan,\n",
       "        nan, nan, nan, nan, nan, nan, nan, nan, nan, nan, nan, nan, nan, nan,\n",
       "        nan, nan, nan, nan, nan, nan, nan, nan, nan, nan, nan, nan, nan, nan,\n",
       "        nan, nan, nan, nan, nan, nan, nan, nan, nan, nan, nan, nan, nan, nan,\n",
       "        nan, nan, nan, nan, nan, nan, nan, nan, nan, nan, nan, nan, nan]],\n",
       "      dtype=object)</pre></div></li><li class='xr-var-item'><div class='xr-var-name'><span>TEMP_ADJUSTED_ERROR</span></div><div class='xr-var-dims'>(N_PROF, N_LEVELS)</div><div class='xr-var-dtype'>float32</div><div class='xr-var-preview xr-preview'>...</div><input id='attrs-28bb453b-29a5-4f9f-a9e0-28734931c47a' class='xr-var-attrs-in' type='checkbox' ><label for='attrs-28bb453b-29a5-4f9f-a9e0-28734931c47a' title='Show/Hide attributes'><svg class='icon xr-icon-file-text2'><use xlink:href='#icon-file-text2'></use></svg></label><input id='data-a30d5339-a3de-448b-bc90-b49250570a9d' class='xr-var-data-in' type='checkbox'><label for='data-a30d5339-a3de-448b-bc90-b49250570a9d' title='Show/Hide data repr'><svg class='icon xr-icon-database'><use xlink:href='#icon-database'></use></svg></label><div class='xr-var-attrs'><dl class='xr-attrs'><dt><span>long_name :</span></dt><dd>Contains the error on the adjusted values as determined by the delayed mode QC process</dd><dt><span>units :</span></dt><dd>degree_Celsius</dd><dt><span>C_format :</span></dt><dd>%9.3f</dd><dt><span>FORTRAN_format :</span></dt><dd>F9.3</dd><dt><span>resolution :</span></dt><dd>0.001</dd></dl></div><div class='xr-var-data'><pre>array([[nan, nan, nan, nan, nan, nan, nan, nan, nan, nan, nan, nan, nan, nan,\n",
       "        nan, nan, nan, nan, nan, nan, nan, nan, nan, nan, nan, nan, nan, nan,\n",
       "        nan, nan, nan, nan, nan, nan, nan, nan, nan, nan, nan, nan, nan, nan,\n",
       "        nan, nan, nan, nan, nan, nan, nan, nan, nan, nan, nan, nan, nan, nan,\n",
       "        nan, nan, nan, nan, nan, nan, nan, nan, nan, nan, nan, nan, nan, nan,\n",
       "        nan, nan, nan, nan, nan, nan, nan, nan, nan, nan, nan, nan, nan, nan,\n",
       "        nan, nan, nan, nan, nan, nan, nan, nan, nan, nan, nan, nan, nan],\n",
       "       [nan, nan, nan, nan, nan, nan, nan, nan, nan, nan, nan, nan, nan, nan,\n",
       "        nan, nan, nan, nan, nan, nan, nan, nan, nan, nan, nan, nan, nan, nan,\n",
       "        nan, nan, nan, nan, nan, nan, nan, nan, nan, nan, nan, nan, nan, nan,\n",
       "        nan, nan, nan, nan, nan, nan, nan, nan, nan, nan, nan, nan, nan, nan,\n",
       "        nan, nan, nan, nan, nan, nan, nan, nan, nan, nan, nan, nan, nan, nan,\n",
       "        nan, nan, nan, nan, nan, nan, nan, nan, nan, nan, nan, nan, nan, nan,\n",
       "        nan, nan, nan, nan, nan, nan, nan, nan, nan, nan, nan, nan, nan]],\n",
       "      dtype=float32)</pre></div></li><li class='xr-var-item'><div class='xr-var-name'><span>PSAL</span></div><div class='xr-var-dims'>(N_PROF, N_LEVELS)</div><div class='xr-var-dtype'>float32</div><div class='xr-var-preview xr-preview'>...</div><input id='attrs-414640c0-b6d5-4679-a906-5ab93059a0d5' class='xr-var-attrs-in' type='checkbox' ><label for='attrs-414640c0-b6d5-4679-a906-5ab93059a0d5' title='Show/Hide attributes'><svg class='icon xr-icon-file-text2'><use xlink:href='#icon-file-text2'></use></svg></label><input id='data-d25fb119-4313-489a-b1ec-d9e798fe2a2a' class='xr-var-data-in' type='checkbox'><label for='data-d25fb119-4313-489a-b1ec-d9e798fe2a2a' title='Show/Hide data repr'><svg class='icon xr-icon-database'><use xlink:href='#icon-database'></use></svg></label><div class='xr-var-attrs'><dl class='xr-attrs'><dt><span>long_name :</span></dt><dd>Practical salinity</dd><dt><span>standard_name :</span></dt><dd>sea_water_salinity</dd><dt><span>units :</span></dt><dd>psu</dd><dt><span>valid_min :</span></dt><dd>2.0</dd><dt><span>valid_max :</span></dt><dd>41.0</dd><dt><span>C_format :</span></dt><dd>%9.3f</dd><dt><span>FORTRAN_format :</span></dt><dd>F9.3</dd><dt><span>resolution :</span></dt><dd>0.001</dd></dl></div><div class='xr-var-data'><pre>array([[36.697, 36.697, 36.697, 36.698, 36.698, 36.699, 36.706, 36.702,\n",
       "        36.558, 36.471, 36.437, 36.463, 36.493, 36.46 , 36.422, 36.414,\n",
       "        36.398, 36.343, 36.303, 36.272, 36.235, 36.206, 36.172, 36.128,\n",
       "        36.067, 35.986, 35.924, 35.859, 35.811, 35.771, 35.748, 35.722,\n",
       "        35.688, 35.662, 35.636, 35.6  , 35.577, 35.556, 35.532, 35.51 ,\n",
       "        35.486, 35.465, 35.441, 35.429, 35.413, 35.402, 35.391, 35.386,\n",
       "        35.378, 35.361, 35.348, 35.346, 35.355, 35.377, 35.398, 35.414,\n",
       "        35.43 , 35.436, 35.442, 35.454, 35.47 , 35.495, 35.53 , 35.544,\n",
       "        35.533, 35.501, 35.476, 35.455, 35.435, 35.418, 35.411, 35.408,\n",
       "        35.387, 35.386, 35.379, 35.375, 35.363, 35.355, 35.341, 35.329,\n",
       "        35.324, 35.304, 35.29 , 35.283, 35.273, 35.262, 35.252, 35.248,\n",
       "        35.235, 35.225, 35.215, 35.206, 35.197, 35.186, 35.169, 35.153,\n",
       "        35.142],\n",
       "       [36.701, 36.694, 36.695, 36.695, 36.697, 36.696,    nan,    nan,\n",
       "           nan,    nan,    nan,    nan,    nan,    nan,    nan,    nan,\n",
       "           nan,    nan,    nan,    nan,    nan,    nan,    nan,    nan,\n",
       "           nan,    nan,    nan,    nan,    nan,    nan,    nan,    nan,\n",
       "           nan,    nan,    nan,    nan,    nan,    nan,    nan,    nan,\n",
       "           nan,    nan,    nan,    nan,    nan,    nan,    nan,    nan,\n",
       "           nan,    nan,    nan,    nan,    nan,    nan,    nan,    nan,\n",
       "           nan,    nan,    nan,    nan,    nan,    nan,    nan,    nan,\n",
       "           nan,    nan,    nan,    nan,    nan,    nan,    nan,    nan,\n",
       "           nan,    nan,    nan,    nan,    nan,    nan,    nan,    nan,\n",
       "           nan,    nan,    nan,    nan,    nan,    nan,    nan,    nan,\n",
       "           nan,    nan,    nan,    nan,    nan,    nan,    nan,    nan,\n",
       "           nan]], dtype=float32)</pre></div></li><li class='xr-var-item'><div class='xr-var-name'><span>PSAL_QC</span></div><div class='xr-var-dims'>(N_PROF, N_LEVELS)</div><div class='xr-var-dtype'>object</div><div class='xr-var-preview xr-preview'>...</div><input id='attrs-50bbd3cb-211e-4107-9595-8cdd3c8fbf77' class='xr-var-attrs-in' type='checkbox' ><label for='attrs-50bbd3cb-211e-4107-9595-8cdd3c8fbf77' title='Show/Hide attributes'><svg class='icon xr-icon-file-text2'><use xlink:href='#icon-file-text2'></use></svg></label><input id='data-9d6c076f-0bec-42c0-a361-36f47409a83f' class='xr-var-data-in' type='checkbox'><label for='data-9d6c076f-0bec-42c0-a361-36f47409a83f' title='Show/Hide data repr'><svg class='icon xr-icon-database'><use xlink:href='#icon-database'></use></svg></label><div class='xr-var-attrs'><dl class='xr-attrs'><dt><span>long_name :</span></dt><dd>quality flag</dd><dt><span>conventions :</span></dt><dd>Argo reference table 2</dd></dl></div><div class='xr-var-data'><pre>array([[b&#x27;1&#x27;, b&#x27;1&#x27;, b&#x27;1&#x27;, b&#x27;1&#x27;, b&#x27;1&#x27;, b&#x27;1&#x27;, b&#x27;1&#x27;, b&#x27;1&#x27;, b&#x27;1&#x27;, b&#x27;1&#x27;, b&#x27;1&#x27;,\n",
       "        b&#x27;1&#x27;, b&#x27;1&#x27;, b&#x27;1&#x27;, b&#x27;1&#x27;, b&#x27;1&#x27;, b&#x27;1&#x27;, b&#x27;1&#x27;, b&#x27;1&#x27;, b&#x27;1&#x27;, b&#x27;1&#x27;, b&#x27;1&#x27;,\n",
       "        b&#x27;1&#x27;, b&#x27;1&#x27;, b&#x27;1&#x27;, b&#x27;1&#x27;, b&#x27;1&#x27;, b&#x27;1&#x27;, b&#x27;1&#x27;, b&#x27;1&#x27;, b&#x27;1&#x27;, b&#x27;1&#x27;, b&#x27;1&#x27;,\n",
       "        b&#x27;1&#x27;, b&#x27;1&#x27;, b&#x27;1&#x27;, b&#x27;1&#x27;, b&#x27;1&#x27;, b&#x27;1&#x27;, b&#x27;1&#x27;, b&#x27;1&#x27;, b&#x27;1&#x27;, b&#x27;1&#x27;, b&#x27;1&#x27;,\n",
       "        b&#x27;1&#x27;, b&#x27;1&#x27;, b&#x27;1&#x27;, b&#x27;1&#x27;, b&#x27;1&#x27;, b&#x27;1&#x27;, b&#x27;1&#x27;, b&#x27;1&#x27;, b&#x27;1&#x27;, b&#x27;1&#x27;, b&#x27;1&#x27;,\n",
       "        b&#x27;1&#x27;, b&#x27;1&#x27;, b&#x27;1&#x27;, b&#x27;1&#x27;, b&#x27;1&#x27;, b&#x27;1&#x27;, b&#x27;1&#x27;, b&#x27;1&#x27;, b&#x27;1&#x27;, b&#x27;1&#x27;, b&#x27;1&#x27;,\n",
       "        b&#x27;1&#x27;, b&#x27;1&#x27;, b&#x27;1&#x27;, b&#x27;1&#x27;, b&#x27;1&#x27;, b&#x27;1&#x27;, b&#x27;1&#x27;, b&#x27;1&#x27;, b&#x27;1&#x27;, b&#x27;1&#x27;, b&#x27;1&#x27;,\n",
       "        b&#x27;1&#x27;, b&#x27;1&#x27;, b&#x27;1&#x27;, b&#x27;1&#x27;, b&#x27;1&#x27;, b&#x27;1&#x27;, b&#x27;1&#x27;, b&#x27;1&#x27;, b&#x27;1&#x27;, b&#x27;1&#x27;, b&#x27;1&#x27;,\n",
       "        b&#x27;1&#x27;, b&#x27;1&#x27;, b&#x27;1&#x27;, b&#x27;1&#x27;, b&#x27;1&#x27;, b&#x27;1&#x27;, b&#x27;1&#x27;, b&#x27;1&#x27;, b&#x27;1&#x27;],\n",
       "       [b&#x27;3&#x27;, b&#x27;3&#x27;, b&#x27;3&#x27;, b&#x27;3&#x27;, b&#x27;3&#x27;, b&#x27;3&#x27;, nan, nan, nan, nan, nan, nan, nan,\n",
       "        nan, nan, nan, nan, nan, nan, nan, nan, nan, nan, nan, nan, nan, nan,\n",
       "        nan, nan, nan, nan, nan, nan, nan, nan, nan, nan, nan, nan, nan, nan,\n",
       "        nan, nan, nan, nan, nan, nan, nan, nan, nan, nan, nan, nan, nan, nan,\n",
       "        nan, nan, nan, nan, nan, nan, nan, nan, nan, nan, nan, nan, nan, nan,\n",
       "        nan, nan, nan, nan, nan, nan, nan, nan, nan, nan, nan, nan, nan, nan,\n",
       "        nan, nan, nan, nan, nan, nan, nan, nan, nan, nan, nan, nan, nan, nan]],\n",
       "      dtype=object)</pre></div></li><li class='xr-var-item'><div class='xr-var-name'><span>PSAL_ADJUSTED</span></div><div class='xr-var-dims'>(N_PROF, N_LEVELS)</div><div class='xr-var-dtype'>float32</div><div class='xr-var-preview xr-preview'>...</div><input id='attrs-629a6340-e4d1-4759-96ca-35ab8a4b9402' class='xr-var-attrs-in' type='checkbox' ><label for='attrs-629a6340-e4d1-4759-96ca-35ab8a4b9402' title='Show/Hide attributes'><svg class='icon xr-icon-file-text2'><use xlink:href='#icon-file-text2'></use></svg></label><input id='data-15ceba31-f072-4bd9-8be0-cbb216c357e8' class='xr-var-data-in' type='checkbox'><label for='data-15ceba31-f072-4bd9-8be0-cbb216c357e8' title='Show/Hide data repr'><svg class='icon xr-icon-database'><use xlink:href='#icon-database'></use></svg></label><div class='xr-var-attrs'><dl class='xr-attrs'><dt><span>long_name :</span></dt><dd>Practical salinity</dd><dt><span>standard_name :</span></dt><dd>sea_water_salinity</dd><dt><span>units :</span></dt><dd>psu</dd><dt><span>valid_min :</span></dt><dd>2.0</dd><dt><span>valid_max :</span></dt><dd>41.0</dd><dt><span>C_format :</span></dt><dd>%9.3f</dd><dt><span>FORTRAN_format :</span></dt><dd>F9.3</dd><dt><span>resolution :</span></dt><dd>0.001</dd></dl></div><div class='xr-var-data'><pre>array([[nan, nan, nan, nan, nan, nan, nan, nan, nan, nan, nan, nan, nan, nan,\n",
       "        nan, nan, nan, nan, nan, nan, nan, nan, nan, nan, nan, nan, nan, nan,\n",
       "        nan, nan, nan, nan, nan, nan, nan, nan, nan, nan, nan, nan, nan, nan,\n",
       "        nan, nan, nan, nan, nan, nan, nan, nan, nan, nan, nan, nan, nan, nan,\n",
       "        nan, nan, nan, nan, nan, nan, nan, nan, nan, nan, nan, nan, nan, nan,\n",
       "        nan, nan, nan, nan, nan, nan, nan, nan, nan, nan, nan, nan, nan, nan,\n",
       "        nan, nan, nan, nan, nan, nan, nan, nan, nan, nan, nan, nan, nan],\n",
       "       [nan, nan, nan, nan, nan, nan, nan, nan, nan, nan, nan, nan, nan, nan,\n",
       "        nan, nan, nan, nan, nan, nan, nan, nan, nan, nan, nan, nan, nan, nan,\n",
       "        nan, nan, nan, nan, nan, nan, nan, nan, nan, nan, nan, nan, nan, nan,\n",
       "        nan, nan, nan, nan, nan, nan, nan, nan, nan, nan, nan, nan, nan, nan,\n",
       "        nan, nan, nan, nan, nan, nan, nan, nan, nan, nan, nan, nan, nan, nan,\n",
       "        nan, nan, nan, nan, nan, nan, nan, nan, nan, nan, nan, nan, nan, nan,\n",
       "        nan, nan, nan, nan, nan, nan, nan, nan, nan, nan, nan, nan, nan]],\n",
       "      dtype=float32)</pre></div></li><li class='xr-var-item'><div class='xr-var-name'><span>PSAL_ADJUSTED_QC</span></div><div class='xr-var-dims'>(N_PROF, N_LEVELS)</div><div class='xr-var-dtype'>object</div><div class='xr-var-preview xr-preview'>...</div><input id='attrs-b811ce1c-4da7-4e92-b594-d1c666d3347a' class='xr-var-attrs-in' type='checkbox' ><label for='attrs-b811ce1c-4da7-4e92-b594-d1c666d3347a' title='Show/Hide attributes'><svg class='icon xr-icon-file-text2'><use xlink:href='#icon-file-text2'></use></svg></label><input id='data-a323c4c5-ba1b-49a1-a587-c741df825aa3' class='xr-var-data-in' type='checkbox'><label for='data-a323c4c5-ba1b-49a1-a587-c741df825aa3' title='Show/Hide data repr'><svg class='icon xr-icon-database'><use xlink:href='#icon-database'></use></svg></label><div class='xr-var-attrs'><dl class='xr-attrs'><dt><span>long_name :</span></dt><dd>quality flag</dd><dt><span>conventions :</span></dt><dd>Argo reference table 2</dd></dl></div><div class='xr-var-data'><pre>array([[nan, nan, nan, nan, nan, nan, nan, nan, nan, nan, nan, nan, nan, nan,\n",
       "        nan, nan, nan, nan, nan, nan, nan, nan, nan, nan, nan, nan, nan, nan,\n",
       "        nan, nan, nan, nan, nan, nan, nan, nan, nan, nan, nan, nan, nan, nan,\n",
       "        nan, nan, nan, nan, nan, nan, nan, nan, nan, nan, nan, nan, nan, nan,\n",
       "        nan, nan, nan, nan, nan, nan, nan, nan, nan, nan, nan, nan, nan, nan,\n",
       "        nan, nan, nan, nan, nan, nan, nan, nan, nan, nan, nan, nan, nan, nan,\n",
       "        nan, nan, nan, nan, nan, nan, nan, nan, nan, nan, nan, nan, nan],\n",
       "       [nan, nan, nan, nan, nan, nan, nan, nan, nan, nan, nan, nan, nan, nan,\n",
       "        nan, nan, nan, nan, nan, nan, nan, nan, nan, nan, nan, nan, nan, nan,\n",
       "        nan, nan, nan, nan, nan, nan, nan, nan, nan, nan, nan, nan, nan, nan,\n",
       "        nan, nan, nan, nan, nan, nan, nan, nan, nan, nan, nan, nan, nan, nan,\n",
       "        nan, nan, nan, nan, nan, nan, nan, nan, nan, nan, nan, nan, nan, nan,\n",
       "        nan, nan, nan, nan, nan, nan, nan, nan, nan, nan, nan, nan, nan, nan,\n",
       "        nan, nan, nan, nan, nan, nan, nan, nan, nan, nan, nan, nan, nan]],\n",
       "      dtype=object)</pre></div></li><li class='xr-var-item'><div class='xr-var-name'><span>PSAL_ADJUSTED_ERROR</span></div><div class='xr-var-dims'>(N_PROF, N_LEVELS)</div><div class='xr-var-dtype'>float32</div><div class='xr-var-preview xr-preview'>...</div><input id='attrs-74eadae2-59fb-407e-9a48-7804b9f42393' class='xr-var-attrs-in' type='checkbox' ><label for='attrs-74eadae2-59fb-407e-9a48-7804b9f42393' title='Show/Hide attributes'><svg class='icon xr-icon-file-text2'><use xlink:href='#icon-file-text2'></use></svg></label><input id='data-bf206537-8fe9-4cb8-80a3-d6bcd562871b' class='xr-var-data-in' type='checkbox'><label for='data-bf206537-8fe9-4cb8-80a3-d6bcd562871b' title='Show/Hide data repr'><svg class='icon xr-icon-database'><use xlink:href='#icon-database'></use></svg></label><div class='xr-var-attrs'><dl class='xr-attrs'><dt><span>long_name :</span></dt><dd>Contains the error on the adjusted values as determined by the delayed mode QC process</dd><dt><span>units :</span></dt><dd>psu</dd><dt><span>C_format :</span></dt><dd>%9.3f</dd><dt><span>FORTRAN_format :</span></dt><dd>F9.3</dd><dt><span>resolution :</span></dt><dd>0.001</dd></dl></div><div class='xr-var-data'><pre>array([[nan, nan, nan, nan, nan, nan, nan, nan, nan, nan, nan, nan, nan, nan,\n",
       "        nan, nan, nan, nan, nan, nan, nan, nan, nan, nan, nan, nan, nan, nan,\n",
       "        nan, nan, nan, nan, nan, nan, nan, nan, nan, nan, nan, nan, nan, nan,\n",
       "        nan, nan, nan, nan, nan, nan, nan, nan, nan, nan, nan, nan, nan, nan,\n",
       "        nan, nan, nan, nan, nan, nan, nan, nan, nan, nan, nan, nan, nan, nan,\n",
       "        nan, nan, nan, nan, nan, nan, nan, nan, nan, nan, nan, nan, nan, nan,\n",
       "        nan, nan, nan, nan, nan, nan, nan, nan, nan, nan, nan, nan, nan],\n",
       "       [nan, nan, nan, nan, nan, nan, nan, nan, nan, nan, nan, nan, nan, nan,\n",
       "        nan, nan, nan, nan, nan, nan, nan, nan, nan, nan, nan, nan, nan, nan,\n",
       "        nan, nan, nan, nan, nan, nan, nan, nan, nan, nan, nan, nan, nan, nan,\n",
       "        nan, nan, nan, nan, nan, nan, nan, nan, nan, nan, nan, nan, nan, nan,\n",
       "        nan, nan, nan, nan, nan, nan, nan, nan, nan, nan, nan, nan, nan, nan,\n",
       "        nan, nan, nan, nan, nan, nan, nan, nan, nan, nan, nan, nan, nan, nan,\n",
       "        nan, nan, nan, nan, nan, nan, nan, nan, nan, nan, nan, nan, nan]],\n",
       "      dtype=float32)</pre></div></li><li class='xr-var-item'><div class='xr-var-name'><span>HISTORY_INSTITUTION</span></div><div class='xr-var-dims'>(N_HISTORY, N_PROF)</div><div class='xr-var-dtype'>object</div><div class='xr-var-preview xr-preview'>...</div><input id='attrs-bda3c84a-f00d-43ad-bc71-089a06d8a295' class='xr-var-attrs-in' type='checkbox' ><label for='attrs-bda3c84a-f00d-43ad-bc71-089a06d8a295' title='Show/Hide attributes'><svg class='icon xr-icon-file-text2'><use xlink:href='#icon-file-text2'></use></svg></label><input id='data-cc362cb4-ba3c-444c-bf5d-f554727fa0f8' class='xr-var-data-in' type='checkbox'><label for='data-cc362cb4-ba3c-444c-bf5d-f554727fa0f8' title='Show/Hide data repr'><svg class='icon xr-icon-database'><use xlink:href='#icon-database'></use></svg></label><div class='xr-var-attrs'><dl class='xr-attrs'><dt><span>long_name :</span></dt><dd>Institution which performed action</dd><dt><span>conventions :</span></dt><dd>Argo reference table 4</dd></dl></div><div class='xr-var-data'><pre>array([[b&#x27;IF  &#x27;, b&#x27;IF  &#x27;],\n",
       "       [b&#x27;IF  &#x27;, b&#x27;IF  &#x27;],\n",
       "       [b&#x27;IF  &#x27;, b&#x27;IF  &#x27;]], dtype=object)</pre></div></li><li class='xr-var-item'><div class='xr-var-name'><span>HISTORY_STEP</span></div><div class='xr-var-dims'>(N_HISTORY, N_PROF)</div><div class='xr-var-dtype'>object</div><div class='xr-var-preview xr-preview'>...</div><input id='attrs-a13b2031-e209-467d-a9ca-cad1ba2ff66f' class='xr-var-attrs-in' type='checkbox' ><label for='attrs-a13b2031-e209-467d-a9ca-cad1ba2ff66f' title='Show/Hide attributes'><svg class='icon xr-icon-file-text2'><use xlink:href='#icon-file-text2'></use></svg></label><input id='data-ce2999a6-bd16-4f25-b055-f5ce723ec254' class='xr-var-data-in' type='checkbox'><label for='data-ce2999a6-bd16-4f25-b055-f5ce723ec254' title='Show/Hide data repr'><svg class='icon xr-icon-database'><use xlink:href='#icon-database'></use></svg></label><div class='xr-var-attrs'><dl class='xr-attrs'><dt><span>long_name :</span></dt><dd>Step in data processing</dd><dt><span>conventions :</span></dt><dd>Argo reference table 12</dd></dl></div><div class='xr-var-data'><pre>array([[b&#x27;ARFM&#x27;, b&#x27;ARFM&#x27;],\n",
       "       [b&#x27;ARGQ&#x27;, b&#x27;ARGQ&#x27;],\n",
       "       [b&#x27;ARGQ&#x27;, b&#x27;ARGQ&#x27;]], dtype=object)</pre></div></li><li class='xr-var-item'><div class='xr-var-name'><span>HISTORY_SOFTWARE</span></div><div class='xr-var-dims'>(N_HISTORY, N_PROF)</div><div class='xr-var-dtype'>object</div><div class='xr-var-preview xr-preview'>...</div><input id='attrs-c5e554b9-a0dc-440f-bb9b-e5a8fe9280ea' class='xr-var-attrs-in' type='checkbox' ><label for='attrs-c5e554b9-a0dc-440f-bb9b-e5a8fe9280ea' title='Show/Hide attributes'><svg class='icon xr-icon-file-text2'><use xlink:href='#icon-file-text2'></use></svg></label><input id='data-84361de7-4861-4704-b6fe-4f8e8c59cd01' class='xr-var-data-in' type='checkbox'><label for='data-84361de7-4861-4704-b6fe-4f8e8c59cd01' title='Show/Hide data repr'><svg class='icon xr-icon-database'><use xlink:href='#icon-database'></use></svg></label><div class='xr-var-attrs'><dl class='xr-attrs'><dt><span>long_name :</span></dt><dd>Name of software which performed action</dd><dt><span>conventions :</span></dt><dd>Institution dependent</dd></dl></div><div class='xr-var-data'><pre>array([[b&#x27;CODA&#x27;, b&#x27;CODA&#x27;],\n",
       "       [b&#x27;COQC&#x27;, b&#x27;COQC&#x27;],\n",
       "       [b&#x27;COQC&#x27;, b&#x27;COQC&#x27;]], dtype=object)</pre></div></li><li class='xr-var-item'><div class='xr-var-name'><span>HISTORY_SOFTWARE_RELEASE</span></div><div class='xr-var-dims'>(N_HISTORY, N_PROF)</div><div class='xr-var-dtype'>object</div><div class='xr-var-preview xr-preview'>...</div><input id='attrs-904e8fd3-c32a-4219-9fe4-b5851fae3b80' class='xr-var-attrs-in' type='checkbox' ><label for='attrs-904e8fd3-c32a-4219-9fe4-b5851fae3b80' title='Show/Hide attributes'><svg class='icon xr-icon-file-text2'><use xlink:href='#icon-file-text2'></use></svg></label><input id='data-d59c70a6-ba47-4f29-b7e7-161e139288b8' class='xr-var-data-in' type='checkbox'><label for='data-d59c70a6-ba47-4f29-b7e7-161e139288b8' title='Show/Hide data repr'><svg class='icon xr-icon-database'><use xlink:href='#icon-database'></use></svg></label><div class='xr-var-attrs'><dl class='xr-attrs'><dt><span>long_name :</span></dt><dd>Version/release of software which performed action</dd><dt><span>conventions :</span></dt><dd>Institution dependent</dd></dl></div><div class='xr-var-data'><pre>array([[b&#x27;027d&#x27;, b&#x27;027d&#x27;],\n",
       "       [b&#x27;3.8 &#x27;, b&#x27;3.8 &#x27;],\n",
       "       [b&#x27;3.8 &#x27;, b&#x27;3.8 &#x27;]], dtype=object)</pre></div></li><li class='xr-var-item'><div class='xr-var-name'><span>HISTORY_REFERENCE</span></div><div class='xr-var-dims'>(N_HISTORY, N_PROF)</div><div class='xr-var-dtype'>object</div><div class='xr-var-preview xr-preview'>...</div><input id='attrs-771834d4-74fc-48a4-81d5-a821a4b632f9' class='xr-var-attrs-in' type='checkbox' ><label for='attrs-771834d4-74fc-48a4-81d5-a821a4b632f9' title='Show/Hide attributes'><svg class='icon xr-icon-file-text2'><use xlink:href='#icon-file-text2'></use></svg></label><input id='data-5f2d35dc-e00c-4f18-989d-afc17190480b' class='xr-var-data-in' type='checkbox'><label for='data-5f2d35dc-e00c-4f18-989d-afc17190480b' title='Show/Hide data repr'><svg class='icon xr-icon-database'><use xlink:href='#icon-database'></use></svg></label><div class='xr-var-attrs'><dl class='xr-attrs'><dt><span>long_name :</span></dt><dd>Reference of database</dd><dt><span>conventions :</span></dt><dd>Institution dependent</dd></dl></div><div class='xr-var-data'><pre>array([[b&#x27;                                                                &#x27;,\n",
       "        b&#x27;                                                                &#x27;],\n",
       "       [b&#x27;                                                                &#x27;,\n",
       "        b&#x27;                                                                &#x27;],\n",
       "       [b&#x27;                                                                &#x27;,\n",
       "        b&#x27;                                                                &#x27;]],\n",
       "      dtype=object)</pre></div></li><li class='xr-var-item'><div class='xr-var-name'><span>HISTORY_DATE</span></div><div class='xr-var-dims'>(N_HISTORY, N_PROF)</div><div class='xr-var-dtype'>object</div><div class='xr-var-preview xr-preview'>...</div><input id='attrs-4f96fcb3-70e2-46d8-a875-256e194053d4' class='xr-var-attrs-in' type='checkbox' ><label for='attrs-4f96fcb3-70e2-46d8-a875-256e194053d4' title='Show/Hide attributes'><svg class='icon xr-icon-file-text2'><use xlink:href='#icon-file-text2'></use></svg></label><input id='data-9d37967a-29ce-411e-8594-e6cb0661906b' class='xr-var-data-in' type='checkbox'><label for='data-9d37967a-29ce-411e-8594-e6cb0661906b' title='Show/Hide data repr'><svg class='icon xr-icon-database'><use xlink:href='#icon-database'></use></svg></label><div class='xr-var-attrs'><dl class='xr-attrs'><dt><span>long_name :</span></dt><dd>Date the history record was created</dd><dt><span>conventions :</span></dt><dd>YYYYMMDDHHMISS</dd></dl></div><div class='xr-var-data'><pre>array([[b&#x27;20190115112518&#x27;, b&#x27;20190115112518&#x27;],\n",
       "       [b&#x27;20190115112524&#x27;, b&#x27;20190115112524&#x27;],\n",
       "       [b&#x27;20190115112524&#x27;, b&#x27;20190115112524&#x27;]], dtype=object)</pre></div></li><li class='xr-var-item'><div class='xr-var-name'><span>HISTORY_ACTION</span></div><div class='xr-var-dims'>(N_HISTORY, N_PROF)</div><div class='xr-var-dtype'>object</div><div class='xr-var-preview xr-preview'>...</div><input id='attrs-52fc43e0-9cf8-40bf-84b2-877afc0eb06a' class='xr-var-attrs-in' type='checkbox' ><label for='attrs-52fc43e0-9cf8-40bf-84b2-877afc0eb06a' title='Show/Hide attributes'><svg class='icon xr-icon-file-text2'><use xlink:href='#icon-file-text2'></use></svg></label><input id='data-5c54a620-0541-4f12-956c-b35fb2c1e165' class='xr-var-data-in' type='checkbox'><label for='data-5c54a620-0541-4f12-956c-b35fb2c1e165' title='Show/Hide data repr'><svg class='icon xr-icon-database'><use xlink:href='#icon-database'></use></svg></label><div class='xr-var-attrs'><dl class='xr-attrs'><dt><span>long_name :</span></dt><dd>Action performed on data</dd><dt><span>conventions :</span></dt><dd>Argo reference table 7</dd></dl></div><div class='xr-var-data'><pre>array([[b&#x27;    &#x27;, b&#x27;    &#x27;],\n",
       "       [b&#x27;QCP$&#x27;, b&#x27;QCP$&#x27;],\n",
       "       [b&#x27;QCF$&#x27;, b&#x27;QCF$&#x27;]], dtype=object)</pre></div></li><li class='xr-var-item'><div class='xr-var-name'><span>HISTORY_PARAMETER</span></div><div class='xr-var-dims'>(N_HISTORY, N_PROF)</div><div class='xr-var-dtype'>object</div><div class='xr-var-preview xr-preview'>...</div><input id='attrs-39d979cd-8edd-40cd-b81a-6ad007d769f6' class='xr-var-attrs-in' type='checkbox' ><label for='attrs-39d979cd-8edd-40cd-b81a-6ad007d769f6' title='Show/Hide attributes'><svg class='icon xr-icon-file-text2'><use xlink:href='#icon-file-text2'></use></svg></label><input id='data-4d3daa7a-0ae9-4de9-8542-f2ef0bfda45c' class='xr-var-data-in' type='checkbox'><label for='data-4d3daa7a-0ae9-4de9-8542-f2ef0bfda45c' title='Show/Hide data repr'><svg class='icon xr-icon-database'><use xlink:href='#icon-database'></use></svg></label><div class='xr-var-attrs'><dl class='xr-attrs'><dt><span>long_name :</span></dt><dd>Station parameter action is performed on</dd><dt><span>conventions :</span></dt><dd>Argo reference table 3</dd></dl></div><div class='xr-var-data'><pre>array([[b&#x27;                &#x27;, b&#x27;                &#x27;],\n",
       "       [b&#x27;                &#x27;, b&#x27;                &#x27;],\n",
       "       [b&#x27;                &#x27;, b&#x27;                &#x27;]], dtype=object)</pre></div></li><li class='xr-var-item'><div class='xr-var-name'><span>HISTORY_START_PRES</span></div><div class='xr-var-dims'>(N_HISTORY, N_PROF)</div><div class='xr-var-dtype'>float32</div><div class='xr-var-preview xr-preview'>...</div><input id='attrs-59ab06a3-cdc0-4347-904b-d2a079227e54' class='xr-var-attrs-in' type='checkbox' ><label for='attrs-59ab06a3-cdc0-4347-904b-d2a079227e54' title='Show/Hide attributes'><svg class='icon xr-icon-file-text2'><use xlink:href='#icon-file-text2'></use></svg></label><input id='data-76476b4e-e8cc-4776-9263-3491db729ce4' class='xr-var-data-in' type='checkbox'><label for='data-76476b4e-e8cc-4776-9263-3491db729ce4' title='Show/Hide data repr'><svg class='icon xr-icon-database'><use xlink:href='#icon-database'></use></svg></label><div class='xr-var-attrs'><dl class='xr-attrs'><dt><span>long_name :</span></dt><dd>Start pressure action applied on</dd><dt><span>units :</span></dt><dd>decibar</dd></dl></div><div class='xr-var-data'><pre>array([[nan, nan],\n",
       "       [nan, nan],\n",
       "       [nan, nan]], dtype=float32)</pre></div></li><li class='xr-var-item'><div class='xr-var-name'><span>HISTORY_STOP_PRES</span></div><div class='xr-var-dims'>(N_HISTORY, N_PROF)</div><div class='xr-var-dtype'>float32</div><div class='xr-var-preview xr-preview'>...</div><input id='attrs-32c1fae0-576d-4ac8-83ea-7493fbb9f153' class='xr-var-attrs-in' type='checkbox' ><label for='attrs-32c1fae0-576d-4ac8-83ea-7493fbb9f153' title='Show/Hide attributes'><svg class='icon xr-icon-file-text2'><use xlink:href='#icon-file-text2'></use></svg></label><input id='data-ce1f4c31-0688-445f-ab38-05f15f4efb68' class='xr-var-data-in' type='checkbox'><label for='data-ce1f4c31-0688-445f-ab38-05f15f4efb68' title='Show/Hide data repr'><svg class='icon xr-icon-database'><use xlink:href='#icon-database'></use></svg></label><div class='xr-var-attrs'><dl class='xr-attrs'><dt><span>long_name :</span></dt><dd>Stop pressure action applied on</dd><dt><span>units :</span></dt><dd>decibar</dd></dl></div><div class='xr-var-data'><pre>array([[nan, nan],\n",
       "       [nan, nan],\n",
       "       [nan, nan]], dtype=float32)</pre></div></li><li class='xr-var-item'><div class='xr-var-name'><span>HISTORY_PREVIOUS_VALUE</span></div><div class='xr-var-dims'>(N_HISTORY, N_PROF)</div><div class='xr-var-dtype'>float32</div><div class='xr-var-preview xr-preview'>...</div><input id='attrs-d4b6660b-e878-4828-a398-9123aab167cd' class='xr-var-attrs-in' type='checkbox' ><label for='attrs-d4b6660b-e878-4828-a398-9123aab167cd' title='Show/Hide attributes'><svg class='icon xr-icon-file-text2'><use xlink:href='#icon-file-text2'></use></svg></label><input id='data-2edf5543-a12e-46bb-87db-bbb91b5ecfbb' class='xr-var-data-in' type='checkbox'><label for='data-2edf5543-a12e-46bb-87db-bbb91b5ecfbb' title='Show/Hide data repr'><svg class='icon xr-icon-database'><use xlink:href='#icon-database'></use></svg></label><div class='xr-var-attrs'><dl class='xr-attrs'><dt><span>long_name :</span></dt><dd>Parameter/Flag previous value before action</dd></dl></div><div class='xr-var-data'><pre>array([[nan, nan],\n",
       "       [nan, nan],\n",
       "       [nan, nan]], dtype=float32)</pre></div></li><li class='xr-var-item'><div class='xr-var-name'><span>HISTORY_QCTEST</span></div><div class='xr-var-dims'>(N_HISTORY, N_PROF)</div><div class='xr-var-dtype'>object</div><div class='xr-var-preview xr-preview'>...</div><input id='attrs-b8db7a42-be1d-4408-b0dc-5f60a8639e10' class='xr-var-attrs-in' type='checkbox' ><label for='attrs-b8db7a42-be1d-4408-b0dc-5f60a8639e10' title='Show/Hide attributes'><svg class='icon xr-icon-file-text2'><use xlink:href='#icon-file-text2'></use></svg></label><input id='data-b09469fd-e360-4891-b1d5-83efbb749a07' class='xr-var-data-in' type='checkbox'><label for='data-b09469fd-e360-4891-b1d5-83efbb749a07' title='Show/Hide data repr'><svg class='icon xr-icon-database'><use xlink:href='#icon-database'></use></svg></label><div class='xr-var-attrs'><dl class='xr-attrs'><dt><span>long_name :</span></dt><dd>Documentation of tests performed, tests failed (in hex form)</dd><dt><span>conventions :</span></dt><dd>Write tests performed when ACTION=QCP$; tests failed when ACTION=QCF$</dd></dl></div><div class='xr-var-data'><pre>array([[b&#x27;                &#x27;, b&#x27;                &#x27;],\n",
       "       [b&#x27;000000000008FB7E&#x27;, b&#x27;0000000000689B7E&#x27;],\n",
       "       [b&#x27;0000000000000000&#x27;, b&#x27;0000000000600000&#x27;]], dtype=object)</pre></div></li><li class='xr-var-item'><div class='xr-var-name'><span>PARAMETER</span></div><div class='xr-var-dims'>(N_PROF, N_CALIB, N_PARAM)</div><div class='xr-var-dtype'>object</div><div class='xr-var-preview xr-preview'>...</div><input id='attrs-ada287a7-206d-4a11-9cf7-feb311a0fc2e' class='xr-var-attrs-in' type='checkbox' ><label for='attrs-ada287a7-206d-4a11-9cf7-feb311a0fc2e' title='Show/Hide attributes'><svg class='icon xr-icon-file-text2'><use xlink:href='#icon-file-text2'></use></svg></label><input id='data-9b0bdadb-2b4c-4ddf-bc3c-d573059a9c80' class='xr-var-data-in' type='checkbox'><label for='data-9b0bdadb-2b4c-4ddf-bc3c-d573059a9c80' title='Show/Hide data repr'><svg class='icon xr-icon-database'><use xlink:href='#icon-database'></use></svg></label><div class='xr-var-attrs'><dl class='xr-attrs'><dt><span>long_name :</span></dt><dd>List of parameters with calibration information</dd><dt><span>conventions :</span></dt><dd>Argo reference table 3</dd></dl></div><div class='xr-var-data'><pre>array([[[b&#x27;PRES            &#x27;, b&#x27;TEMP            &#x27;, b&#x27;PSAL            &#x27;]],\n",
       "\n",
       "       [[b&#x27;PRES            &#x27;, b&#x27;TEMP            &#x27;, b&#x27;PSAL            &#x27;]]],\n",
       "      dtype=object)</pre></div></li><li class='xr-var-item'><div class='xr-var-name'><span>SCIENTIFIC_CALIB_EQUATION</span></div><div class='xr-var-dims'>(N_PROF, N_CALIB, N_PARAM)</div><div class='xr-var-dtype'>object</div><div class='xr-var-preview xr-preview'>...</div><input id='attrs-1e9b66fa-8e77-48d2-bcc7-f46cca5faed8' class='xr-var-attrs-in' type='checkbox' ><label for='attrs-1e9b66fa-8e77-48d2-bcc7-f46cca5faed8' title='Show/Hide attributes'><svg class='icon xr-icon-file-text2'><use xlink:href='#icon-file-text2'></use></svg></label><input id='data-4a79b31e-8b36-48de-967e-a38e1f052c6f' class='xr-var-data-in' type='checkbox'><label for='data-4a79b31e-8b36-48de-967e-a38e1f052c6f' title='Show/Hide data repr'><svg class='icon xr-icon-database'><use xlink:href='#icon-database'></use></svg></label><div class='xr-var-attrs'><dl class='xr-attrs'><dt><span>long_name :</span></dt><dd>Calibration equation for this parameter</dd></dl></div><div class='xr-var-data'><pre>array([[[b&#x27;                                                                                                                                                                                                                                                                &#x27;,\n",
       "         b&#x27;                                                                                                                                                                                                                                                                &#x27;,\n",
       "         b&#x27;                                                                                                                                                                                                                                                                &#x27;]],\n",
       "\n",
       "       [[b&#x27;                                                                                                                                                                                                                                                                &#x27;,\n",
       "         b&#x27;                                                                                                                                                                                                                                                                &#x27;,\n",
       "         b&#x27;                                                                                                                                                                                                                                                                &#x27;]]],\n",
       "      dtype=object)</pre></div></li><li class='xr-var-item'><div class='xr-var-name'><span>SCIENTIFIC_CALIB_COEFFICIENT</span></div><div class='xr-var-dims'>(N_PROF, N_CALIB, N_PARAM)</div><div class='xr-var-dtype'>object</div><div class='xr-var-preview xr-preview'>...</div><input id='attrs-99c894f6-75cf-4990-81be-36341b77b01e' class='xr-var-attrs-in' type='checkbox' ><label for='attrs-99c894f6-75cf-4990-81be-36341b77b01e' title='Show/Hide attributes'><svg class='icon xr-icon-file-text2'><use xlink:href='#icon-file-text2'></use></svg></label><input id='data-1908e1c0-da7d-495d-b0ca-aa13a5af5356' class='xr-var-data-in' type='checkbox'><label for='data-1908e1c0-da7d-495d-b0ca-aa13a5af5356' title='Show/Hide data repr'><svg class='icon xr-icon-database'><use xlink:href='#icon-database'></use></svg></label><div class='xr-var-attrs'><dl class='xr-attrs'><dt><span>long_name :</span></dt><dd>Calibration coefficients for this equation</dd></dl></div><div class='xr-var-data'><pre>array([[[b&#x27;                                                                                                                                                                                                                                                                &#x27;,\n",
       "         b&#x27;                                                                                                                                                                                                                                                                &#x27;,\n",
       "         b&#x27;                                                                                                                                                                                                                                                                &#x27;]],\n",
       "\n",
       "       [[b&#x27;                                                                                                                                                                                                                                                                &#x27;,\n",
       "         b&#x27;                                                                                                                                                                                                                                                                &#x27;,\n",
       "         b&#x27;                                                                                                                                                                                                                                                                &#x27;]]],\n",
       "      dtype=object)</pre></div></li><li class='xr-var-item'><div class='xr-var-name'><span>SCIENTIFIC_CALIB_COMMENT</span></div><div class='xr-var-dims'>(N_PROF, N_CALIB, N_PARAM)</div><div class='xr-var-dtype'>object</div><div class='xr-var-preview xr-preview'>...</div><input id='attrs-bda54f13-ecc4-44e8-bd64-6fd12b557c23' class='xr-var-attrs-in' type='checkbox' ><label for='attrs-bda54f13-ecc4-44e8-bd64-6fd12b557c23' title='Show/Hide attributes'><svg class='icon xr-icon-file-text2'><use xlink:href='#icon-file-text2'></use></svg></label><input id='data-2abb4498-d9fc-4244-9b18-a45bce95d334' class='xr-var-data-in' type='checkbox'><label for='data-2abb4498-d9fc-4244-9b18-a45bce95d334' title='Show/Hide data repr'><svg class='icon xr-icon-database'><use xlink:href='#icon-database'></use></svg></label><div class='xr-var-attrs'><dl class='xr-attrs'><dt><span>long_name :</span></dt><dd>Comment applying to this parameter calibration</dd></dl></div><div class='xr-var-data'><pre>array([[[b&#x27;                                                                                                                                                                                                                                                                &#x27;,\n",
       "         b&#x27;                                                                                                                                                                                                                                                                &#x27;,\n",
       "         b&#x27;                                                                                                                                                                                                                                                                &#x27;]],\n",
       "\n",
       "       [[b&#x27;                                                                                                                                                                                                                                                                &#x27;,\n",
       "         b&#x27;                                                                                                                                                                                                                                                                &#x27;,\n",
       "         b&#x27;                                                                                                                                                                                                                                                                &#x27;]]],\n",
       "      dtype=object)</pre></div></li><li class='xr-var-item'><div class='xr-var-name'><span>SCIENTIFIC_CALIB_DATE</span></div><div class='xr-var-dims'>(N_PROF, N_CALIB, N_PARAM)</div><div class='xr-var-dtype'>object</div><div class='xr-var-preview xr-preview'>...</div><input id='attrs-7a49b232-c102-4fb7-9aa3-e9ead17d8149' class='xr-var-attrs-in' type='checkbox' ><label for='attrs-7a49b232-c102-4fb7-9aa3-e9ead17d8149' title='Show/Hide attributes'><svg class='icon xr-icon-file-text2'><use xlink:href='#icon-file-text2'></use></svg></label><input id='data-3f88d006-0d1e-4a61-b687-4f77fe9c27d6' class='xr-var-data-in' type='checkbox'><label for='data-3f88d006-0d1e-4a61-b687-4f77fe9c27d6' title='Show/Hide data repr'><svg class='icon xr-icon-database'><use xlink:href='#icon-database'></use></svg></label><div class='xr-var-attrs'><dl class='xr-attrs'><dt><span>long_name :</span></dt><dd>Date of calibration</dd><dt><span>conventions :</span></dt><dd>YYYYMMDDHHMISS</dd></dl></div><div class='xr-var-data'><pre>array([[[b&#x27;              &#x27;, b&#x27;              &#x27;, b&#x27;              &#x27;]],\n",
       "\n",
       "       [[b&#x27;              &#x27;, b&#x27;              &#x27;, b&#x27;              &#x27;]]],\n",
       "      dtype=object)</pre></div></li></ul></div></li><li class='xr-section-item'><input id='section-45f77be1-c452-4076-a8ff-3b917fc1447f' class='xr-section-summary-in' type='checkbox'  checked><label for='section-45f77be1-c452-4076-a8ff-3b917fc1447f' class='xr-section-summary' >Attributes: <span>(9)</span></label><div class='xr-section-inline-details'></div><div class='xr-section-details'><dl class='xr-attrs'><dt><span>title :</span></dt><dd>Argo float vertical profile</dd><dt><span>institution :</span></dt><dd>CORIOLIS</dd><dt><span>source :</span></dt><dd>Argo float</dd><dt><span>history :</span></dt><dd>2019-01-15T11:25:18Z creation; 2019-01-15T11:25:24Z last update (coriolis COQC software)</dd><dt><span>references :</span></dt><dd>http://www.argodatamgt.org/Documentation</dd><dt><span>user_manual_version :</span></dt><dd>3.1</dd><dt><span>Conventions :</span></dt><dd>Argo-3.1 CF-1.6</dd><dt><span>featureType :</span></dt><dd>trajectoryProfile</dd><dt><span>decoder_version :</span></dt><dd>CODA_027d</dd></dl></div></li></ul></div></div>"
      ],
      "text/plain": [
       "<xarray.Dataset>\n",
       "Dimensions:                       (N_PROF: 2, N_PARAM: 3, N_LEVELS: 97, N_HISTORY: 3, N_CALIB: 1)\n",
       "Dimensions without coordinates: N_PROF, N_PARAM, N_LEVELS, N_HISTORY, N_CALIB\n",
       "Data variables: (12/64)\n",
       "    DATA_TYPE                     object ...\n",
       "    FORMAT_VERSION                object ...\n",
       "    HANDBOOK_VERSION              object ...\n",
       "    REFERENCE_DATE_TIME           object ...\n",
       "    DATE_CREATION                 object ...\n",
       "    DATE_UPDATE                   object ...\n",
       "    ...                            ...\n",
       "    HISTORY_QCTEST                (N_HISTORY, N_PROF) object ...\n",
       "    PARAMETER                     (N_PROF, N_CALIB, N_PARAM) object ...\n",
       "    SCIENTIFIC_CALIB_EQUATION     (N_PROF, N_CALIB, N_PARAM) object ...\n",
       "    SCIENTIFIC_CALIB_COEFFICIENT  (N_PROF, N_CALIB, N_PARAM) object ...\n",
       "    SCIENTIFIC_CALIB_COMMENT      (N_PROF, N_CALIB, N_PARAM) object ...\n",
       "    SCIENTIFIC_CALIB_DATE         (N_PROF, N_CALIB, N_PARAM) object ...\n",
       "Attributes:\n",
       "    title:                Argo float vertical profile\n",
       "    institution:          CORIOLIS\n",
       "    source:               Argo float\n",
       "    history:              2019-01-15T11:25:18Z creation; 2019-01-15T11:25:24Z...\n",
       "    references:           http://www.argodatamgt.org/Documentation\n",
       "    user_manual_version:  3.1\n",
       "    Conventions:          Argo-3.1 CF-1.6\n",
       "    featureType:          trajectoryProfile\n",
       "    decoder_version:      CODA_027d"
      ]
     },
     "execution_count": 3,
     "metadata": {},
     "output_type": "execute_result"
    }
   ],
   "source": [
    "cy1"
   ]
  },
  {
   "cell_type": "markdown",
   "metadata": {},
   "source": [
    "We see how useful is the **Self-Describing** propierty of the netCDF format. \n",
    "\n",
    "The name for the core observations, temperature, salinity and pressure down to 2000 metres of depth, are TEMP, SALT and PRES. Although we could inspect the previous print-out of the *cy1* dataset, we can use the data itself:"
   ]
  },
  {
   "cell_type": "code",
   "execution_count": 4,
   "metadata": {},
   "outputs": [
    {
     "name": "stdout",
     "output_type": "stream",
     "text": [
      "The core variables are: \n",
      " TEMP Sea temperature in-situ ITS-90 scale \n",
      " PSAL Practical salinity and \n",
      " PRESSea water pressure, equals 0 at sea-level\n"
     ]
    }
   ],
   "source": [
    "print(f\"The core variables are: \\n TEMP {cy1.TEMP.long_name} \\n PSAL {cy1.PSAL.long_name} and \\n PRES{cy1.PRES.long_name}\")"
   ]
  },
  {
   "cell_type": "markdown",
   "metadata": {},
   "source": [
    ">>\n",
    "In this file we also have the variables TEMP_ADJUSTED, PSAL_ADJUSTED and PRES_ADJUSTED, that correspond to data that has gone through the second stage of quality control. However, here we keep the focus in the Real Time data in section [Real-Time and Delayed mode data](https://euroargodev.github.io/argoonlineschool/L40_RTandDM.html) we will describe in detail de quality control.\n",
    ">>\n"
   ]
  },
  {
   "cell_type": "code",
   "execution_count": 5,
   "metadata": {},
   "outputs": [
    {
     "name": "stdout",
     "output_type": "stream",
     "text": [
      "The dimesions of TEMP are:\n",
      " N_PROF:2 \n",
      " N_LEVELS:97\n"
     ]
    }
   ],
   "source": [
    "print(f\"The dimesions of TEMP are:\\n {cy1.TEMP.dims[0]}:{cy1.TEMP.shape[0]} \\n {cy1.TEMP.dims[1]}:{cy1.TEMP.shape[1]}\")"
   ]
  },
  {
   "cell_type": "markdown",
   "metadata": {},
   "source": [
    "We note that for for the first cycle there are two profiles (N_PROF=2) and 95 vertical levels... lets plot them:"
   ]
  },
  {
   "cell_type": "code",
   "execution_count": 6,
   "metadata": {},
   "outputs": [
    {
     "data": {
      "image/png": "[encoded data removed]",
      "text/plain": [
       "<Figure size 576x720 with 2 Axes>"
      ]
     },
     "metadata": {
      "filenames": {
       "image/png": "/Users/pvb/Dropbox/Oceanografia/Proyectos/ArgoPython/argoonlineschool/_build/jupyter_execute/Lessons/L03_UsingArgoData/C21_ArgoDatabyFloat_Cycle_12_0.png"
      },
      "needs_background": "light"
     },
     "output_type": "display_data"
    }
   ],
   "source": [
    "fig, ax = plt.subplots(1,2,figsize=(8,10))\n",
    "\n",
    "#Temperature\n",
    "ax[0].plot(cy1.TEMP[0],-cy1.PRES[0],'b-',label='N_PROF=0')\n",
    "ax[0].plot(cy1.TEMP[1],-cy1.PRES[1],'r.',label='N_PROF=1')\n",
    "ax[0].set_title(cy1.TEMP.long_name)\n",
    "ax[0].set_ylabel(cy1.PRES.long_name)\n",
    "ax[0].grid()\n",
    "ax[0].legend()\n",
    "\n",
    "#Salinity\n",
    "ax[1].plot(cy1.PSAL[0],-cy1.PRES[0],'b-',label='N_PROF=0')\n",
    "ax[1].plot(cy1.PSAL[1],-cy1.PRES[1],'ro',label='N_PROF=1')\n",
    "ax[1].set_title(cy1.PSAL.long_name)\n",
    "ax[1].grid()"
   ]
  },
  {
   "cell_type": "markdown",
   "metadata": {},
   "source": [
    "This is, within the cycle file, there area two profiles. The first one (N_PROF=0 in blue) it is measured during its ascend from 2000 dbar to 5 dbar and it constitutes the core argo program; the second one (N_PROF=1 in red) only measures the top 5 dbar. \n",
    "\n",
    "Once again all the information is in the netcf file, the data variable *VERTICAL_SAMPLING_SCHEME* contains all the details:"
   ]
  },
  {
   "cell_type": "code",
   "execution_count": 7,
   "metadata": {},
   "outputs": [
    {
     "name": "stdout",
     "output_type": "stream",
     "text": [
      "The first profile is the: Primary sampling: averaged [10 sec sampling, 25 dbar average from 2000 dbar to 200 dbar; 10 sec sampling, 10 dbar average from 200 dbar to 10 dbar; 10 sec sampling, 1 dbar average from 10 dbar to 5.5 dbar]                                                   \n"
     ]
    }
   ],
   "source": [
    "print(f\"The first profile is the: { str(cy1.VERTICAL_SAMPLING_SCHEME[0].astype(str).values) }\")"
   ]
  },
  {
   "cell_type": "code",
   "execution_count": 8,
   "metadata": {},
   "outputs": [
    {
     "name": "stdout",
     "output_type": "stream",
     "text": [
      "The second profile is the: Near-surface sampling: averaged, unpumped [10 sec sampling, 1 dbar average from 5.5 dbar to surface]                                                                                                                                                            \n"
     ]
    }
   ],
   "source": [
    "print(f\"The second profile is the: {cy1.VERTICAL_SAMPLING_SCHEME[1].astype(str).values}\")"
   ]
  },
  {
   "cell_type": "markdown",
   "metadata": {},
   "source": [
    "Ago floats may measure several profiles in each cycle, however as a rule of thumb the first profile is always the **core mission argo CTD profile** (2000 dbar - 5 dbar). In the case of this float there is an additional second profile, with higher resolution (10 sec sampling and 1 dbar average) but unpumped, this is the sensor of conductity (for salinity) is not pumping water through to avoid contamination or biodeposition from the surface. The data from this second profile is used, mostly, for calibrations of SST observations from satellite.\n",
    "\n",
    "In the *Reference table 16: vertical sampling schemes* of the *Argo Data Management Team. Argo user’s manual. https://doi.org/10.13155/29825* there is a description of all the different options in VERTICAL_SAMPLING_SCHEME. However a discusion of all of them is beyond the objective of this AoS than focus on understanding the basic concepts."
   ]
  },
  {
   "cell_type": "markdown",
   "metadata": {},
   "source": [
    "## The descending profile\n",
    "As mentioned before, some floats also make measurmentes in the first descending phase of the first cycle, the data is in the <R/D><FloatWmoID>_001D.nc file"
   ]
  },
  {
   "cell_type": "code",
   "execution_count": 9,
   "metadata": {},
   "outputs": [],
   "source": [
    "cy1D = xr.open_dataset('./Data/6901254/profiles/R6901254_001D.nc')"
   ]
  },
  {
   "cell_type": "code",
   "execution_count": 10,
   "metadata": {},
   "outputs": [
    {
     "name": "stdout",
     "output_type": "stream",
     "text": [
      "The dimesions of TEMP are:\n",
      " N_PROF:1 \n",
      " N_LEVELS:51\n"
     ]
    }
   ],
   "source": [
    "print(f\"The dimesions of TEMP are:\\n {cy1D.TEMP.dims[0]}:{cy1D.TEMP.shape[0]} \\n {cy1D.TEMP.dims[1]}:{cy1D.TEMP.shape[1]}\")"
   ]
  },
  {
   "cell_type": "markdown",
   "metadata": {},
   "source": [
    "in this case there is only one profile, let's plot it together with the ascending data (cy1):\n"
   ]
  },
  {
   "cell_type": "code",
   "execution_count": 11,
   "metadata": {},
   "outputs": [
    {
     "data": {
      "image/png": "[encoded data removed]",
      "text/plain": [
       "<Figure size 576x720 with 2 Axes>"
      ]
     },
     "metadata": {
      "filenames": {
       "image/png": "/Users/pvb/Dropbox/Oceanografia/Proyectos/ArgoPython/argoonlineschool/_build/jupyter_execute/Lessons/L03_UsingArgoData/C21_ArgoDatabyFloat_Cycle_21_0.png"
      },
      "needs_background": "light"
     },
     "output_type": "display_data"
    }
   ],
   "source": [
    "fig, ax = plt.subplots(1,2,figsize=(8,10))\n",
    "\n",
    "#Temperature\n",
    "ax[0].plot(cy1D.TEMP[0],-cy1D.PRES[0],'k-',label='N_PROF=0 Descending',linewidth=3.0)\n",
    "ax[0].plot(cy1.TEMP[0],-cy1.PRES[0],'b-',label='N_PROF=0 Ascending')\n",
    "ax[0].plot(cy1.TEMP[1],-cy1.PRES[1],'ro',label='N_PROF=1 Ascending')\n",
    "ax[0].set_title(cy1.TEMP.long_name)\n",
    "ax[0].set_ylabel(cy1.PRES.long_name)\n",
    "ax[0].grid()\n",
    "ax[0].legend()\n",
    "\n",
    "#Salinity\n",
    "ax[1].plot(cy1D.PSAL[0],-cy1D.PRES[0],'k-',label='N_PROF=0 Descending',linewidth=3.0)\n",
    "ax[1].plot(cy1.PSAL[0],-cy1.PRES[0],'b-',label='N_PROF=0 Ascending')\n",
    "ax[1].plot(cy1.PSAL[1],-cy1.PRES[1],'ro',label='N_PROF=1 Ascending')\n",
    "ax[1].set_title(cy1.PSAL.long_name)\n",
    "ax[1].grid()"
   ]
  },
  {
   "cell_type": "markdown",
   "metadata": {},
   "source": [
    "As indicated in the figura, the first descending is only until the parking depth."
   ]
  },
  {
   "cell_type": "markdown",
   "metadata": {},
   "source": [
    "## Geographical information\n",
    "The netcdf file include the information about the geographical postion of the observations (LONGITUDE and LATITUDE) and the date of the observation (JULD)"
   ]
  },
  {
   "cell_type": "code",
   "execution_count": 12,
   "metadata": {},
   "outputs": [
    {
     "name": "stdout",
     "output_type": "stream",
     "text": [
      "The Longitude of the station, best estimate is in the variable LONGITUDE\n",
      "The Latitude of the station, best estimate is in the variable LATITUDE\n",
      "The Julian day (UTC) of the station relative to REFERENCE_DATE_TIME is in the variable JULD\n"
     ]
    }
   ],
   "source": [
    "for variable in ['LONGITUDE', 'LATITUDE' , 'JULD']:\n",
    "   print(f\"The {cy1.data_vars[variable].long_name} is in the variable {variable}\")"
   ]
  },
  {
   "cell_type": "markdown",
   "metadata": {},
   "source": [
    "Let's plot it"
   ]
  },
  {
   "cell_type": "code",
   "execution_count": 13,
   "metadata": {},
   "outputs": [
    {
     "data": {
      "image/png": "[encoded data removed]",
      "text/plain": [
       "<Figure size 576x576 with 1 Axes>"
      ]
     },
     "metadata": {
      "filenames": {
       "image/png": "/Users/pvb/Dropbox/Oceanografia/Proyectos/ArgoPython/argoonlineschool/_build/jupyter_execute/Lessons/L03_UsingArgoData/C21_ArgoDatabyFloat_Cycle_26_0.png"
      },
      "needs_background": "light"
     },
     "output_type": "display_data"
    }
   ],
   "source": [
    "fig, ax = plt.subplots(figsize=(8,8))\n",
    "\n",
    "ax.plot(cy1D.LONGITUDE[0],cy1D.LATITUDE[0],'ko',label='001D N_PROF=0 Descending')\n",
    "ax.plot(cy1.LONGITUDE[0],cy1.LATITUDE[0],'bo',label='001 N_PROF=0 Ascending')\n",
    "#ax.set_title(cy1..long_name)\n",
    "ax.set_xlabel(cy1.LONGITUDE.long_name)\n",
    "ax.set_ylabel(cy1.LATITUDE.long_name)\n",
    "ax.text(cy1D.LONGITUDE[0],cy1D.LATITUDE[0],'Date of observation for 001D:'+cy1D.JULD[0].values.astype(str), fontsize=14)\n",
    "ax.text(cy1.LONGITUDE[0],cy1.LATITUDE[0],'Date of observation for 001:'+cy1.JULD[0].values.astype(str), fontsize=14)\n",
    "ax.grid()\n",
    "ax.legend();"
   ]
  },
  {
   "cell_type": "markdown",
   "metadata": {},
   "source": [
    "The 2 ascending profiles in 001 have, obviously, the same time stamp:"
   ]
  },
  {
   "cell_type": "code",
   "execution_count": 14,
   "metadata": {},
   "outputs": [
    {
     "name": "stdout",
     "output_type": "stream",
     "text": [
      "2018-10-25T05:30:00.000000000\n",
      "2018-10-25T05:30:00.000000000\n"
     ]
    }
   ],
   "source": [
    "print(cy1.JULD[0].values.astype(str))\n",
    "print(cy1.JULD[1].values.astype(str))"
   ]
  },
  {
   "cell_type": "markdown",
   "metadata": {},
   "source": [
    "Note that for some floats there is a <R/D><FloatWmoID>_000.n or even a <R/D><FloatWmoID>_000D.n file."
   ]
  },
  {
   "cell_type": "markdown",
   "metadata": {},
   "source": [
    "## Meta information in the cycle file\n",
    "The netcdf file for each cycle includes a lot of additional information about each one of the profiles in it. Let's take a look of the basic information. "
   ]
  },
  {
   "cell_type": "code",
   "execution_count": 15,
   "metadata": {},
   "outputs": [
    {
     "name": "stdout",
     "output_type": "stream",
     "text": [
      "For cycle [1] The Direction of the station profiles (DIRECTION) is ['D']\n",
      "For cycle  [1 1] the Direction of the station profiles  (DIRECTION) is ['A' 'A']\n"
     ]
    }
   ],
   "source": [
    "print(f\"For cycle {cy1D.CYCLE_NUMBER.astype(int).values} The {cy1D.DIRECTION.long_name} (DIRECTION) is {cy1D.DIRECTION.values.astype(str)}\")\n",
    "print(f\"For cycle  {cy1.CYCLE_NUMBER.astype(int).values} the {cy1.DIRECTION.long_name}  (DIRECTION) is {cy1.DIRECTION.values.astype(str)}\")"
   ]
  },
  {
   "cell_type": "markdown",
   "metadata": {},
   "source": [
    "A is for ascending and D for descending."
   ]
  },
  {
   "cell_type": "markdown",
   "metadata": {},
   "source": [
    "And all the meta information of the float, and for each profile within each cycle, among others:"
   ]
  },
  {
   "cell_type": "code",
   "execution_count": 16,
   "metadata": {},
   "outputs": [
    {
     "name": "stdout",
     "output_type": "stream",
     "text": [
      "The Float unique identifier (PLATFORM_NUMBER) is ['6901254 ' '6901254 ']\n",
      "The Data centre in charge of float data processing (DATA_CENTRE) is ['IF' 'IF']\n",
      "The Name of the project (PROJECT_NAME) is ['ARGO SPAIN                                                      '\n",
      " 'ARGO SPAIN                                                      ']\n",
      "The Name of the principal investigator (PI_NAME) is ['Pedro Velez                                                     '\n",
      " 'Pedro Velez                                                     ']\n"
     ]
    }
   ],
   "source": [
    "for variable in ['PLATFORM_NUMBER','DATA_CENTRE','PROJECT_NAME','PI_NAME']:\n",
    "   print(f\"The {cy1.data_vars[variable].long_name} ({variable}) is {cy1.data_vars[variable].values.astype(str)}\")"
   ]
  },
  {
   "cell_type": "markdown",
   "metadata": {},
   "source": [
    "We can also access the dimession that define the profile"
   ]
  },
  {
   "cell_type": "code",
   "execution_count": 17,
   "metadata": {},
   "outputs": [
    {
     "name": "stdout",
     "output_type": "stream",
     "text": [
      "N_PROF 2\n",
      "N_PARAM 3\n",
      "N_LEVELS 97\n",
      "N_HISTORY 3\n",
      "N_CALIB 1\n"
     ]
    }
   ],
   "source": [
    "for key in cy1.dims.keys():\n",
    "    print(key,cy1.dims[key])"
   ]
  },
  {
   "cell_type": "markdown",
   "metadata": {},
   "source": [
    "N_LEVELS is the number of vertical leves, i.e. in pressure. N_PROF the number of profiles within the cycle, as we saw previously and N_PARAM is te number of paramters, 3 for this float: TEMP, PSAL and PRES"
   ]
  },
  {
   "cell_type": "markdown",
   "metadata": {},
   "source": [
    "Later we will explain N_CALIB and N_HISTORY"
   ]
  },
  {
   "cell_type": "markdown",
   "metadata": {},
   "source": [
    "## Meta data\n",
    "There is a lof of additional meta information in the `<FloatWmoID>_meta.nc` file"
   ]
  },
  {
   "cell_type": "code",
   "execution_count": 18,
   "metadata": {},
   "outputs": [],
   "source": [
    "Mdata = xr.open_dataset('./Data/6901254/6901254_meta.nc')"
   ]
  },
  {
   "cell_type": "markdown",
   "metadata": {},
   "source": [
    "Always we have the basic information than appers in all the netcdf files of an Argo float:"
   ]
  },
  {
   "cell_type": "code",
   "execution_count": 19,
   "metadata": {},
   "outputs": [
    {
     "name": "stdout",
     "output_type": "stream",
     "text": [
      "The Float unique identifier (PLATFORM_NUMBER) is 6901254 \n",
      "The Data centre in charge of float real-time processing (DATA_CENTRE) is IF\n",
      "The Program under which the float was deployed (PROJECT_NAME) is ARGO SPAIN                                                      \n",
      "The Name of the principal investigator (PI_NAME) is Pedro Velez                                                     \n"
     ]
    }
   ],
   "source": [
    "for variable in ['PLATFORM_NUMBER','DATA_CENTRE','PROJECT_NAME','PI_NAME']:\n",
    "   print(f\"The {Mdata.data_vars[variable].long_name} ({variable}) is {Mdata.data_vars[variable].values.astype(str)}\")"
   ]
  },
  {
   "cell_type": "markdown",
   "metadata": {},
   "source": [
    "and some examples of addtional information"
   ]
  },
  {
   "cell_type": "code",
   "execution_count": 20,
   "metadata": {},
   "outputs": [
    {
     "name": "stdout",
     "output_type": "stream",
     "text": [
      "The Firmware version for the float (FIRMWARE_VERSION) is n/a                             \n",
      "The Type of battery packs in the float (BATTERY_TYPE) is LITHIUM                                                         \n",
      "The Identifier of the deployment platform (DEPLOYMENT_PLATFORM) is ANGELES ALVARI?O                \n",
      "The Name of configuration parameter (CONFIG_PARAMETER_NAME) is ['CONFIG_CycleTime_hours                                                                                                          '\n",
      " 'CONFIG_ParkPressure_dbar                                                                                                        '\n",
      " 'CONFIG_ProfilePressure_dbar                                                                                                     '\n",
      " 'CONFIG_DescentToParkPresSamplingTime_seconds                                                                                    '\n",
      " 'CONFIG_Direction_NUMBER                                                                                                         ']\n",
      "The Serial number of the sensor (SENSOR_SERIAL_NO) is ['n/a             ' 'n/a             ' 'n/a             ']\n"
     ]
    }
   ],
   "source": [
    "for variable in ['FIRMWARE_VERSION','BATTERY_TYPE','DEPLOYMENT_PLATFORM','CONFIG_PARAMETER_NAME','SENSOR_SERIAL_NO']:\n",
    "   print(f\"The {Mdata.data_vars[variable].long_name} ({variable}) is {Mdata.data_vars[variable].values.astype(str)}\")"
   ]
  },
  {
   "cell_type": "markdown",
   "metadata": {},
   "source": [
    "The full descritpion of variables is in the **Argo user's Manual**"
   ]
  }
 ],
 "metadata": {
  "kernelspec": {
   "display_name": "Python 3 (ipykernel)",
   "language": "python",
   "name": "python3"
  },
  "language_info": {
   "codemirror_mode": {
    "name": "ipython",
    "version": 3
   },
   "file_extension": ".py",
   "mimetype": "text/x-python",
   "name": "python",
   "nbconvert_exporter": "python",
   "pygments_lexer": "ipython3",
   "version": "3.9.6"
  }
 },
 "nbformat": 4,
 "nbformat_minor": 4
}