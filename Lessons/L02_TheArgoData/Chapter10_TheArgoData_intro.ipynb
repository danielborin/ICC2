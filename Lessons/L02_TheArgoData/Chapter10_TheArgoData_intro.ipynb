{
 "cells": [
  {
   "cell_type": "markdown",
   "metadata": {},
   "source": [
    "#  The Argo Data\n",
    "\n",
    "<img src=\"https://raw.githubusercontent.com/euroargodev/argoonlineschool/master/images/logoArgo.png\" alt=\"Argo status\" width=\"100\"/>"
   ]
  },
  {
   "cell_type": "code",
   "execution_count": 4,
   "metadata": {
    "tags": [
     "hide_input"
    ]
   },
   "outputs": [
    {
     "data": {
      "text/html": [
       "<center>\n",
       "<iframe width=\"560\" height=\"315\" src=\"https://drive.google.com/file/d/1hb4H2MhoKU38uHTBO1HZJDwMKLZ-Pnkz/preview\" width=\"640\" height=\"480\" title=\"The Argo Data\" frameborder=\"0\" allow=\"accelerometer; autoplay; clipboard-write; encrypted-media; gyroscope; picture-in-picture\" allowfullscreen></iframe>\n",
       "</center>\n"
      ],
      "text/plain": [
       "<IPython.core.display.HTML object>"
      ]
     },
     "metadata": {},
     "output_type": "display_data"
    }
   ],
   "source": [
    "%%HTML\n",
    "<center>\n",
    "<iframe width=\"560\" height=\"315\" src=\"https://drive.google.com/file/d/1hb4H2MhoKU38uHTBO1HZJDwMKLZ-Pnkz/preview\" width=\"640\" height=\"480\" title=\"The Argo Data\" frameborder=\"0\" allow=\"accelerometer; autoplay; clipboard-write; encrypted-media; gyroscope; picture-in-picture\" allowfullscreen></iframe>\n",
    "</center>"
   ]
  },
  {
   "cell_type": "markdown",
   "metadata": {},
   "source": [
    "**The WMO: a unique identifier for each float**\n",
    "\n",
    "Each one of the Argo floats has a unique identifier, known as the World Meteorological Organization (WMO). The WMO is assigned at the moment of the deployment of the float, but it is not hard-coded in the float."
   ]
  },
  {
   "cell_type": "markdown",
   "metadata": {},
   "source": [
    "**The basis of the Argo Data System**\n",
    "\n",
    "As explained in the videos of Lesson 2, when an Argo float surfaces, the data are received by one of the *Data Assembly Centers* (DAC). At the DACs, they are subjected to initial scrutiny using a set of real-time quality control tests where erroneous data are flagged or corrected, then the data are passed to one of the two Argo *Global Data Assembly Center* (GDAC), the Coriolis GDAC (Brest, France, Europe) or the US-Godae GDAC (Monterey, California, USA). \n",
    "\n",
    "The GDACs are the first stage at which the freely available data can be obtained via the internet. The GDACs synchronize their data to ensure consistent data is available on both sites. The target is for these *real-time* data to be available within 12-24 hours of their transmission from the float."
   ]
  },
  {
   "cell_type": "markdown",
   "metadata": {},
   "source": [
    "Additionally, Argo data can be accessed in several other ways:\n",
    "\n",
    "- via the Global Telecommunication System for operational centers. \n",
    "- via interactive Data selection tools on the GDACs.\n",
    "- via gridded fields and velocity products based on Argo NetCDF files from the GDACs.\n",
    "- via data viewers that incorporate Argo data.\n",
    "- via the [Global Argo Data Repository (GADR)](https://www.nodc.noaa.gov/argo/) for archived and offline data.\n",
    "- via monthly copies of the GDACs https://www.seanoe.org/data/00311/42182/\n",
    "\n",
    "See the [Argo data sources](https://argo.ucsd.edu/data/) to read a full description, with links, to these other ways of accessing the data.\n",
    "\n",
    "**Here we focus on the access to the primary source of the Argo data, the GDACs**"
   ]
  },
  {
   "cell_type": "markdown",
   "metadata": {},
   "source": [
    "**Data organization at the GDACS**\n",
    "\n",
    "In the GDACS, the Argo data is organized in two different ways:\n",
    "\n",
    "* By date, with one folder for each ocean basin, and then a folder for each year and month and a file for each day. \n",
    "\n",
    "* By DAC (data acquisition center) and Argo float (WMO number).\n",
    "\n",
    "* By processing date: The last processed data organized by processing day, with access to the last 12 months.\n",
    "\n",
    "At the early stage of the Argo program, and due to the huge amount of data that was foreseen  Argo would create, it was decided that netCDF would be the official file format for the Argo data. Hence, before explaining how to [acces Argo data by float](https://euroargodev.github.io/argoonlineschool/L20_ArgoDatabyFloat_Intro.html) or [by date](https://euroargodev.github.io/argoonlineschool/L30_ArgoDatabyDate_Intro.html) it is necessary to make a short introduction to the properties of this data format, and how to read files in **netCDF**.\n",
    "\n"
   ]
  }
 ],
 "metadata": {
  "kernelspec": {
   "display_name": "Python 3 (ipykernel)",
   "language": "python",
   "name": "python3"
  },
  "language_info": {
   "codemirror_mode": {
    "name": "ipython",
    "version": 3
   },
   "file_extension": ".py",
   "mimetype": "text/x-python",
   "name": "python",
   "nbconvert_exporter": "python",
   "pygments_lexer": "ipython3",
   "version": "3.9.6"
  }
 },
 "nbformat": 4,
 "nbformat_minor": 4
}
