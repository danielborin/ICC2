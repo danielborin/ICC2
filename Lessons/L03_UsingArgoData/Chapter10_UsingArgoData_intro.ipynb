{
 "cells": [
  {
   "cell_type": "markdown",
   "id": "fd03df75-1556-4994-951f-89124e4f2d5d",
   "metadata": {},
   "source": [
    "## Using Argo Data"
   ]
  },
  {
   "cell_type": "markdown",
   "id": "b0677077-d8a1-42a9-9d69-4de77c028926",
   "metadata": {},
   "source": [
    "As indicated in the introduction, the second part of the Argo Online School is hands-on, and it is mainly based on Jupyter Notebooks and a few short videos to teach, how to acces the data Argo data and use it."
   ]
  },
  {
   "cell_type": "markdown",
   "id": "4406ec43-3206-43cf-a9d9-0d8bc6275a03",
   "metadata": {},
   "source": [
    "<center><iframe width=\"800\" height=\"450\" src=\"https://drive.google.com/file/d/17s5UwuNwyQzjL7EW9DYhWkAYP8nYTYLI/preview\" title=\"The Argo Data\" frameborder=\"0\" allow=\"accelerometer; autoplay; clipboard-write; encrypted-media; gyroscope; picture-in-picture\" allowfullscreen></iframe></center>"
   ]
  },
  {
   "cell_type": "markdown",
   "id": "571ad59d-37aa-4da0-add2-dacbe764a136",
   "metadata": {},
   "source": [
    "### The hands-on component of the Argo Online School"
   ]
  },
  {
   "cell_type": "markdown",
   "id": "949da5af-2932-4d32-857a-555d32cd646c",
   "metadata": {},
   "source": [
    "You can access the hands-on content as [here](https://euroargodev.github.io/argoonlineschool/intro.html), in a web-page, built using [JupyterBook](https://jupyterbook.org/en/stable/intro.html), or download the Jupyter Notebooks and use them in your local machine. \n",
    "\n",
    "The hands-on component of the Argo Online School was developed using JupyterLab, since it contains a complete environment for interactive scientific computing which runs in your web browser. Jupyter is an open-source python project, and as a very useful first approach to python and JupyterLab, you can use [An Introduction to Earth and Environmental Data Science](https://earth-env-data-science.github.io/intro) and [Research computing in earth Sciences](https://rabernat.github.io/research_computing/) developed by [Ryan Abernathey](https://ocean-transport.github.io/) and [Kerry Key](https://emlab.ldeo.columbia.edu/index.php/team/kerry-key/).\n"
   ]
  },
  {
   "cell_type": "markdown",
   "id": "2176c209-cdda-442d-9c1c-a3259357447b",
   "metadata": {},
   "source": [
    "### Run the Jupyter notebooks locally"
   ]
  },
  {
   "cell_type": "markdown",
   "id": "da4de6e0-2806-4e04-ac33-64d873d2b2cc",
   "metadata": {},
   "source": [
    "In case that you decide to download and run the python Jupyter Notebooks in your local machine, you should create a python environment. Since using some of the packages may give problems due to compatibility issues between conda-forge packages and packages contained in the default conda channels, we recommend to set up `channel_priority: strict` and give priority to the `conda-forge` channel over the default channels when installing stuff. There are two ways of doing it. Either you always specify `conda install -c conda-forge` or you create a .condarc file in your home with this content:\n",
    "```\n",
    "channels:\n",
    "  - conda-forge\n",
    "  - defaults\n",
    "channel_priority: strict\n",
    "```\n",
    "An environment should either use conda-forge or not, from creation to destruction. However, do not mix and match. If you created it without using the conda-forge channel, then do not add it to the mix halfway. In practice, we always create an environment with conda-forge unless in very specific cases where we found incompatibilities.\n",
    "\n",
    "To create and activate the AoS environment, that already includes the last stable version of [argopy](https://argopy.readthedocs.io/en/latest/), the python library for Argo data, you should:\n",
    "\n",
    "```\n",
    "conda env create -n AOS -f environment.yml \n",
    "conda activate AOS\n",
    "```\n",
    "where environment.yml is in the [GitHub repository of the Argo online School](https://raw.githubusercontent.com/euroargodev/argoonlineschool/master/environment.yml)\n",
    "\n",
    "If by any chance, a library is not included in the environment.yml file, you should install it using, for instance:\n",
    "```\n",
    "conda install netcdf4\n",
    "conda install xarray\n",
    "conda install seawater\n",
    "```\n",
    "For futher information about [Managing Python Environments](https://earth-env-data-science.github.io/lectures/environment/python_environments.html) we recommend the corresponding section in [An Introduction to Earth and Environmental Data Science](https://earth-env-data-science.github.io/intro)"
   ]
  },
  {
   "cell_type": "markdown",
   "id": "0ebae6bb-8d2b-46cb-b5e1-70bc05f80a28",
   "metadata": {},
   "source": [
    "### Data used in the Argo Online School"
   ]
  },
  {
   "cell_type": "markdown",
   "id": "d6f488d7-4a7e-4a53-b1c9-c463079d9d9e",
   "metadata": {},
   "source": [
    "If you download the notebooks you should create a ./Data* folder to include the data files used for the examples. The files in the Data folder can be downloaded directly from its source using _wget_, for instance:\n",
    "\n",
    "for the *Daily NOAA OI SST V2 High-Resolution Dataset for 2020*:\n",
    "\n",
    "```\n",
    "wget --directory-prefix=Data ftp://ftp2.psl.noaa.gov/Datasets/noaa.oisst.v2.highres/sst.day.mean.2020.nc\n",
    "```\n",
    "\n",
    "for the data from float 6901254:\n",
    "\n",
    "```\n",
    "wget --no-host --cut-dirs=4 --directory-prefix=Data --recursive ftp://ftp.ifremer.fr/ifremer/argo/dac/coriolis/6901254\n",
    "```\n",
    "\n",
    "for the data from float 6901472:\n",
    "\n",
    "```\n",
    "wget --no-host --cut-dirs=4 --directory-prefix=Data --recursive ftp://ftp.ifremer.fr/ifremer/argo/dac/coriolis/6901472\n",
    "```\n",
    "\n",
    "or for the data in the all the oceans for the 11th November 2019\n",
    "\n",
    "```\n",
    "wget --no-host --cut-dirs=4 --directory-prefix=Data --recursive ftp://ftp.ifremer.fr/ifremer/argo//geo/indian_ocean/2019/11\n",
    "```\n",
    "\n",
    "```\n",
    "wget --no-host --cut-dirs=4 --directory-prefix=Data --recursive ftp://ftp.ifremer.fr/ifremer/argo//geo/atlantic_ocean/2019/11\n",
    "```\n",
    "\n",
    "```\n",
    "wget --no-host --cut-dirs=4 --directory-prefix=Data --recursive ftp://ftp.ifremer.fr/ifremer/argo//geo/pacific_ocean/2019/11\n",
    "```\n",
    "\n",
    "However we recomend to download our version of the data from [here](https://drive.google.com/drive/folders/19yMW3sMAFouUb0bPpoyDeZY3-QC63pqi) to use exactly the same dataset and therefore to be able to reproduce precisely the notebooks here. Once you have downloaded the data, the ./Data folder should look like:\n",
    "\n",
    "<img src=\"https://github.com/euroargodev/argoonlineschool/raw/master/images/DataFolder.png\" alt=\"DataFolder\" width=\"800\"/>"
   ]
  }
 ],
 "metadata": {
  "kernelspec": {
   "display_name": "Python 3 (ipykernel)",
   "language": "python",
   "name": "python3"
  },
  "language_info": {
   "codemirror_mode": {
    "name": "ipython",
    "version": 3
   },
   "file_extension": ".py",
   "mimetype": "text/x-python",
   "name": "python",
   "nbconvert_exporter": "python",
   "pygments_lexer": "ipython3",
   "version": "3.12.5"
  }
 },
 "nbformat": 4,
 "nbformat_minor": 5
}
