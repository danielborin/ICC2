{
 "cells": [
  {
   "cell_type": "markdown",
   "metadata": {},
   "source": [
    "# Real-Time and Delayed mode data"
   ]
  },
  {
   "cell_type": "code",
   "execution_count": 1,
   "metadata": {
    "tags": [
     "hide_input"
    ]
   },
   "outputs": [
    {
     "data": {
      "text/html": [
       "<center>\n",
       "<iframe width=\"560\" height=\"315\" src=\"https://drive.google.com/file/d/1vLRNVq93G7rj9W16Vfe8DKa22ogvoHnk/preview\" width=\"640\" height=\"480\" title=\"The Argo Data\" frameborder=\"0\" allow=\"accelerometer; autoplay; clipboard-write; encrypted-media; gyroscope; picture-in-picture\" allowfullscreen></iframe>\n",
       "</center>\n"
      ],
      "text/plain": [
       "<IPython.core.display.HTML object>"
      ]
     },
     "metadata": {},
     "output_type": "display_data"
    }
   ],
   "source": [
    "%%HTML\n",
    "<center>\n",
    "<iframe width=\"560\" height=\"315\" src=\"https://drive.google.com/file/d/1vLRNVq93G7rj9W16Vfe8DKa22ogvoHnk/preview\" width=\"640\" height=\"480\" title=\"The Argo Data\" frameborder=\"0\" allow=\"accelerometer; autoplay; clipboard-write; encrypted-media; gyroscope; picture-in-picture\" allowfullscreen></iframe>\n",
    "</center>"
   ]
  },
  {
   "cell_type": "markdown",
   "metadata": {},
   "source": [
    "The Argo program guarantees free and quality data distribution to the entire scientific & operational community and the general public. Before that, data needs to be checked out through different controls to guarantee their homogeneity and quality within the established accuracy ranges (+/- 0.005ºC temperature and +/- 0.01 for salinity). \n",
    "\n",
    "The first control stage is the **Real-Time (RT) quality control** and the last stage is called the **Delayed - Mode (DM) quality control**. Therefore, the data that has gone through the RT quality control is called [**RT data**](https://euroargodev.github.io/argoonlineschool/L41_RTData.html) and the data that has gone through, both, the RT and DM quality controls is called [**DM data**](https://euroargodev.github.io/argoonlineschool/L41_DMData.html); although some times we also refer to this data as **calibrated data**\n",
    "\n",
    "For both, RT and DM data, there are quality control (QC) flags and errors that the Argo network provides to help users decide to use the data or not. There are flags \n",
    "\n",
    "So far we have accessed only the RT data and without paying attention to its quality. In this chapter, we will describe how to use the quality control information stored in the netcdf files. "
   ]
  },
  {
   "cell_type": "markdown",
   "metadata": {},
   "source": [
    "\n"
   ]
  }
 ],
 "metadata": {
  "kernelspec": {
   "display_name": "Python 3",
   "language": "python",
   "name": "python3"
  },
  "language_info": {
   "codemirror_mode": {
    "name": "ipython",
    "version": 3
   },
   "file_extension": ".py",
   "mimetype": "text/x-python",
   "name": "python",
   "nbconvert_exporter": "python",
   "pygments_lexer": "ipython3",
   "version": "3.8.3"
  }
 },
 "nbformat": 4,
 "nbformat_minor": 4
}
