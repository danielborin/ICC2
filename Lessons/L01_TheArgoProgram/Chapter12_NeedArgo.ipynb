{
 "cells": [
  {
   "cell_type": "markdown",
   "metadata": {},
   "source": [
    "## Why do we need Argo and what are its objectives?"
   ]
  },
  {
   "cell_type": "code",
   "execution_count": 1,
   "metadata": {
    "tags": [
     "hide_input"
    ]
   },
   "outputs": [
    {
     "data": {
      "text/html": [
       "<center>\n",
       "<iframe width=\"560\" height=\"315\" src=\"https://drive.google.com/file/d/1DfGg8uddYSKy2LS3ixlheihc3VNL32Ra/preview\" width=\"640\" height=\"480\" title=\"The Argo Data\" frameborder=\"0\" allow=\"accelerometer; autoplay; clipboard-write; encrypted-media; gyroscope; picture-in-picture\" allowfullscreen></iframe>\n",
       "</center>\n"
      ],
      "text/plain": [
       "<IPython.core.display.HTML object>"
      ]
     },
     "metadata": {},
     "output_type": "display_data"
    }
   ],
   "source": [
    "%%HTML\n",
    "<center>\n",
    "<iframe width=\"560\" height=\"315\" src=\"https://drive.google.com/file/d/1DfGg8uddYSKy2LS3ixlheihc3VNL32Ra/preview\" width=\"640\" height=\"480\" title=\"The Argo Data\" frameborder=\"0\" allow=\"accelerometer; autoplay; clipboard-write; encrypted-media; gyroscope; picture-in-picture\" allowfullscreen></iframe>\n",
    "</center>"
   ]
  },
  {
   "cell_type": "code",
   "execution_count": 2,
   "metadata": {
    "tags": [
     "hide_input"
    ]
   },
   "outputs": [
    {
     "data": {
      "text/html": [
       "<center>\n",
       "<iframe width=\"560\" height=\"315\" src=\"https://drive.google.com/file/d/1pivKHZE5bpFZCRNe2bnv1S_XP6vXV2mH/preview\" width=\"640\" height=\"480\" title=\"The Argo Data\" frameborder=\"0\" allow=\"accelerometer; autoplay; clipboard-write; encrypted-media; gyroscope; picture-in-picture\" allowfullscreen></iframe>\n",
       "</center>\n"
      ],
      "text/plain": [
       "<IPython.core.display.HTML object>"
      ]
     },
     "metadata": {},
     "output_type": "display_data"
    }
   ],
   "source": [
    "%%HTML\n",
    "<center>\n",
    "<iframe width=\"560\" height=\"315\" src=\"https://drive.google.com/file/d/1pivKHZE5bpFZCRNe2bnv1S_XP6vXV2mH/preview\" width=\"640\" height=\"480\" title=\"The Argo Data\" frameborder=\"0\" allow=\"accelerometer; autoplay; clipboard-write; encrypted-media; gyroscope; picture-in-picture\" allowfullscreen></iframe>\n",
    "</center>"
   ]
  },
  {
   "cell_type": "markdown",
   "metadata": {},
   "source": [
    "Argo's general objectives are: \n",
    "- To provide a quantitative description of the changing state of the ocean's surface layer and the patterns of sea climate variability from months to decades, including the storage and transportation of heat and freshwater.\n",
    "- Provide data that will also be used to initialize ocean prediction and the coupled atmosphere-ocean data assimilation models and model testing.\n",
    "- Document climate variability from seasons to decades, thus helping to understand its predictability.\n",
    "- Provide data collected or the calibration of satellite Jason's altimetric observations by means of measuring the subsurface temperature, salinity and speed of currents. Jason is a series of satellite that provide global sea surface height observations for climate monitoring and ocean and seasonal forecasts. More information could be found [here](https://www.eumetsat.int/our-satellites/jason-series)\n",
    "\n",
    "The data is provided free via the Global Data Assembly Centres (GDAC) located In Brest, France, and Monterey, California, after having gone through automated quality control (QC).\n",
    "\n",
    "\n",
    "\n"
   ]
  },
  {
   "cell_type": "code",
   "execution_count": 3,
   "metadata": {
    "tags": [
     "hide_input"
    ]
   },
   "outputs": [
    {
     "data": {
      "text/html": [
       "<center>\n",
       "<iframe width=\"560\" height=\"315\" src=\"https://drive.google.com/file/d/170rjpguO0e8YDQcpyGgnU1kukpcRZTtx/preview\" width=\"640\" height=\"480\" title=\"The Argo Data\" frameborder=\"0\" allow=\"accelerometer; autoplay; clipboard-write; encrypted-media; gyroscope; picture-in-picture\" allowfullscreen></iframe>\n",
       "</center>\n"
      ],
      "text/plain": [
       "<IPython.core.display.HTML object>"
      ]
     },
     "metadata": {},
     "output_type": "display_data"
    }
   ],
   "source": [
    "%%HTML\n",
    "<center>\n",
    "<iframe width=\"560\" height=\"315\" src=\"https://drive.google.com/file/d/170rjpguO0e8YDQcpyGgnU1kukpcRZTtx/preview\" width=\"640\" height=\"480\" title=\"The Argo Data\" frameborder=\"0\" allow=\"accelerometer; autoplay; clipboard-write; encrypted-media; gyroscope; picture-in-picture\" allowfullscreen></iframe>\n",
    "</center>"
   ]
  },
  {
   "cell_type": "markdown",
   "metadata": {},
   "source": [
    "Argo's array growth is monitored by the Technical Coordinator at [OceanOPS](https://www.ocean-ops.org/board), which is located at the French Research Institute for Exploitation of the Sea ([IFREMER](https://wwz.ifremer.fr/)) in Brest, France. \n",
    "\n",
    "OceanOPS is a Support Centre for the Marine Meteorology and Oceanography Observations Program (MMOP) and is responsible for the system that monitors and coordinates operational ocean observations. A major task of OceanOPS is the implementation of Unesco´s  Intergovernmental Oceanographic Commission's Resolution XX-6. This resolution concludes that: \"concerned coastal states must be informed in advance, through appropriate channels, of all deployments of profiling floats which might drift into waters under their jurisdiction, indicating the exact locations of such deployments\".\n",
    "\n",
    "Thus, OceanOPS offers a formal profiling float deployment notification process and some countries have given formal concurrence for the operation of Argo floats within their Exclusive Economic Zone (EEZ). The framework now in place allows Argo to grow while complying with IOC rules.\n"
   ]
  },
  {
   "cell_type": "code",
   "execution_count": null,
   "metadata": {},
   "outputs": [],
   "source": []
  }
 ],
 "metadata": {
  "kernelspec": {
   "display_name": "Python 3 (ipykernel)",
   "language": "python",
   "name": "python3"
  },
  "language_info": {
   "codemirror_mode": {
    "name": "ipython",
    "version": 3
   },
   "file_extension": ".py",
   "mimetype": "text/x-python",
   "name": "python",
   "nbconvert_exporter": "python",
   "pygments_lexer": "ipython3",
   "version": "3.12.5"
  }
 },
 "nbformat": 4,
 "nbformat_minor": 4
}
