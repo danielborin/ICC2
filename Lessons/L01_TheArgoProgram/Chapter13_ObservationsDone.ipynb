{
 "cells": [
  {
   "cell_type": "markdown",
   "metadata": {},
   "source": [
    "## How the observations are done?"
   ]
  },
  {
   "cell_type": "code",
   "execution_count": 1,
   "metadata": {
    "tags": [
     "hide_input"
    ]
   },
   "outputs": [
    {
     "data": {
      "text/html": [
       "<center>\n",
       "<iframe width=\"560\" height=\"315\" src=\"https://drive.google.com/file/d/1hpaqZYzF2BFGUSnA0IPialFfQNfw6q6q/preview\" width=\"640\" height=\"480\" title=\"The Argo Data\" frameborder=\"0\" allow=\"accelerometer; autoplay; clipboard-write; encrypted-media; gyroscope; picture-in-picture\" allowfullscreen></iframe>\n",
       "</center>\n"
      ],
      "text/plain": [
       "<IPython.core.display.HTML object>"
      ]
     },
     "metadata": {},
     "output_type": "display_data"
    }
   ],
   "source": [
    "%%HTML\n",
    "<center>\n",
    "<iframe width=\"560\" height=\"315\" src=\"https://drive.google.com/file/d/1hpaqZYzF2BFGUSnA0IPialFfQNfw6q6q/preview\" width=\"640\" height=\"480\" title=\"The Argo Data\" frameborder=\"0\" allow=\"accelerometer; autoplay; clipboard-write; encrypted-media; gyroscope; picture-in-picture\" allowfullscreen></iframe>\n",
    "</center>"
   ]
  },
  {
   "cell_type": "markdown",
   "metadata": {},
   "source": [
    "### **What’s inside an ARGO float?**\n",
    "\n",
    "The standard Argo floats are devices of about 20 kg weight and roughly 2 meters height. They dive vertically by changing their buoyancy via an inflatable external bladder, so it can surface and dive. There is no propulsion system at all, so its horizontal displacements are performed by letting itself be carried by the currents. It consists of three subsystems.\n",
    " \n"
   ]
  },
  {
   "cell_type": "code",
   "execution_count": 1,
   "metadata": {
    "tags": [
     "hide_input"
    ]
   },
   "outputs": [
    {
     "data": {
      "text/html": [
       "<center>\n",
       "<iframe width=\"560\" height=\"315\" src=\"https://drive.google.com/file/d/1q4VfvZZjN-HVhD_0_MTvSDSqgPBmgM2V/preview\" width=\"640\" height=\"480\" title=\"The Argo Data\" frameborder=\"0\" allow=\"accelerometer; autoplay; clipboard-write; encrypted-media; gyroscope; picture-in-picture\" allowfullscreen></iframe>\n",
       "</center>\n"
      ],
      "text/plain": [
       "<IPython.core.display.HTML object>"
      ]
     },
     "metadata": {},
     "output_type": "display_data"
    }
   ],
   "source": [
    "%%HTML\n",
    "<center>\n",
    "<iframe width=\"560\" height=\"315\" src=\"https://drive.google.com/file/d/1q4VfvZZjN-HVhD_0_MTvSDSqgPBmgM2V/preview\" width=\"640\" height=\"480\" title=\"The Argo Data\" frameborder=\"0\" allow=\"accelerometer; autoplay; clipboard-write; encrypted-media; gyroscope; picture-in-picture\" allowfullscreen></iframe>\n",
    "</center>"
   ]
  },
  {
   "cell_type": "markdown",
   "metadata": {},
   "source": [
    "#### Hydraulic System \n",
    "controls the buoyancy through an external inflatable bladder so that the profiler can resurface and submerge. An Argo float's critical capacity is its ability to rise and sink in the ocean in the scheduled time. Profilers do this by changing their effective density. Density is the mass of an object divided by its volume. The Argo float keeps its mass constant but, by altering its volume, it changes its density. To do this, mineral oil is forced out of the float's pressure case and expands a rubber bladder at the bottom end of the float. As the bladder expands, the float becomes less dense than seawater and rises to the surface. Upon finishing its tasks at the surface, the float withdraws the oil and descends again. "
   ]
  },
  {
   "cell_type": "markdown",
   "metadata": {},
   "source": [
    "#### Microprocessors\n",
    "The electronics include a microprocessor that stores the data from the sensors until it can be transmitted, a program that controls when the float sinks and rises and a position-fixing and data-transmission system that controls the interaction with the satellite. Each float has a unique number that allows it to be recognized and distinguished from all the other floats."
   ]
  },
  {
   "cell_type": "markdown",
   "metadata": {},
   "source": [
    "#### Data Transmission System\n",
    "\n",
    "For the monitoring and control of the Argo array of floats, two communication systems are fundamentally used: ARGOS and Iridium. As the float ascends, the  data collected is stored in itself. When the float reaches the surface, the data is transmitted to the satellites.\n",
    "\n",
    "The satellite communication systems related to the Argo floats use satellites that orbit around the Earth. The orbital communication satellites move inside an orbit so that the satellite passes above a particular geographic location at regular intervals. The ARGOS system is served by 7 polar-orbiting satellites at an altitude of 850 km and completes a revolution around Earth approximately every 100 minutes. With the first Argos unidirectional system, the floats needed 6-10 hours at the surface to be able to transmit the collected data. The newest version, called the Argos-3 system, allows floats to transmit data in just a few minutes.\n",
    " \n",
    "On the other hand, the Iridium system has 66 satellites at a height of approximately 781 km. Iridium is the largest commercial satellite constellation in the world and, approximately 80% of Argos’s floats transmit their data via the Iridium system. The design of the Iridium network allows “data calls” to be relayed from one satellite to another until they reach the satellite that registers the float concerned, and the signal is then relayed back to Earth. The IRIDIUM system requires only “minutes” to transfer the floats’ information to the receiving stations. Data transfer between the float and the satellites is possible thanks to a unique 12-digit Identification Number, which is associated with the float."
   ]
  },
  {
   "cell_type": "markdown",
   "metadata": {},
   "source": [
    "### Environmental impact of the floats\n",
    "\n",
    "The main environmental impact of the more than 4000 floats operational in the array is likely the release of pollutants into the ocean environment, mostly over a period of years after the floats have exhausted their batteries, begun to corrode, and sunk to the seafloor.However, the chemical species injected into the abyssal waters during this process represent generally infinitesimal amounts in comparison to the natural and anthropogenic fluxes of these substances. When comparing the amount released from 900 floats, an upper bound on the number of floats that might die per year and require replacement, Argo’s annual inputs are infinitesimally small compared to the background fluxes of these components into the ocean.  \n",
    "\n",
    "A detailed explanation could by found it the [Environmental impact section of the Argo Steering Team webpage](https://argo.ucsd.edu/about/argos-environmental-impact/) and also in the [Argo’s environmental impact statement](https://argo.ucsd.edu/wp-content/uploads/sites/361/2020/05/final.Argo_Environmental_Impact.2020.05.10-1.pdf)"
   ]
  },
  {
   "cell_type": "code",
   "execution_count": null,
   "metadata": {},
   "outputs": [],
   "source": []
  }
 ],
 "metadata": {
  "kernelspec": {
   "display_name": "Python 3 (ipykernel)",
   "language": "python",
   "name": "python3"
  },
  "language_info": {
   "codemirror_mode": {
    "name": "ipython",
    "version": 3
   },
   "file_extension": ".py",
   "mimetype": "text/x-python",
   "name": "python",
   "nbconvert_exporter": "python",
   "pygments_lexer": "ipython3",
   "version": "3.11.9"
  }
 },
 "nbformat": 4,
 "nbformat_minor": 4
}
