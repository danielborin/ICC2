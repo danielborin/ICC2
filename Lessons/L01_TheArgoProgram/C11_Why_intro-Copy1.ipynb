{
 "cells": [
  {
   "cell_type": "markdown",
   "metadata": {
    "jp-MarkdownHeadingCollapsed": true,
    "tags": []
   },
   "source": [
    "# The Argo Program\n",
    "\n",
    "<img src=\"https://raw.githubusercontent.com/euroargodev/argoonlineschool/master/images/logoArgo.png\" alt=\"Argo status\" width=\"100\"/>"
   ]
  },
  {
   "cell_type": "code",
   "execution_count": 54,
   "metadata": {},
   "outputs": [
    {
     "data": {
      "text/html": [
       "<center>\n",
       "<iframe width=\"560\" height=\"315\" src=\"https://www.youtube.com/embed/Pw9FnpVUOiA\" title=\"YouTube video player\" frameborder=\"0\" allow=\"accelerometer; autoplay; clipboard-write; encrypted-media; gyroscope; picture-in-picture\" allowfullscreen></iframe>\n",
       "</center>\n"
      ],
      "text/plain": [
       "<IPython.core.display.HTML object>"
      ]
     },
     "metadata": {},
     "output_type": "display_data"
    }
   ],
   "source": [
    "%%HTML\n",
    "<center>\n",
    "<iframe width=\"560\" height=\"315\" src=\"https://www.youtube.com/embed/Pw9FnpVUOiA\" title=\"YouTube video player\" frameborder=\"0\" allow=\"accelerometer; autoplay; clipboard-write; encrypted-media; gyroscope; picture-in-picture\" allowfullscreen></iframe>\n",
    "</center>"
   ]
  },
  {
   "cell_type": "markdown",
   "metadata": {},
   "source": [
    "Argo is a  broad-scale global array of profiling floats that measure temperature and salinity versus pressure. Argo is the major component of the ocean observing system. This is the current distribution o the Argo array.\n",
    "\n",
    "<center>\n",
    "    <img src=\"http://sio-argo.ucsd.edu/statusbig.gif\" alt=\"Argo status\" width=\"800\"/>\n",
    "</center>"
   ]
  },
  {
   "cell_type": "code",
   "execution_count": 55,
   "metadata": {},
   "outputs": [
    {
     "data": {
      "text/html": [
       "<center>\n",
       "<iframe width=\"560\" height=\"315\" src=\"https://www.youtube.com/embed/z7N_JT5RFs8\" title=\"YouTube video player\" frameborder=\"0\" allow=\"accelerometer; autoplay; clipboard-write; encrypted-media; gyroscope; picture-in-picture\" allowfullscreen></iframe>\n",
       "</center>\n"
      ],
      "text/plain": [
       "<IPython.core.display.HTML object>"
      ]
     },
     "metadata": {},
     "output_type": "display_data"
    }
   ],
   "source": [
    "%%HTML\n",
    "<center>\n",
    "<iframe width=\"560\" height=\"315\" src=\"https://www.youtube.com/embed/z7N_JT5RFs8\" title=\"YouTube video player\" frameborder=\"0\" allow=\"accelerometer; autoplay; clipboard-write; encrypted-media; gyroscope; picture-in-picture\" allowfullscreen></iframe>\n",
    "</center>"
   ]
  },
  {
   "cell_type": "code",
   "execution_count": 56,
   "metadata": {},
   "outputs": [
    {
     "data": {
      "text/html": [
       "<center>\n",
       "<iframe width=\"560\" height=\"315\" src=\"https://www.youtube.com/embed/ms98HgxUhhs\" title=\"YouTube video player\" frameborder=\"0\" allow=\"accelerometer; autoplay; clipboard-write; encrypted-media; gyroscope; picture-in-picture\" allowfullscreen></iframe>\n",
       "</center>\n"
      ],
      "text/plain": [
       "<IPython.core.display.HTML object>"
      ]
     },
     "metadata": {},
     "output_type": "display_data"
    }
   ],
   "source": [
    "%%HTML\n",
    "<center>\n",
    "<iframe width=\"560\" height=\"315\" src=\"https://www.youtube.com/embed/ms98HgxUhhs\" title=\"YouTube video player\" frameborder=\"0\" allow=\"accelerometer; autoplay; clipboard-write; encrypted-media; gyroscope; picture-in-picture\" allowfullscreen></iframe>\n",
    "</center>"
   ]
  },
  {
   "cell_type": "markdown",
   "metadata": {
    "tags": []
   },
   "source": [
    "## 2. What is the Argo network?"
   ]
  },
  {
   "cell_type": "code",
   "execution_count": 57,
   "metadata": {},
   "outputs": [
    {
     "data": {
      "text/html": [
       "<center>\n",
       "<iframe width=\"560\" height=\"315\" src=\"https://www.youtube.com/embed/U434SQR7mm4\" title=\"YouTube video player\" frameborder=\"0\" allow=\"accelerometer; autoplay; clipboard-write; encrypted-media; gyroscope; picture-in-picture\" allowfullscreen></iframe>\n",
       "</center>\n"
      ],
      "text/plain": [
       "<IPython.core.display.HTML object>"
      ]
     },
     "metadata": {},
     "output_type": "display_data"
    }
   ],
   "source": [
    "%%HTML\n",
    "<center>\n",
    "<iframe width=\"560\" height=\"315\" src=\"https://www.youtube.com/embed/U434SQR7mm4\" title=\"YouTube video player\" frameborder=\"0\" allow=\"accelerometer; autoplay; clipboard-write; encrypted-media; gyroscope; picture-in-picture\" allowfullscreen></iframe>\n",
    "</center>"
   ]
  },
  {
   "cell_type": "code",
   "execution_count": 58,
   "metadata": {},
   "outputs": [
    {
     "data": {
      "text/html": [
       "<center>\n",
       "<iframe width=\"560\" height=\"315\" src=\"https://www.youtube.com/embed/uWKwMM0JBPs\" title=\"YouTube video player\" frameborder=\"0\" allow=\"accelerometer; autoplay; clipboard-write; encrypted-media; gyroscope; picture-in-picture\" allowfullscreen></iframe>\n",
       "</center>\n"
      ],
      "text/plain": [
       "<IPython.core.display.HTML object>"
      ]
     },
     "metadata": {},
     "output_type": "display_data"
    }
   ],
   "source": [
    "%%HTML\n",
    "<center>\n",
    "<iframe width=\"560\" height=\"315\" src=\"https://www.youtube.com/embed/uWKwMM0JBPs\" title=\"YouTube video player\" frameborder=\"0\" allow=\"accelerometer; autoplay; clipboard-write; encrypted-media; gyroscope; picture-in-picture\" allowfullscreen></iframe>\n",
    "</center>"
   ]
  },
  {
   "cell_type": "code",
   "execution_count": 59,
   "metadata": {},
   "outputs": [
    {
     "data": {
      "text/html": [
       "<center>\n",
       "<iframe width=\"560\" height=\"315\" src=\"https://www.youtube.com/embed/BOG6ZWeTH-s\" title=\"YouTube video player\" frameborder=\"0\" allow=\"accelerometer; autoplay; clipboard-write; encrypted-media; gyroscope; picture-in-picture\" allowfullscreen></iframe>\n",
       "</center>\n"
      ],
      "text/plain": [
       "<IPython.core.display.HTML object>"
      ]
     },
     "metadata": {},
     "output_type": "display_data"
    }
   ],
   "source": [
    "%%HTML\n",
    "<center>\n",
    "<iframe width=\"560\" height=\"315\" src=\"https://www.youtube.com/embed/BOG6ZWeTH-s\" title=\"YouTube video player\" frameborder=\"0\" allow=\"accelerometer; autoplay; clipboard-write; encrypted-media; gyroscope; picture-in-picture\" allowfullscreen></iframe>\n",
    "</center>"
   ]
  },
  {
   "cell_type": "markdown",
   "metadata": {
    "tags": []
   },
   "source": [
    "The Argo Program is managed by teams of scientists and data experts who ensure that the program is run as efficiently and effectively as possible and that standards are maintained at the highest possible level. The total annual cost of Argo is estimated at $40million each year.\n",
    "The observations are used in a wide range of applications which focus on examining the relevant weather variability, from seasonal to decadal and multidecadal timescales, climate change, the improvement of models for the interactions between the ocean and the atmosphere and prediction systems. In addition, the Argo floats deliver quality controlled data and products to researchers in the fields of climate and oceanography, and also to the operational communities, such as the Copernicus Marine Monitoring Service (CMEMS). Behind the Argo program there is an array of management and coordination agencies of different types, whose existence has guaranteed the success of the program, from the initial stages to the present. More information about these will be provided in Lesson 2."
   ]
  },
  {
   "cell_type": "markdown",
   "metadata": {},
   "source": [
    "## 3. Why do we need Argo and what are its objectives?"
   ]
  },
  {
   "cell_type": "markdown",
   "metadata": {},
   "source": [
    "[Video 103-01] Introduction - Host - Argo and its objectives"
   ]
  },
  {
   "cell_type": "code",
   "execution_count": 60,
   "metadata": {},
   "outputs": [
    {
     "data": {
      "text/html": [
       "<center>\n",
       "<iframe width=\"560\" height=\"315\" src=\"https://www.youtube.com/embed/LsqYWKf-9yc\" title=\"YouTube video player\" frameborder=\"0\" allow=\"accelerometer; autoplay; clipboard-write; encrypted-media; gyroscope; picture-in-picture\" allowfullscreen></iframe>\n",
       "</center>\n"
      ],
      "text/plain": [
       "<IPython.core.display.HTML object>"
      ]
     },
     "metadata": {},
     "output_type": "display_data"
    }
   ],
   "source": [
    "%%HTML\n",
    "<center>\n",
    "<iframe width=\"560\" height=\"315\" src=\"https://www.youtube.com/embed/LsqYWKf-9yc\" title=\"YouTube video player\" frameborder=\"0\" allow=\"accelerometer; autoplay; clipboard-write; encrypted-media; gyroscope; picture-in-picture\" allowfullscreen></iframe>\n",
    "</center>"
   ]
  },
  {
   "cell_type": "markdown",
   "metadata": {},
   "source": [
    "Argo's general objectives are:\n",
    "\n",
    "- To provide a quantitative description of the changing state of the ocean's surface layer and the patterns of sea climate variability from months to decades, including the storage and transportation of heat and freshwater.\n",
    "- The data collected will be used for the calibration of satellite Jason's altimetric figures by means of measuring the subsurface temperature, salinity and speed of currents.\n",
    "- Argo data will also be used to initialize ocean prediction and the coupled atmosphere-ocean data assimilation models and model testing.\n",
    "- One of Argo´s main approaches is to document climate variability from seasons to decades, thus helping to understand its predictability.\n",
    "- To provide free data via the Global Data Assembly Centres (GDAC) located In Brest, France, and Monterey, California, after having gone through automated quality control (QC). \n"
   ]
  },
  {
   "cell_type": "code",
   "execution_count": 61,
   "metadata": {},
   "outputs": [
    {
     "data": {
      "text/html": [
       "<center>\n",
       "<iframe width=\"560\" height=\"315\" src=\"https://www.youtube.com/embed/E6EPvv1mAE0\" title=\"YouTube video player\" frameborder=\"0\" allow=\"accelerometer; autoplay; clipboard-write; encrypted-media; gyroscope; picture-in-picture\" allowfullscreen></iframe>\n",
       "</center>\n"
      ],
      "text/plain": [
       "<IPython.core.display.HTML object>"
      ]
     },
     "metadata": {},
     "output_type": "display_data"
    }
   ],
   "source": [
    "%%HTML\n",
    "<center>\n",
    "<iframe width=\"560\" height=\"315\" src=\"https://www.youtube.com/embed/E6EPvv1mAE0\" title=\"YouTube video player\" frameborder=\"0\" allow=\"accelerometer; autoplay; clipboard-write; encrypted-media; gyroscope; picture-in-picture\" allowfullscreen></iframe>\n",
    "</center>"
   ]
  },
  {
   "cell_type": "markdown",
   "metadata": {},
   "source": [
    "Argo's array growth is monitored by the Technical Coordinator at [OceanOPS](https://www.ocean-ops.org/board), that is located at the French Research Institute for Exploitation of the Sea ([IFREMER](https://wwz.ifremer.fr/)) in Brest, France. OceanOPS is a Support Centre for the Marine Meteorology and Oceanography Observations Program (MMOP) and is responsible for the system that monitors and coordinates operational ocean observations. A major task of OceanOPS is the implementation of Unesco´s  Interngovernmental Oceanographic Commission's Resolution XX-6. This resolution concludes that: \"concerned coastal states must be informed in advance, through appropriate channels, of all deployments of profiling floats which might drift into waters under their jurisdiction, indicating the exact locations of such deployments\".\n",
    "Thus, OceanOPS offers a formal profiling float deployment notification process and some countries have given formal concurrence for the operation of Argo floats within their Exclusive Economic Zone (EEZ). The framework now in place allows Argo to grow while complying with IOC rules.\n"
   ]
  },
  {
   "cell_type": "markdown",
   "metadata": {},
   "source": [
    "## 4. How the observations are done?"
   ]
  },
  {
   "cell_type": "code",
   "execution_count": 62,
   "metadata": {},
   "outputs": [
    {
     "data": {
      "text/html": [
       "<center>\n",
       "<iframe width=\"560\" height=\"315\" src=\"https://www.youtube.com/embed/M786qcBgSZM\" title=\"YouTube video player\" frameborder=\"0\" allow=\"accelerometer; autoplay; clipboard-write; encrypted-media; gyroscope; picture-in-picture\" allowfullscreen></iframe>\n",
       "</center>\n"
      ],
      "text/plain": [
       "<IPython.core.display.HTML object>"
      ]
     },
     "metadata": {},
     "output_type": "display_data"
    }
   ],
   "source": [
    "%%HTML\n",
    "<center>\n",
    "<iframe width=\"560\" height=\"315\" src=\"https://www.youtube.com/embed/M786qcBgSZM\" title=\"YouTube video player\" frameborder=\"0\" allow=\"accelerometer; autoplay; clipboard-write; encrypted-media; gyroscope; picture-in-picture\" allowfullscreen></iframe>\n",
    "</center>"
   ]
  },
  {
   "cell_type": "markdown",
   "metadata": {},
   "source": [
    "Vídeo [104-02]"
   ]
  },
  {
   "cell_type": "markdown",
   "metadata": {},
   "source": [
    "### **What’s inside an ARGO float?**\n",
    "\n",
    "The standard Argo floats are devices of about 20 kg weight and roughly 2 meters height. They dive vertically by changing their buoyancy via an inflatable external bladder, so it can surface and dive. There is no propulsion system at all, so its horizontal displacements are performed by letting itself be carried by the currents. It consists of three subsystems [pointing out the float].\n",
    " \n",
    "**Hydraulic System:** controls the buoyancy through an external inflatable bladder so that the profiler can resurface and submerge. An Argo float's critical capacity is its ability to rise and sink in the ocean in scheduled time. Profilers do this by changing their effective density. Density is the mass of an object divided by its volume. The Argo float keeps its mass constant but, by altering its volume, it changes its density. To do this, mineral oil is forced out of the float's pressure case and expands a rubber bladder at the bottom end of the float. As the bladder expands, the float becomes less dense than seawater and rises to the surface. Upon finishing its tasks at the surface, the float withdraws the oil and descends again.\n",
    "\n",
    " \n",
    "**Microprocessors:** The electronics include a microprocessor that stores the data from the sensors until it can be transmitted, a program that controls when the float sinks and rises and a position-fixing and data-transmission system that controls the interaction with the satellite. Each float has a unique number that allows it to be recognized and distinguished from all the other floats.\n",
    "\n",
    " \n",
    "**Data Transmission System:** controls communication with satellites. For the monitoring and control of the Argo array of floats two communication systems are fundamentally used: ARGOS and Iridium. As the float ascends, the  data collected is stored in itself. When the float reaches the surface, the data is transmitted to the satellites.\n",
    "\n",
    "The satellite communication systems related to the Argo floats use satellites that “orbit” around the Earth. The orbital communication satellites move inside an orbit so that the satellite passes above a particular geographic location at regular intervals. The ARGOS system is served by 7 polar orbiting satellites at an altitude of 850 km and completes a revolution around Earth approximately every 100 minutes. With the first Argos unidirectional system, the floats needed 6-10 hours at the surface to be able to transmit the collected data. The newest version, called Argos-3 system, allows floats to transmit data in just a few minutes.\n",
    " \n",
    "On the other hand, the Iridium system has 66 satellites at a height of approximately 781 km. Iridium is the largest commercial satellite constellation in the world and, approximately 80% of Argos’s floats transmit their data via the Iridium system. The design of the Iridium network allows “data calls” to be relayed from one satellite to another until they reach the satellite that registers the float concerned, and the signal is then relayed back to Earth. The IRIDIUM system requires only “minutes” to transfer the floats’ information to the receiving stations. Data transfer between the float and the satellites is possible thanks to a unique 12-digit Identification Number, which is associated with the float.\n"
   ]
  },
  {
   "cell_type": "markdown",
   "metadata": {},
   "source": [
    "## 5. What is an oceanographic profile?"
   ]
  },
  {
   "cell_type": "markdown",
   "metadata": {},
   "source": [
    "Vídeo [105-01]"
   ]
  },
  {
   "cell_type": "code",
   "execution_count": 63,
   "metadata": {},
   "outputs": [
    {
     "data": {
      "text/html": [
       "<center>\n",
       "<iframe width=\"560\" height=\"315\" src=\"https://www.youtube.com/embed/1Ke2ER4ZIPc\" title=\"YouTube video player\" frameborder=\"0\" allow=\"accelerometer; autoplay; clipboard-write; encrypted-media; gyroscope; picture-in-picture\" allowfullscreen></iframe>\n",
       "</center>\n"
      ],
      "text/plain": [
       "<IPython.core.display.HTML object>"
      ]
     },
     "metadata": {},
     "output_type": "display_data"
    }
   ],
   "source": [
    "%%HTML\n",
    "<center>\n",
    "<iframe width=\"560\" height=\"315\" src=\"https://www.youtube.com/embed/1Ke2ER4ZIPc\" title=\"YouTube video player\" frameborder=\"0\" allow=\"accelerometer; autoplay; clipboard-write; encrypted-media; gyroscope; picture-in-picture\" allowfullscreen></iframe>\n",
    "</center>"
   ]
  },
  {
   "cell_type": "markdown",
   "metadata": {},
   "source": [
    "## 6. Technological innovations"
   ]
  },
  {
   "cell_type": "markdown",
   "metadata": {},
   "source": [
    "Argo is constantly trying to improve the quality and coverage of its data, which means that some technological challenges need to be addressed in order to have floats operate well in all parts of the global ocean. Remember that almost all floats are deployed into the ocean and not retrieved and thus the floats must be robust, long-lasting and accurate in a sometimes very harsh marine environment. Read through the different innovations below that have helped Argo improve and expand its coverage.\n",
    "\n",
    "- Improving float lifetime.\n",
    "\n",
    "If floats live for a long time, more profiles can be delivered and fewer floats need to be deployed each year. This helps to keep the cost of the Argo Program from growing exponentially each year and reduces the pollution associated with float deployment.  One of the most basic ways of extending float lifetimes is making sure that there is enough battery life inside the floats to power them for years.  When Argo began in the early 2000’s, all floats used alkaline batteries and had a goal float lifetime between  3 – 5 years.  After monitoring technical data sent by floats, it became clear that after about three years, the alkaline batteries ran out of power. A few alternatives were tested  to improve the battery performance and now most Argo floats are powered by lithium or hybrid batteries. These batteries can cope better with colder conditions and also handle large current demands, like those needed to  start the float ascent or descent. In addition, more battery packs were added to some float types that use lots of energy, like kinds of floats that carry 4 to 6 additional sensors.\n",
    "\n",
    "- High speed communications.\n",
    "\n",
    "In the beginning of Argo, floats were equipped with transmitters which had low bandwidth and required the floats to be on the surface for many hours in order to upload all their data (up to 18 hours in the tropics). An unfortunate side effect of this in areas that had large surface currents was that the floats could be swept ashore or over areas that were shallower than their 2000m profile depth. This limited the locations that floats could be deployed in and especially made it hard to operate in marginal seas, which often have shallow areas.  However, communications have now improved and most floats use transmitters which are high bandwidth and only require the floats to be on the surface for 15–30 minutes.  This has greatly reduced floats being washed ashore or lost to grounding (getting stuck on the bottom because the bottom depth is  shallower than 2000m). Another benefit of high speed communications is that much more data can be sent, allowing higher resolution profiles. In addition, float operators can send instructions to the floats to change their mission parameters, which helps to  avoid hazards or sample upcoming weather events. However,  high speed communication systems do not offer high quality positions, so floats now carry GPS devices whose acquired positions are more accurate than those  obtained previously In turn, more accurate surface positions can lead to more accurate water velocity estimations.\n",
    "\n",
    "- Ice detection.\n",
    "\n",
    "Sea-ice covers large parts of the Southern Ocean and the Arctic Ocean for long periods of the year, making it very difficult to obtain observations of the water underneath the ice. Argo floats are suitable instruments to measure the properties in the seasonal ice zone, since they may be deployed during the ice-free period and keep operating autonomously throughout the winter. However, these instruments, which are located at the top of the float, would likely be damaged if the float hits the bottom of the ice layer in its ascent towards the surface. To overcome this issue, an Ice Sensing Algorithm for the Weddell Sea in the Southern Ocean was proposed (Klatt et al., 2007), based on the typical temperature in the upper water column under the sea ice. Floats equipped with an Ice-Sensing Algorithm evaluate the temperature data they measure while approaching the surface. If the temperature is below a predetermined threshold, indicating that sea ice is expected above, the ascending trajectory is aborted thus preventing the instruments from being damaged by hitting the ice from below. The float then procedes to start another cycle and tries to surface again after 10 days. The process repeats until the float senses it is safe to surface when it transmits all the profiles taken under the ice. This ice sensing approach has proven effective in both polar regions, decreasing the mortality rate of the floats that encounter sea ice. In the Southern Ocean, where the water masses underneath the ice are generally stable and homogeneous, exhibiting temperatures near to freezing point, the use of the algorythm is straightforward. In the Arctic, where the hydrography under the ice is more variable and warm water masses may be present underneath the ice, the use of ice sensing algorithms requires that its parameters are locally turned to reflect the regional relations between sea ice and water temperature.\n",
    "\n",
    "- Going to the ocean floor.\n",
    "\n",
    "The average depth of the global ocean is estimated at more than 4000 metres. If the Argo profilers only go up to 2000 metres deep, it means that we are losing much of the information from the water column. This is one of the fundamental reasons why the Deep-Argo pilot program was created. The deeper you go under the ocean´s surface, the higher the pressure the water exerts on you. A standard Argo float would get crushed by the water pressure if it went much deeper tan 2000m. Therefore, a new float design was needed to dive all the way to the ocean floor (4000-6000m). Some design modifications aimed to better perform in high-pressure environments include floats with spherical shapes and hulls made of glass since such shapes and material can stand much higher pressure. The CTD sensor on the float, responsable for the temperature, salinity, and pressure measurements also needed to be redesigned to preserve its integrity and the accuracy of the measurements, which were also affected by the pressure.\n",
    "\n",
    "- Measuring biogeochemical parameters.\n",
    "\n",
    "When Argo floats are completed with biogeochemical sensors, they become BGC-Argo floats. These BGC-Argo core variables are oxygen concentration, nitrate concentration, pH, chlorophyll.a concentration, suspended particles concentration, and downwelling irradiance. These variables include some of the so-called Essential Ocean Variables (EOVs), Ecosystem EOVs (eEOVs), or Essential climate variables (ECVs) that allow to better constrain the biogeochemical cycles of carbon, oxygen, nitrogen and biomass. These variables are the fundamental measurements that are required to address significant scientific and social issues related to the ocean and the climate. Some of the general objectives of the BGC-Argo are:\n",
    "\n",
    "\n",
    "Will ocean carbon uptake continue at the same relative rate as the ocean warms up?\n",
    " \n",
    "How does the volumen of Oxygen Minimum Zones change in time?\n",
    " \n",
    "How does this affect the cycling of nitrate?\n",
    " \n",
    "What is the variability and trend in ocean pH?\n",
    " \n",
    "How does the changing carbonate saturation state affect biogeochemical processes?\n",
    " \n",
    "What are the inter-annual variations in the biological carbon pump? Will its strength be reduced in a warmer ocean?\n",
    " \n",
    "What is the composition of phytoplankton communities? How will it affect higher trophic levels and carbon cycling? (Phytoplankton communities)\n"
   ]
  },
  {
   "cell_type": "markdown",
   "metadata": {},
   "source": [
    "## 7. Recap Lesson 1"
   ]
  },
  {
   "cell_type": "code",
   "execution_count": 64,
   "metadata": {},
   "outputs": [
    {
     "data": {
      "text/html": [
       "<center>\n",
       "<iframe width=\"560\" height=\"315\" src=\"https://www.youtube.com/embed/Yj4h6fprtt8\" title=\"YouTube video player\" frameborder=\"0\" allow=\"accelerometer; autoplay; clipboard-write; encrypted-media; gyroscope; picture-in-picture\" allowfullscreen></iframe>\n",
       "</center>\n"
      ],
      "text/plain": [
       "<IPython.core.display.HTML object>"
      ]
     },
     "metadata": {},
     "output_type": "display_data"
    }
   ],
   "source": [
    "%%HTML\n",
    "<center>\n",
    "<iframe width=\"560\" height=\"315\" src=\"https://www.youtube.com/embed/Yj4h6fprtt8\" title=\"YouTube video player\" frameborder=\"0\" allow=\"accelerometer; autoplay; clipboard-write; encrypted-media; gyroscope; picture-in-picture\" allowfullscreen></iframe>\n",
    "</center>"
   ]
  },
  {
   "cell_type": "code",
   "execution_count": null,
   "metadata": {},
   "outputs": [],
   "source": []
  }
 ],
 "metadata": {
  "kernelspec": {
   "display_name": "Python 3",
   "language": "python",
   "name": "python3"
  },
  "language_info": {
   "codemirror_mode": {
    "name": "ipython",
    "version": 3
   },
   "file_extension": ".py",
   "mimetype": "text/x-python",
   "name": "python",
   "nbconvert_exporter": "python",
   "pygments_lexer": "ipython3",
   "version": "3.8.3"
  }
 },
 "nbformat": 4,
 "nbformat_minor": 4
}
