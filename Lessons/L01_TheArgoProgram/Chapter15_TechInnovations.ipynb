{
 "cells": [
  {
   "cell_type": "markdown",
   "metadata": {},
   "source": [
    "## Technological innovations"
   ]
  },
  {
   "cell_type": "code",
   "execution_count": 1,
   "metadata": {
    "tags": [
     "hide_input"
    ]
   },
   "outputs": [
    {
     "data": {
      "text/html": [
       "<center>\n",
       "<iframe width=\"560\" height=\"315\" src=\"https://drive.google.com/file/d/1A043Rlbuj7SXiRFz7V0yCbr3hnjZWyTf/preview\" width=\"640\" height=\"480\" title=\"The Argo Data\" frameborder=\"0\" allow=\"accelerometer; autoplay; clipboard-write; encrypted-media; gyroscope; picture-in-picture\" allowfullscreen></iframe>\n",
       "</center>\n"
      ],
      "text/plain": [
       "<IPython.core.display.HTML object>"
      ]
     },
     "metadata": {},
     "output_type": "display_data"
    }
   ],
   "source": [
    "%%HTML\n",
    "<center>\n",
    "<iframe width=\"560\" height=\"315\" src=\"https://drive.google.com/file/d/1A043Rlbuj7SXiRFz7V0yCbr3hnjZWyTf/preview\" width=\"640\" height=\"480\" title=\"The Argo Data\" frameborder=\"0\" allow=\"accelerometer; autoplay; clipboard-write; encrypted-media; gyroscope; picture-in-picture\" allowfullscreen></iframe>\n",
    "</center>"
   ]
  },
  {
   "cell_type": "markdown",
   "metadata": {},
   "source": [
    "Argo is constantly trying to improve the quality and coverage of its data, which means that some technological challenges need to be addressed in order to have floats operate well in all parts of the global ocean. Remember that almost all floats are deployed into the ocean and not retrieved and thus the floats must be robust, long-lasting and accurate in a sometimes very harsh marine environment. Read through the different innovations below that have helped Argo improve and expand its coverage.\n",
    "\n",
    "- **Improving float lifetime.**\n",
    "\n",
    "If floats live for a long time, more profiles can be delivered and fewer floats need to be deployed each year. This helps to keep the cost of the Argo Program from growing exponentially each year and reduces the pollution associated with float deployment.  One of the most basic ways of extending float lifetimes is making sure that there is enough battery life inside the floats to power them for years.  When Argo began in the early 2000s, all floats used alkaline batteries and had a goal float lifetime between  3 – 5 years.  After monitoring technical data sent by floats, it became clear that after about three years, the alkaline batteries ran out of power. A few alternatives were tested to improve the battery performance and now most Argo floats are powered by lithium or hybrid batteries. These batteries can cope better with colder conditions and also handle large current demands, like those needed to start the float ascent or descent. In addition, more battery packs were added to some float types that use lots of energy, like kinds of floats that carry 4 to 6 additional sensors.\n",
    "\n",
    "- **High-speed communications.**\n",
    "\n",
    "At the beginning of Argo, floats were equipped with transmitters that had low bandwidth and required the floats to be on the surface for many hours in order to upload all their data (up to 18 hours in the tropics). An unfortunate side effect of this in areas that had large surface currents was that the floats could be swept ashore or over areas that were shallower than their 2000m profile depth. This limited the locations that floats could be deployed in and especially made it hard to operate in marginal seas, which often have shallow areas.  However, communications have now improved and most floats use transmitters that are high bandwidth and only require the floats to be on the surface for 15–30 minutes. This has greatly reduced floats being washed ashore or lost to grounding (getting stuck on the bottom because the bottom depth is shallower than 2000m). Another benefit of high-speed communications is that much more data can be sent, allowing higher resolution profiles. In addition, float operators can send instructions to the floats to change their mission parameters, which helps to avoid hazards or sample upcoming weather events. However, high-speed communication systems do not offer high-quality positions, so floats now carry GPS devices whose acquired positions are more accurate than those obtained previously In turn, more accurate surface positions can lead to more accurate water velocity estimations.\n",
    "\n",
    "- **Ice detection.**\n",
    "\n",
    "Sea-ice covers large parts of the Southern Ocean and the Arctic Ocean for long periods of the year, making it very difficult to obtain observations of the water underneath the ice. Argo floats are suitable instruments to measure the properties in the seasonal ice zone, since they may be deployed during the ice-free period and keep operating autonomously throughout the winter. However, these instruments, which are located at the top of the float, would likely be damaged if the float hits the bottom of the ice layer in its ascent towards the surface. To overcome this issue, an Ice Sensing Algorithm for the Weddell Sea in the Southern Ocean was proposed (Klatt et al., 2007), based on the typical temperature in the upper water column under the sea ice. Floats equipped with an Ice-Sensing Algorithm evaluate the temperature data they measure while approaching the surface. If the temperature is below a predetermined threshold, indicating that sea ice is expected above, the ascending trajectory is aborted thus preventing the instruments from being damaged by hitting the ice from below. The float then proceeeds to start another cycle and tries to surface again after 10 days. The process repeats until the float senses it is safe to surface when it transmits all the profiles taken under the ice. This ice sensing approach has proven effective in both polar regions, decreasing the mortality rate of the floats that encounter sea ice. In the Southern Ocean, where the water masses underneath the ice are generally stable and homogeneous, exhibiting temperatures near to the freezing point, the use of the algorithm is straightforward. In the Arctic, where the hydrography under the ice is more variable and warm water masses may be present underneath the ice, the use of ice sensing algorithms requires that its parameters are locally tuned to reflect the regional relations between sea ice and water temperature.\n",
    "\n",
    "- **Going to the ocean floor.**\n",
    "\n",
    "The average depth of the global ocean is estimated at more than 4000 meters. If the Argo profilers only go up to 2000 meters deep, it means that we are losing much of the information from the water column. This is one of the fundamental reasons why the Deep-Argo program was created. The deeper you go under the ocean´s surface, the higher the pressure the water exerts on you. A standard Argo float would get crushed by the water pressure if it went much deeper than 2000m. Therefore, a new float design was needed to dive all the way to the ocean floor (4000-6000m). Some design modifications aimed to better perform in high-pressure environments include floats with spherical shapes and hulls made of glass since such shapes and materials can stand much higher pressure. The CTD sensor on the float, responsible for the temperature, salinity, and pressure measurements also needed to be redesigned to preserve its integrity and the accuracy of the measurements, which were also affected by the pressure.\n",
    "\n",
    "- **Measuring biogeochemical parameters.**\n",
    "\n",
    "When Argo floats are completed with biogeochemical sensors, they become BGC-Argo floats. These BGC-Argo variables are oxygen concentration, nitrate concentration, pH, chlorophyll a concentration, suspended particles concentration, and downwelling irradiance. These variables include some of the so-called Essential Ocean Variables (EOVs), Ecosystem EOVs (eEOVs), or Essential climate variables (ECVs) that allow to better constrain the biogeochemical cycles of carbon, oxygen, nitrogen and biomass. These variables are the fundamental measurements that are required to address significant scientific and social issues related to the ocean and the climate. Some of the general objectives of the BGC-Argo are:\n",
    "\n",
    "\n",
    "Will ocean carbon uptake continue at the same relative rate as the ocean warms up?\n",
    " \n",
    "How does the volume of Oxygen Minimum Zones change in time?\n",
    " \n",
    "How does this affect the cycling of nitrate?\n",
    " \n",
    "What is the variability and trend in ocean pH?\n",
    " \n",
    "How does the changing carbonate saturation state affect biogeochemical processes?\n",
    " \n",
    "What are the inter-annual variations in the biological carbon pump? Will its strength be reduced in a warmer ocean?\n",
    " \n",
    "What is the composition of phytoplankton communities? How will it affect higher trophic levels and carbon cycling? (Phytoplankton communities)\n"
   ]
  }
 ],
 "metadata": {
  "kernelspec": {
   "display_name": "Python 3",
   "language": "python",
   "name": "python3"
  },
  "language_info": {
   "codemirror_mode": {
    "name": "ipython",
    "version": 3
   },
   "file_extension": ".py",
   "mimetype": "text/x-python",
   "name": "python",
   "nbconvert_exporter": "python",
   "pygments_lexer": "ipython3",
   "version": "3.8.3"
  }
 },
 "nbformat": 4,
 "nbformat_minor": 4
}
