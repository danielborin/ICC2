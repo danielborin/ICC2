{
 "cells": [
  {
   "cell_type": "markdown",
   "metadata": {},
   "source": [
    "#  The Argo data\n",
    "\n",
    "<img src=\"https://raw.githubusercontent.com/euroargodev/argoonlineschool/master/images/logoArgo.png\" alt=\"Argo status\" width=\"100\"/>"
   ]
  },
  {
   "cell_type": "markdown",
   "metadata": {},
   "source": [
    "Argo is a  broad-scale global array of profiling floats that measure temperature and salinity versus pressure. Argo is the major component of the ocean observing system. This is the actual distribution o the Argo array\n",
    "\n",
    "<img src=\"http://sio-argo.ucsd.edu/statusbig.gif\" alt=\"Argo status\" width=\"800\"/>\n"
   ]
  },
  {
   "cell_type": "markdown",
   "metadata": {},
   "source": [
    "The objectives of Argo are:\n",
    "\n",
    "- Provide a quantitative description of the changing state of the upper ocean and the patterns of ocean climate variability from months to decades, including heat and freshwater storage and transport.\n",
    "- Enhance the value of the Jason altimeter through measurement of subsurface temperature, salinity, and velocity, with sufficient coverage and resolution to permit interpretation of altimetric sea surface height variability.\n",
    "- Allow the initializing of ocean and coupled ocean-atmosphere forecast models, for data assimilation and for model testing.\n",
    "- Document seasonal to decadal climate variability and to aid our understanding of its predictability. A wide range of applications for high-quality global ocean analyses is anticipated."
   ]
  },
  {
   "cell_type": "markdown",
   "metadata": {},
   "source": [
    "##  Why is it called Argo?\n",
    "This questions is always in the mind of anyone than hears for the first time about the Argo program, therefore it is important to explain it. In Greek mythology, Argo was the ship in which Jason and the Argonauts sail to search for the golden fleece. In an analogus way, Argo floats sail the sea and complement the observations from the satellite called JASON-1, that measures the shape of the ocean surface.  Data from Argo and JASON-1 together will monitor the ocean currents, the oceans' transport of heat and freshwater around the globe and sea-level rise. \n",
    "\n",
    "Additionally, at the developing phase of the Argo network in 1998, a document prepared by Dean Roemmich of Scripps Institution of Oceanography, and entitled \"A Proposal for Global Ocean Observations for Climate: the Array for Real-time Geostrophic Oceanography\" explored the potential of using profiling floats to monitor the ocean, ... \n",
    "\n",
    "More information in the web page of the [Argo Steering Team](http://www.argo.ucsd.edu/index.html)"
   ]
  },
  {
   "cell_type": "markdown",
   "metadata": {},
   "source": [
    "## The WMO: a unique identifiers for each float.\n",
    "Each one of the Argo floats have a unique indentifier, kwnon as the World Meteorological Organization (WMO). The WMO is assigned at the moment of the deployment of the float, but it is not hard-coded in the float."
   ]
  },
  {
   "cell_type": "markdown",
   "metadata": {},
   "source": [
    "## The basis of the Argo Data System\n",
    "\n",
    "When an Argo float surfaces, the data are received by one of the *Data Assembly Centers* (DAC). At the DACs, they are subjected to initial scrutiny using a set of real time quality control tests where erroneous data are flagged or corrected, then the data are passed to one of the two Argo *Global Data Assembly Center* (GDAC), the Coriolis GDAC (Brest, France, Europe) or the US-Godae GDAC (Mobterey, California, USA). \n",
    "\n",
    "The GDACs are the first stage at which the freely available data can be obtained via the internet. The GDACs synchronize their data holdings to ensure consistent data is available on both sites. The target is for these *real-time* data to be available within 24 hours of their transmission from the float."
   ]
  },
  {
   "cell_type": "markdown",
   "metadata": {},
   "source": [
    "Additionally Argo data can be accesed by several other ways:\n",
    "\n",
    "- via the Global Telecomunication System for operational centers. \n",
    "- via interactive Data selection tools on the GDACs\n",
    "- via gridded fields and velocity products based on Argo NetCDF files from the GDACs\n",
    "- via data viewers that incorporate Argo data\n",
    "- via the [Global Argo Data Repository (GADR)](https://www.nodc.noaa.gov/argo/) for archived and offline data\n",
    "- via monthly copies of the GDACs https://www.seanoe.org/data/00311/42182/\n",
    "\n",
    "See the [Argo data sources](https://argo.ucsd.edu/data/) to read a full description, with links, to this other ways of accesing the data\n",
    "\n",
    "**However, in this book we focus in the accesss to the primary source of the Argo data, the GDACs**"
   ]
  },
  {
   "cell_type": "markdown",
   "metadata": {},
   "source": [
    "##  The netCDF format\n",
    "\n",
    "At the early stage of the Argo program, and due to the huge ammount of data that was foressen  Argo would create, it was decided that netCDF would be the offical file format for the Argo data. In the next lesson we give an introduction to the properties of this data format, and how to read files in netCDF."
   ]
  },
  {
   "cell_type": "markdown",
   "metadata": {},
   "source": [
    "***\n",
    "### Acknowledging Argo data \n",
    "\n",
    "Since data are freely available without restriction, to track uptake and impact, we ask that where Argo data are used in a publication or product, an acknowledgement be given. \n",
    "\n",
    "The Argo Data Management Team assigns Digital Object Identifiers (DOIs) to Argo documents and datasets. These can easily be included in publications and keeps a direct and permanent link to the Argo document or data set used in that publication (to ensure reproducibility). The data sets are archived in monthly snapshots each with its own DOI. To acknowledge Argo, please use the following sentence and the appropriate Argo DOI afterwards as described below.\n",
    "\n",
    "*“These data were collected and made freely available by the International Argo Program and the national programs that contribute to it.  (https://argo.ucsd.edu,  https://www.ocean-ops.org).  The Argo Program is part of the Global Ocean Observing System“*\n",
    "\n",
    "Refere to [How to cite Argo data](https://argo.ucsd.edu/data/acknowledging-argo/) for further information."
   ]
  }
 ],
 "metadata": {
  "kernelspec": {
   "display_name": "Python 3",
   "language": "python",
   "name": "python3"
  },
  "language_info": {
   "codemirror_mode": {
    "name": "ipython",
    "version": 3
   },
   "file_extension": ".py",
   "mimetype": "text/x-python",
   "name": "python",
   "nbconvert_exporter": "python",
   "pygments_lexer": "ipython3",
   "version": "3.8.3"
  }
 },
 "nbformat": 4,
 "nbformat_minor": 4
}
