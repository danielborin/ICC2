{
 "cells": [
  {
   "cell_type": "markdown",
   "metadata": {},
   "source": [
    "# Accesing Argo data by date"
   ]
  },
  {
   "cell_type": "markdown",
   "metadata": {
    "tags": [
     "hide_input"
    ]
   },
   "source": [
    "The Argo Online School 301 -  Using Argo Data.  Using Argo data:  Accesing Argo data by date\n",
    "\n",
    "<center>\n",
    "<iframe width=\"560\" height=\"315\" src=\"https://drive.google.com/file/d/1YHldthHqlfWZU0dxjFNMtLmElJkf3btO/preview\" width=\"640\" height=\"480\" title=\"The Argo Data\" frameborder=\"0\" allow=\"accelerometer; autoplay; clipboard-write; encrypted-media; gyroscope; picture-in-picture\" allowfullscreen></iframe>\n",
    "</center>"
   ]
  },
  {
   "cell_type": "markdown",
   "metadata": {},
   "source": [
    "**Data files organized by date**\n",
    "\n",
    "\n",
    "When accessing the **geo** folder, via the *FTP* or *HTTP* protocols, of any of the two GDACs you will find several (3) folders, one for each of the basins:\n",
    "\n",
    "- The Pacific/Atlantic, limited at 70°W.\n",
    "- The Pacific/Indian, limited at 145°E.\n",
    "- The Atlantic/Indian, limited at 20°E. \n",
    "\n",
    "In each directory the data is organized by **year**, **month** and **day**, according to the date of the rofile.\n",
    "\n",
    "\n",
    "<img src=\"https://github.com/euroargodev/argoonlineschool/raw/master/images/geo.png\" alt=\"geo organization\" width=\"650\"/>\n"
   ]
  },
  {
   "cell_type": "markdown",
   "metadata": {},
   "source": [
    "In the following notebook we explore how to accese the data under **geo* "
   ]
  },
  {
   "cell_type": "code",
   "execution_count": null,
   "metadata": {},
   "outputs": [],
   "source": []
  }
 ],
 "metadata": {
  "kernelspec": {
   "display_name": "Python 3 (ipykernel)",
   "language": "python",
   "name": "python3"
  },
  "language_info": {
   "codemirror_mode": {
    "name": "ipython",
    "version": 3
   },
   "file_extension": ".py",
   "mimetype": "text/x-python",
   "name": "python",
   "nbconvert_exporter": "python",
   "pygments_lexer": "ipython3",
   "version": "3.12.5"
  }
 },
 "nbformat": 4,
 "nbformat_minor": 4
}
