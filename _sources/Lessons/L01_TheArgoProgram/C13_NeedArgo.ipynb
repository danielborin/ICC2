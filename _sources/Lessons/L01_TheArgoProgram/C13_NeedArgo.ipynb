{
 "cells": [
  {
   "cell_type": "markdown",
   "metadata": {},
   "source": [
    "## Why do we need Argo and what are its objectives?"
   ]
  },
  {
   "cell_type": "markdown",
   "metadata": {},
   "source": [
    "[Video 103-01] Introduction - Host - Argo and its objectives"
   ]
  },
  {
   "cell_type": "code",
   "execution_count": 2,
   "metadata": {},
   "outputs": [
    {
     "data": {
      "text/html": [
       "<center>\n",
       "<iframe width=\"560\" height=\"315\" src=\"https://www.youtube.com/embed/LsqYWKf-9yc\" title=\"YouTube video player\" frameborder=\"0\" allow=\"accelerometer; autoplay; clipboard-write; encrypted-media; gyroscope; picture-in-picture\" allowfullscreen></iframe>\n",
       "</center>\n"
      ],
      "text/plain": [
       "<IPython.core.display.HTML object>"
      ]
     },
     "metadata": {},
     "output_type": "display_data"
    }
   ],
   "source": [
    "%%HTML\n",
    "<center>\n",
    "<iframe width=\"560\" height=\"315\" src=\"https://www.youtube.com/embed/LsqYWKf-9yc\" title=\"YouTube video player\" frameborder=\"0\" allow=\"accelerometer; autoplay; clipboard-write; encrypted-media; gyroscope; picture-in-picture\" allowfullscreen></iframe>\n",
    "</center>"
   ]
  },
  {
   "cell_type": "markdown",
   "metadata": {},
   "source": [
    "Argo's general objectives are:\n",
    "\n",
    "- To provide a quantitative description of the changing state of the ocean's surface layer and the patterns of sea climate variability from months to decades, including the storage and transportation of heat and freshwater.\n",
    "- The data collected will be used for the calibration of satellite Jason's altimetric figures by means of measuring the subsurface temperature, salinity and speed of currents.\n",
    "- Argo data will also be used to initialize ocean prediction and the coupled atmosphere-ocean data assimilation models and model testing.\n",
    "- One of Argo´s main approaches is to document climate variability from seasons to decades, thus helping to understand its predictability.\n",
    "- To provide free data via the Global Data Assembly Centres (GDAC) located In Brest, France, and Monterey, California, after having gone through automated quality control (QC). \n"
   ]
  },
  {
   "cell_type": "code",
   "execution_count": 61,
   "metadata": {},
   "outputs": [
    {
     "data": {
      "text/html": [
       "<center>\n",
       "<iframe width=\"560\" height=\"315\" src=\"https://www.youtube.com/embed/E6EPvv1mAE0\" title=\"YouTube video player\" frameborder=\"0\" allow=\"accelerometer; autoplay; clipboard-write; encrypted-media; gyroscope; picture-in-picture\" allowfullscreen></iframe>\n",
       "</center>\n"
      ],
      "text/plain": [
       "<IPython.core.display.HTML object>"
      ]
     },
     "metadata": {},
     "output_type": "display_data"
    }
   ],
   "source": [
    "%%HTML\n",
    "<center>\n",
    "<iframe width=\"560\" height=\"315\" src=\"https://www.youtube.com/embed/E6EPvv1mAE0\" title=\"YouTube video player\" frameborder=\"0\" allow=\"accelerometer; autoplay; clipboard-write; encrypted-media; gyroscope; picture-in-picture\" allowfullscreen></iframe>\n",
    "</center>"
   ]
  },
  {
   "cell_type": "markdown",
   "metadata": {},
   "source": [
    "Argo's array growth is monitored by the Technical Coordinator at [OceanOPS](https://www.ocean-ops.org/board), that is located at the French Research Institute for Exploitation of the Sea ([IFREMER](https://wwz.ifremer.fr/)) in Brest, France. OceanOPS is a Support Centre for the Marine Meteorology and Oceanography Observations Program (MMOP) and is responsible for the system that monitors and coordinates operational ocean observations. A major task of OceanOPS is the implementation of Unesco´s  Interngovernmental Oceanographic Commission's Resolution XX-6. This resolution concludes that: \"concerned coastal states must be informed in advance, through appropriate channels, of all deployments of profiling floats which might drift into waters under their jurisdiction, indicating the exact locations of such deployments\".\n",
    "Thus, OceanOPS offers a formal profiling float deployment notification process and some countries have given formal concurrence for the operation of Argo floats within their Exclusive Economic Zone (EEZ). The framework now in place allows Argo to grow while complying with IOC rules.\n"
   ]
  }
 ],
 "metadata": {
  "kernelspec": {
   "display_name": "Python 3",
   "language": "python",
   "name": "python3"
  },
  "language_info": {
   "codemirror_mode": {
    "name": "ipython",
    "version": 3
   },
   "file_extension": ".py",
   "mimetype": "text/x-python",
   "name": "python",
   "nbconvert_exporter": "python",
   "pygments_lexer": "ipython3",
   "version": "3.8.3"
  }
 },
 "nbformat": 4,
 "nbformat_minor": 4
}
