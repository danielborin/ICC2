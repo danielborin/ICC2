{
 "cells": [
  {
   "cell_type": "markdown",
   "metadata": {},
   "source": [
    "## Pruebas de como poner videos"
   ]
  },
  {
   "cell_type": "markdown",
   "metadata": {},
   "source": [
    "#### Using python"
   ]
  },
  {
   "cell_type": "code",
   "execution_count": 23,
   "metadata": {},
   "outputs": [
    {
     "data": {
      "text/html": [
       "<iframe src=\"https://drive.google.com/file/d/1vjOB1VEXqmfyDm5y30uRMSIeJGU_EShI/preview\" width=\"800\" height=\"480\" allow=\"autoplay\"></iframe>"
      ],
      "text/plain": [
       "<IPython.core.display.HTML object>"
      ]
     },
     "execution_count": 23,
     "metadata": {},
     "output_type": "execute_result"
    }
   ],
   "source": [
    "from IPython.display import HTML\n",
    "\n",
    "# Youtube\n",
    "HTML('<iframe src=\"https://drive.google.com/file/d/1vjOB1VEXqmfyDm5y30uRMSIeJGU_EShI/preview\" width=\"800\" height=\"480\" allow=\"autoplay\"></iframe>')"
   ]
  },
  {
   "cell_type": "markdown",
   "metadata": {},
   "source": [
    "#### Using python - another option with magic"
   ]
  },
  {
   "cell_type": "code",
   "execution_count": 25,
   "metadata": {},
   "outputs": [
    {
     "data": {
      "text/html": [
       "<center>\n",
       "<iframe src=\"https://drive.google.com/file/d/1vjOB1VEXqmfyDm5y30uRMSIeJGU_EShI/preview\" width=\"800\" height=\"480\" allow=\"autoplay\"></iframe>\n",
       "</center>\n"
      ],
      "text/plain": [
       "<IPython.core.display.HTML object>"
      ]
     },
     "metadata": {},
     "output_type": "display_data"
    }
   ],
   "source": [
    "%%HTML\n",
    "<center>\n",
    "<iframe src=\"https://drive.google.com/file/d/1vjOB1VEXqmfyDm5y30uRMSIeJGU_EShI/preview\" width=\"800\" height=\"480\" allow=\"autoplay\"></iframe>\n",
    "</center>"
   ]
  },
  {
   "cell_type": "markdown",
   "metadata": {},
   "source": [
    "#### Using python - another option with a"
   ]
  },
  {
   "cell_type": "code",
   "execution_count": 24,
   "metadata": {},
   "outputs": [
    {
     "data": {
      "text/html": [
       "\n",
       "        <iframe\n",
       "            width=\"400\"\n",
       "            height=\"300\"\n",
       "            src=\"https://www.youtube.com/embed/foo\"\n",
       "            frameborder=\"0\"\n",
       "            allowfullscreen\n",
       "        ></iframe>\n",
       "        "
      ],
      "text/plain": [
       "<IPython.lib.display.YouTubeVideo at 0x1117cb040>"
      ]
     },
     "metadata": {},
     "output_type": "display_data"
    }
   ],
   "source": [
    "from IPython.display import display\n",
    "from IPython.display import YouTubeVideo\n",
    "vid = YouTubeVideo(\"foo\")\n",
    "display(vid)"
   ]
  },
  {
   "cell_type": "markdown",
   "metadata": {},
   "source": [
    "<iframe src=\"https://www.youtube.com/embed/-TE64w4hi2o?si=fsl8viQlDz2QIsxk&amp\" \n",
    "    width=\"560\" \n",
    "    height=\"315\"\n",
    "    frameborder=\"0\" \n",
    "    allowfullscreen>\n",
    "</iframe>"
   ]
  },
  {
   "cell_type": "markdown",
   "metadata": {},
   "source": [
    "#### Vsing markdow - Opcion 1"
   ]
  },
  {
   "cell_type": "markdown",
   "metadata": {},
   "source": [
    "El codigo es:\n",
    "```\n",
    "<a href=\"https://www.youtube.com/embed/-TE64w4hi2o?si=fsl8viQlDz2QIsxk&amp;controls=1\">\n",
    "  <p style=\"text-align:center\"><img src=\"https://raw.githubusercontent.com/euroargodev/argoonlineschool/master/images/logoAoS.png\" alt=\"HTML tutorial\" width=\"400px\"></p>\n",
    "</a>\n",
    "```"
   ]
  },
  {
   "cell_type": "markdown",
   "metadata": {
    "tags": []
   },
   "source": [
    "<a href=\"https://www.youtube.com/embed/-TE64w4hi2o?si=fsl8viQlDz2QIsxk&amp;controls=1\">\n",
    "  <p style=\"text-align:center\"><img src=\"https://raw.githubusercontent.com/euroargodev/argoonlineschool/master/images/logoAoS.png\" alt=\"HTML tutorial\" width=\"400px\"></p>\n",
    "</a>"
   ]
  },
  {
   "cell_type": "markdown",
   "metadata": {
    "tags": []
   },
   "source": [
    "#### Using markdow - Opcion 2 - La prueba definitiva"
   ]
  },
  {
   "cell_type": "markdown",
   "metadata": {},
   "source": [
    "El codigo sería\n",
    "```\n",
    "<iframe width=\"320\" height=\"180\" src=\"https://www.youtube-nocookie.com/embed/FEa2diI2qgA\" title=\"YouTube video player\" frameborder=\"0\" allow=\"accelerometer; autoplay; clipboard-write; encrypted-media; gyroscope; picture-in-picture\" allowfullscreen=\"1\"></iframe>\n",
    "```"
   ]
  },
  {
   "cell_type": "markdown",
   "metadata": {},
   "source": [
    "<center>\n",
    "<iframe width=\"560\" height=\"315\" src=\"https://www.youtube.com/embed/88XFuf6w2v0?si=Jir22e7h-fL9aBg1\" title=\"YouTube video player\" frameborder=\"0\" allow=\"accelerometer; autoplay; clipboard-write; encrypted-media; gyroscope; picture-in-picture; web-share\" referrerpolicy=\"strict-origin-when-cross-origin\" allowfullscreen></iframe>\n",
    "</center>"
   ]
  },
  {
   "cell_type": "markdown",
   "metadata": {},
   "source": [
    "#### Using markdow - Opcion 3 - External linl"
   ]
  },
  {
   "cell_type": "markdown",
   "metadata": {},
   "source": [
    "El codigo seria\n",
    "```\n",
    "[![AoS](https://raw.githubusercontent.com/euroargodev/argoonlineschool/master/images/logoAoS.png)](https://www.youtube.com/watch?v=FEa2diI2qgA \"Título alternativo\")\n",
    "```"
   ]
  },
  {
   "cell_type": "markdown",
   "metadata": {},
   "source": [
    "[![AoS](https://raw.githubusercontent.com/euroargodev/argoonlineschool/master/images/logoAoS.png)](https://www.youtube.com/embed/-TE64w4hi2o?si=fsl8viQlDz2QIsxk&amp;controls=1 \"Título alternativo\")"
   ]
  },
  {
   "cell_type": "markdown",
   "metadata": {},
   "source": [
    "#### Ejemplo final \n",
    "Este video ... "
   ]
  },
  {
   "cell_type": "markdown",
   "metadata": {},
   "source": [
    "<center>\n",
    "<iframe width=\"560\" height=\"315\" src=\"https://www.youtube.com/embed/88XFuf6w2v0?si=Jir22e7h-fL9aBg1\" title=\"YouTube video player\" frameborder=\"0\" allow=\"accelerometer; autoplay; clipboard-write; encrypted-media; gyroscope; picture-in-picture; web-share\" referrerpolicy=\"strict-origin-when-cross-origin\" allowfullscreen></iframe>\n",
    "</center>"
   ]
  },
  {
   "cell_type": "code",
   "execution_count": null,
   "metadata": {},
   "outputs": [],
   "source": []
  }
 ],
 "metadata": {
  "kernelspec": {
   "display_name": "Python 3 (ipykernel)",
   "language": "python",
   "name": "python3"
  },
  "language_info": {
   "codemirror_mode": {
    "name": "ipython",
    "version": 3
   },
   "file_extension": ".py",
   "mimetype": "text/x-python",
   "name": "python",
   "nbconvert_exporter": "python",
   "pygments_lexer": "ipython3",
   "version": "3.11.9"
  }
 },
 "nbformat": 4,
 "nbformat_minor": 4
}
